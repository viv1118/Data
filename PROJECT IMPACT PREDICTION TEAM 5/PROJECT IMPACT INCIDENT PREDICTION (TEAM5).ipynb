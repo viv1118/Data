{
 "cells": [
  {
   "cell_type": "markdown",
   "metadata": {
    "id": "duiH4_CdNly3"
   },
   "source": [
    "## Import dependencies"
   ]
  },
  {
   "cell_type": "code",
   "execution_count": 1,
   "metadata": {
    "id": "xxkn5JgmGtpm"
   },
   "outputs": [],
   "source": [
    "import pandas as pd\n",
    "import numpy as np\n",
    "import matplotlib.pyplot as plt\n",
    "import seaborn as sns\n",
    "%matplotlib inline"
   ]
  },
  {
   "cell_type": "markdown",
   "metadata": {
    "id": "WX4JqbvbNly-"
   },
   "source": [
    "## Load the dataset"
   ]
  },
  {
   "cell_type": "code",
   "execution_count": 2,
   "metadata": {
    "colab": {
     "base_uri": "https://localhost:8080/",
     "height": 312
    },
    "id": "W0pBjRa_AF4r",
    "outputId": "7d26a9ab-3369-405a-f91a-80ac905746d1"
   },
   "outputs": [
    {
     "data": {
      "text/html": [
       "<div>\n",
       "<style scoped>\n",
       "    .dataframe tbody tr th:only-of-type {\n",
       "        vertical-align: middle;\n",
       "    }\n",
       "\n",
       "    .dataframe tbody tr th {\n",
       "        vertical-align: top;\n",
       "    }\n",
       "\n",
       "    .dataframe thead th {\n",
       "        text-align: right;\n",
       "    }\n",
       "</style>\n",
       "<table border=\"1\" class=\"dataframe\">\n",
       "  <thead>\n",
       "    <tr style=\"text-align: right;\">\n",
       "      <th></th>\n",
       "      <th>number</th>\n",
       "      <th>incident_state</th>\n",
       "      <th>active</th>\n",
       "      <th>reassignment_count</th>\n",
       "      <th>reopen_count</th>\n",
       "      <th>sys_mod_count</th>\n",
       "      <th>made_sla</th>\n",
       "      <th>caller_id</th>\n",
       "      <th>opened_by</th>\n",
       "      <th>opened_at</th>\n",
       "      <th>...</th>\n",
       "      <th>u_priority_confirmation</th>\n",
       "      <th>notify</th>\n",
       "      <th>problem_id</th>\n",
       "      <th>rfc</th>\n",
       "      <th>vendor</th>\n",
       "      <th>caused_by</th>\n",
       "      <th>closed_code</th>\n",
       "      <th>resolved_by</th>\n",
       "      <th>resolved_at</th>\n",
       "      <th>closed_at</th>\n",
       "    </tr>\n",
       "  </thead>\n",
       "  <tbody>\n",
       "    <tr>\n",
       "      <th>0</th>\n",
       "      <td>INC0000045</td>\n",
       "      <td>New</td>\n",
       "      <td>True</td>\n",
       "      <td>0</td>\n",
       "      <td>0</td>\n",
       "      <td>0</td>\n",
       "      <td>True</td>\n",
       "      <td>Caller 2403</td>\n",
       "      <td>Opened by  8</td>\n",
       "      <td>29/2/2016 01:16</td>\n",
       "      <td>...</td>\n",
       "      <td>False</td>\n",
       "      <td>Do Not Notify</td>\n",
       "      <td>?</td>\n",
       "      <td>?</td>\n",
       "      <td>?</td>\n",
       "      <td>?</td>\n",
       "      <td>code 5</td>\n",
       "      <td>Resolved by 149</td>\n",
       "      <td>29/2/2016 11:29</td>\n",
       "      <td>5/3/2016 12:00</td>\n",
       "    </tr>\n",
       "    <tr>\n",
       "      <th>1</th>\n",
       "      <td>INC0000045</td>\n",
       "      <td>Resolved</td>\n",
       "      <td>True</td>\n",
       "      <td>0</td>\n",
       "      <td>0</td>\n",
       "      <td>2</td>\n",
       "      <td>True</td>\n",
       "      <td>Caller 2403</td>\n",
       "      <td>Opened by  8</td>\n",
       "      <td>29/2/2016 01:16</td>\n",
       "      <td>...</td>\n",
       "      <td>False</td>\n",
       "      <td>Do Not Notify</td>\n",
       "      <td>?</td>\n",
       "      <td>?</td>\n",
       "      <td>?</td>\n",
       "      <td>?</td>\n",
       "      <td>code 5</td>\n",
       "      <td>Resolved by 149</td>\n",
       "      <td>29/2/2016 11:29</td>\n",
       "      <td>5/3/2016 12:00</td>\n",
       "    </tr>\n",
       "    <tr>\n",
       "      <th>2</th>\n",
       "      <td>INC0000045</td>\n",
       "      <td>Resolved</td>\n",
       "      <td>True</td>\n",
       "      <td>0</td>\n",
       "      <td>0</td>\n",
       "      <td>3</td>\n",
       "      <td>True</td>\n",
       "      <td>Caller 2403</td>\n",
       "      <td>Opened by  8</td>\n",
       "      <td>29/2/2016 01:16</td>\n",
       "      <td>...</td>\n",
       "      <td>False</td>\n",
       "      <td>Do Not Notify</td>\n",
       "      <td>?</td>\n",
       "      <td>?</td>\n",
       "      <td>?</td>\n",
       "      <td>?</td>\n",
       "      <td>code 5</td>\n",
       "      <td>Resolved by 149</td>\n",
       "      <td>29/2/2016 11:29</td>\n",
       "      <td>5/3/2016 12:00</td>\n",
       "    </tr>\n",
       "    <tr>\n",
       "      <th>3</th>\n",
       "      <td>INC0000045</td>\n",
       "      <td>Closed</td>\n",
       "      <td>False</td>\n",
       "      <td>0</td>\n",
       "      <td>0</td>\n",
       "      <td>4</td>\n",
       "      <td>True</td>\n",
       "      <td>Caller 2403</td>\n",
       "      <td>Opened by  8</td>\n",
       "      <td>29/2/2016 01:16</td>\n",
       "      <td>...</td>\n",
       "      <td>False</td>\n",
       "      <td>Do Not Notify</td>\n",
       "      <td>?</td>\n",
       "      <td>?</td>\n",
       "      <td>?</td>\n",
       "      <td>?</td>\n",
       "      <td>code 5</td>\n",
       "      <td>Resolved by 149</td>\n",
       "      <td>29/2/2016 11:29</td>\n",
       "      <td>5/3/2016 12:00</td>\n",
       "    </tr>\n",
       "    <tr>\n",
       "      <th>4</th>\n",
       "      <td>INC0000047</td>\n",
       "      <td>New</td>\n",
       "      <td>True</td>\n",
       "      <td>0</td>\n",
       "      <td>0</td>\n",
       "      <td>0</td>\n",
       "      <td>True</td>\n",
       "      <td>Caller 2403</td>\n",
       "      <td>Opened by  397</td>\n",
       "      <td>29/2/2016 04:40</td>\n",
       "      <td>...</td>\n",
       "      <td>False</td>\n",
       "      <td>Do Not Notify</td>\n",
       "      <td>?</td>\n",
       "      <td>?</td>\n",
       "      <td>?</td>\n",
       "      <td>?</td>\n",
       "      <td>code 5</td>\n",
       "      <td>Resolved by 81</td>\n",
       "      <td>1/3/2016 09:52</td>\n",
       "      <td>6/3/2016 10:00</td>\n",
       "    </tr>\n",
       "  </tbody>\n",
       "</table>\n",
       "<p>5 rows × 36 columns</p>\n",
       "</div>"
      ],
      "text/plain": [
       "       number incident_state  active  reassignment_count  reopen_count  \\\n",
       "0  INC0000045            New    True                   0             0   \n",
       "1  INC0000045       Resolved    True                   0             0   \n",
       "2  INC0000045       Resolved    True                   0             0   \n",
       "3  INC0000045         Closed   False                   0             0   \n",
       "4  INC0000047            New    True                   0             0   \n",
       "\n",
       "   sys_mod_count  made_sla    caller_id       opened_by        opened_at  ...  \\\n",
       "0              0      True  Caller 2403    Opened by  8  29/2/2016 01:16  ...   \n",
       "1              2      True  Caller 2403    Opened by  8  29/2/2016 01:16  ...   \n",
       "2              3      True  Caller 2403    Opened by  8  29/2/2016 01:16  ...   \n",
       "3              4      True  Caller 2403    Opened by  8  29/2/2016 01:16  ...   \n",
       "4              0      True  Caller 2403  Opened by  397  29/2/2016 04:40  ...   \n",
       "\n",
       "  u_priority_confirmation         notify problem_id rfc vendor caused_by  \\\n",
       "0                   False  Do Not Notify          ?   ?      ?         ?   \n",
       "1                   False  Do Not Notify          ?   ?      ?         ?   \n",
       "2                   False  Do Not Notify          ?   ?      ?         ?   \n",
       "3                   False  Do Not Notify          ?   ?      ?         ?   \n",
       "4                   False  Do Not Notify          ?   ?      ?         ?   \n",
       "\n",
       "  closed_code      resolved_by      resolved_at       closed_at  \n",
       "0      code 5  Resolved by 149  29/2/2016 11:29  5/3/2016 12:00  \n",
       "1      code 5  Resolved by 149  29/2/2016 11:29  5/3/2016 12:00  \n",
       "2      code 5  Resolved by 149  29/2/2016 11:29  5/3/2016 12:00  \n",
       "3      code 5  Resolved by 149  29/2/2016 11:29  5/3/2016 12:00  \n",
       "4      code 5   Resolved by 81   1/3/2016 09:52  6/3/2016 10:00  \n",
       "\n",
       "[5 rows x 36 columns]"
      ]
     },
     "execution_count": 2,
     "metadata": {},
     "output_type": "execute_result"
    }
   ],
   "source": [
    "event=pd.read_csv(\"incident_event_log.csv\")\n",
    "event.head()"
   ]
  },
  {
   "cell_type": "markdown",
   "metadata": {
    "id": "oAWFddkAEfpY"
   },
   "source": [
    "We have '?' in some of the columns and we have to replace it with nan values."
   ]
  },
  {
   "cell_type": "code",
   "execution_count": 3,
   "metadata": {
    "colab": {
     "base_uri": "https://localhost:8080/"
    },
    "id": "2YcHNgW_ASTQ",
    "outputId": "318b2251-03fc-47f9-9c1d-987b4cfaca62"
   },
   "outputs": [
    {
     "data": {
      "text/plain": [
       "(141712, 36)"
      ]
     },
     "execution_count": 3,
     "metadata": {},
     "output_type": "execute_result"
    }
   ],
   "source": [
    "event.shape"
   ]
  },
  {
   "cell_type": "markdown",
   "metadata": {
    "id": "-o92c0xHE4lT"
   },
   "source": [
    "There are 1,41,712 rows and 32 columns in our dataset"
   ]
  },
  {
   "cell_type": "code",
   "execution_count": 4,
   "metadata": {
    "colab": {
     "base_uri": "https://localhost:8080/"
    },
    "id": "TAFKksePEydB",
    "outputId": "c8468f1a-b797-49a6-8b7e-93363e022a20"
   },
   "outputs": [
    {
     "data": {
      "text/plain": [
       "Index(['number', 'incident_state', 'active', 'reassignment_count',\n",
       "       'reopen_count', 'sys_mod_count', 'made_sla', 'caller_id', 'opened_by',\n",
       "       'opened_at', 'sys_created_by', 'sys_created_at', 'sys_updated_by',\n",
       "       'sys_updated_at', 'contact_type', 'location', 'category', 'subcategory',\n",
       "       'u_symptom', 'cmdb_ci', 'impact', 'urgency', 'priority',\n",
       "       'assignment_group', 'assigned_to', 'knowledge',\n",
       "       'u_priority_confirmation', 'notify', 'problem_id', 'rfc', 'vendor',\n",
       "       'caused_by', 'closed_code', 'resolved_by', 'resolved_at', 'closed_at'],\n",
       "      dtype='object')"
      ]
     },
     "execution_count": 4,
     "metadata": {},
     "output_type": "execute_result"
    }
   ],
   "source": [
    "event.columns"
   ]
  },
  {
   "cell_type": "code",
   "execution_count": 5,
   "metadata": {
    "colab": {
     "base_uri": "https://localhost:8080/"
    },
    "id": "I6YZYSkDASQY",
    "outputId": "35046b31-e621-48f5-b8bf-ed9c7f418b09"
   },
   "outputs": [
    {
     "data": {
      "text/plain": [
       "0"
      ]
     },
     "execution_count": 5,
     "metadata": {},
     "output_type": "execute_result"
    }
   ],
   "source": [
    "event.duplicated().sum()"
   ]
  },
  {
   "cell_type": "markdown",
   "metadata": {
    "id": "LNFqPVruE-fh"
   },
   "source": [
    "There are no duplicated entries."
   ]
  },
  {
   "cell_type": "code",
   "execution_count": 6,
   "metadata": {
    "colab": {
     "base_uri": "https://localhost:8080/"
    },
    "id": "scOp49n4nNEp",
    "outputId": "8eaee3d3-9c45-476e-cdcf-88906d978545"
   },
   "outputs": [
    {
     "data": {
      "text/plain": [
       "number                     object\n",
       "incident_state             object\n",
       "active                       bool\n",
       "reassignment_count          int64\n",
       "reopen_count                int64\n",
       "sys_mod_count               int64\n",
       "made_sla                     bool\n",
       "caller_id                  object\n",
       "opened_by                  object\n",
       "opened_at                  object\n",
       "sys_created_by             object\n",
       "sys_created_at             object\n",
       "sys_updated_by             object\n",
       "sys_updated_at             object\n",
       "contact_type               object\n",
       "location                   object\n",
       "category                   object\n",
       "subcategory                object\n",
       "u_symptom                  object\n",
       "cmdb_ci                    object\n",
       "impact                     object\n",
       "urgency                    object\n",
       "priority                   object\n",
       "assignment_group           object\n",
       "assigned_to                object\n",
       "knowledge                    bool\n",
       "u_priority_confirmation      bool\n",
       "notify                     object\n",
       "problem_id                 object\n",
       "rfc                        object\n",
       "vendor                     object\n",
       "caused_by                  object\n",
       "closed_code                object\n",
       "resolved_by                object\n",
       "resolved_at                object\n",
       "closed_at                  object\n",
       "dtype: object"
      ]
     },
     "execution_count": 6,
     "metadata": {},
     "output_type": "execute_result"
    }
   ],
   "source": [
    "#Get the data types of all the features\n",
    "event.dtypes"
   ]
  },
  {
   "cell_type": "code",
   "execution_count": 7,
   "metadata": {
    "colab": {
     "base_uri": "https://localhost:8080/"
    },
    "id": "5zTZweCMKQe6",
    "outputId": "6848ad4f-14ea-4f27-b25f-a7f54504a565"
   },
   "outputs": [
    {
     "name": "stdout",
     "output_type": "stream",
     "text": [
      "<class 'pandas.core.frame.DataFrame'>\n",
      "RangeIndex: 141712 entries, 0 to 141711\n",
      "Data columns (total 36 columns):\n",
      " #   Column                   Non-Null Count   Dtype \n",
      "---  ------                   --------------   ----- \n",
      " 0   number                   141712 non-null  object\n",
      " 1   incident_state           141712 non-null  object\n",
      " 2   active                   141712 non-null  bool  \n",
      " 3   reassignment_count       141712 non-null  int64 \n",
      " 4   reopen_count             141712 non-null  int64 \n",
      " 5   sys_mod_count            141712 non-null  int64 \n",
      " 6   made_sla                 141712 non-null  bool  \n",
      " 7   caller_id                141712 non-null  object\n",
      " 8   opened_by                141712 non-null  object\n",
      " 9   opened_at                141712 non-null  object\n",
      " 10  sys_created_by           141712 non-null  object\n",
      " 11  sys_created_at           141712 non-null  object\n",
      " 12  sys_updated_by           141712 non-null  object\n",
      " 13  sys_updated_at           141712 non-null  object\n",
      " 14  contact_type             141712 non-null  object\n",
      " 15  location                 141712 non-null  object\n",
      " 16  category                 141712 non-null  object\n",
      " 17  subcategory              141712 non-null  object\n",
      " 18  u_symptom                141712 non-null  object\n",
      " 19  cmdb_ci                  141712 non-null  object\n",
      " 20  impact                   141712 non-null  object\n",
      " 21  urgency                  141712 non-null  object\n",
      " 22  priority                 141712 non-null  object\n",
      " 23  assignment_group         141712 non-null  object\n",
      " 24  assigned_to              141712 non-null  object\n",
      " 25  knowledge                141712 non-null  bool  \n",
      " 26  u_priority_confirmation  141712 non-null  bool  \n",
      " 27  notify                   141712 non-null  object\n",
      " 28  problem_id               141712 non-null  object\n",
      " 29  rfc                      141712 non-null  object\n",
      " 30  vendor                   141712 non-null  object\n",
      " 31  caused_by                141712 non-null  object\n",
      " 32  closed_code              141712 non-null  object\n",
      " 33  resolved_by              141712 non-null  object\n",
      " 34  resolved_at              141712 non-null  object\n",
      " 35  closed_at                141712 non-null  object\n",
      "dtypes: bool(4), int64(3), object(29)\n",
      "memory usage: 35.1+ MB\n"
     ]
    }
   ],
   "source": [
    "event.info()"
   ]
  },
  {
   "cell_type": "markdown",
   "metadata": {
    "id": "p-RRgVBGNlzE"
   },
   "source": [
    "## Data cleaning"
   ]
  },
  {
   "cell_type": "code",
   "execution_count": 8,
   "metadata": {
    "id": "OtWYFhqEIXxd"
   },
   "outputs": [],
   "source": [
    "#Create a copy of the original dataset\n",
    "incident=event.copy()"
   ]
  },
  {
   "cell_type": "code",
   "execution_count": 9,
   "metadata": {
    "id": "IlU4gtYfAZ_G"
   },
   "outputs": [],
   "source": [
    "#Replace '?' with Nan values\n",
    "incident.replace('?',np.nan,inplace=True)"
   ]
  },
  {
   "cell_type": "code",
   "execution_count": 10,
   "metadata": {
    "colab": {
     "base_uri": "https://localhost:8080/"
    },
    "id": "kxUVy4OFAfke",
    "outputId": "3e9258d2-5b2a-4b03-84a8-5baf4ea58d8e"
   },
   "outputs": [
    {
     "data": {
      "text/plain": [
       "caused_by                  141689\n",
       "vendor                     141468\n",
       "cmdb_ci                    141267\n",
       "rfc                        140721\n",
       "problem_id                 139417\n",
       "sys_created_at              53076\n",
       "sys_created_by              53076\n",
       "u_symptom                   32964\n",
       "assigned_to                 27496\n",
       "assignment_group            14213\n",
       "opened_by                    4835\n",
       "resolved_at                  3141\n",
       "closed_code                   714\n",
       "resolved_by                   226\n",
       "subcategory                   111\n",
       "category                       78\n",
       "location                       76\n",
       "caller_id                      29\n",
       "reassignment_count              0\n",
       "active                          0\n",
       "incident_state                  0\n",
       "reopen_count                    0\n",
       "sys_mod_count                   0\n",
       "made_sla                        0\n",
       "opened_at                       0\n",
       "closed_at                       0\n",
       "sys_updated_by                  0\n",
       "sys_updated_at                  0\n",
       "contact_type                    0\n",
       "impact                          0\n",
       "urgency                         0\n",
       "priority                        0\n",
       "knowledge                       0\n",
       "u_priority_confirmation         0\n",
       "notify                          0\n",
       "number                          0\n",
       "dtype: int64"
      ]
     },
     "execution_count": 10,
     "metadata": {},
     "output_type": "execute_result"
    }
   ],
   "source": [
    "#Number of null values in ascending order\n",
    "incident.isnull().sum().sort_values(ascending=False)"
   ]
  },
  {
   "cell_type": "code",
   "execution_count": 11,
   "metadata": {
    "colab": {
     "base_uri": "https://localhost:8080/"
    },
    "id": "xTdl087ZFXof",
    "outputId": "05fcb81b-b57f-411a-8ab8-11f839034815"
   },
   "outputs": [
    {
     "data": {
      "text/plain": [
       "caused_by                  99.983770\n",
       "vendor                     99.827820\n",
       "cmdb_ci                    99.685983\n",
       "rfc                        99.300694\n",
       "problem_id                 98.380518\n",
       "sys_created_at             37.453427\n",
       "sys_created_by             37.453427\n",
       "u_symptom                  23.261262\n",
       "assigned_to                19.402732\n",
       "assignment_group           10.029496\n",
       "opened_by                   3.411849\n",
       "resolved_at                 2.216467\n",
       "closed_code                 0.503839\n",
       "resolved_by                 0.159478\n",
       "subcategory                 0.078328\n",
       "category                    0.055041\n",
       "location                    0.053630\n",
       "caller_id                   0.020464\n",
       "reassignment_count          0.000000\n",
       "active                      0.000000\n",
       "incident_state              0.000000\n",
       "reopen_count                0.000000\n",
       "sys_mod_count               0.000000\n",
       "made_sla                    0.000000\n",
       "opened_at                   0.000000\n",
       "closed_at                   0.000000\n",
       "sys_updated_by              0.000000\n",
       "sys_updated_at              0.000000\n",
       "contact_type                0.000000\n",
       "impact                      0.000000\n",
       "urgency                     0.000000\n",
       "priority                    0.000000\n",
       "knowledge                   0.000000\n",
       "u_priority_confirmation     0.000000\n",
       "notify                      0.000000\n",
       "number                      0.000000\n",
       "dtype: float64"
      ]
     },
     "execution_count": 11,
     "metadata": {},
     "output_type": "execute_result"
    }
   ],
   "source": [
    "#Percentage of null values\n",
    "null_perc=incident.isnull().sum()/incident.shape[0]*100\n",
    "null_perc.sort_values(ascending=False)"
   ]
  },
  {
   "cell_type": "markdown",
   "metadata": {
    "id": "RfRLISgIm4QS"
   },
   "source": [
    "We can see that the top five features have huge number of missing values. Also, closed_code is not useful for the model. Let us go ahead and remove them."
   ]
  },
  {
   "cell_type": "code",
   "execution_count": 12,
   "metadata": {
    "id": "pdS4CrN5JzMI"
   },
   "outputs": [],
   "source": [
    "incident=incident.drop(['caused_by','vendor','cmdb_ci','rfc','problem_id','number','closed_code'],axis=1)"
   ]
  },
  {
   "cell_type": "code",
   "execution_count": 13,
   "metadata": {
    "colab": {
     "base_uri": "https://localhost:8080/",
     "height": 498
    },
    "id": "hbhfKFuvnLTC",
    "outputId": "81ab434e-29de-4519-a064-cdd173166786",
    "scrolled": true
   },
   "outputs": [
    {
     "data": {
      "text/plain": [
       "<AxesSubplot:>"
      ]
     },
     "execution_count": 13,
     "metadata": {},
     "output_type": "execute_result"
    },
    {
     "data": {
      "image/png": "[encoded data removed]",
      "text/plain": [
       "<Figure size 720x432 with 1 Axes>"
      ]
     },
     "metadata": {
      "needs_background": "light"
     },
     "output_type": "display_data"
    }
   ],
   "source": [
    "#Missing values\n",
    "plt.figure(figsize=(10,6))\n",
    "sns.heatmap(incident.isnull(),yticklabels=False,cbar=False,cmap='viridis')"
   ]
  },
  {
   "cell_type": "markdown",
   "metadata": {
    "id": "58cs3P1zoJY1"
   },
   "source": [
    "We can see that sys_created_by and sys_created_at have missing values for the same records. assigned_to and u_symptom also have large number of missing values."
   ]
  },
  {
   "cell_type": "code",
   "execution_count": 14,
   "metadata": {
    "colab": {
     "base_uri": "https://localhost:8080/"
    },
    "id": "f15TfVzTnZvQ",
    "outputId": "85e10334-fd32-43f1-f20d-94dc7ec67236"
   },
   "outputs": [
    {
     "name": "stdout",
     "output_type": "stream",
     "text": [
      "reassignment_count :  28\n",
      "reopen_count :  9\n",
      "sys_mod_count :  115\n"
     ]
    }
   ],
   "source": [
    "for col in ['reassignment_count','reopen_count','sys_mod_count']:\n",
    "  print(col,': ',incident[col].nunique())"
   ]
  },
  {
   "cell_type": "markdown",
   "metadata": {
    "id": "JV2XThTQnVuy"
   },
   "source": [
    "The above features identified under integer data type then found to be categorical datatypes having less number of unique values. Hence, we convert all int and bool dtypes to object. "
   ]
  },
  {
   "cell_type": "code",
   "execution_count": 15,
   "metadata": {
    "id": "zcI6ZxFOheCd"
   },
   "outputs": [],
   "source": [
    "bool_int=['active','made_sla','knowledge','u_priority_confirmation','reassignment_count','reopen_count','sys_mod_count']\n",
    "for col in bool_int:\n",
    "  incident[bool_int]=incident[bool_int].astype('object')"
   ]
  },
  {
   "cell_type": "code",
   "execution_count": 16,
   "metadata": {
    "colab": {
     "base_uri": "https://localhost:8080/"
    },
    "id": "ikA2egFmebzL",
    "outputId": "a42b227b-5176-4068-9e26-71a7869f0e5b"
   },
   "outputs": [
    {
     "name": "stdout",
     "output_type": "stream",
     "text": [
      "incident_state  :-\n",
      "Active                38716\n",
      "New                   36407\n",
      "Resolved              25751\n",
      "Closed                24985\n",
      "Awaiting User Info    14642\n",
      "Awaiting Vendor         707\n",
      "Awaiting Problem        461\n",
      "Awaiting Evidence        38\n",
      "-100                      5\n",
      "Name: incident_state, dtype: int64\n",
      "===========================================================================\n",
      "active  :-\n",
      "True     116726\n",
      "False     24986\n",
      "Name: active, dtype: int64\n",
      "===========================================================================\n",
      "reassignment_count  :-\n",
      "0     69876\n",
      "1     37104\n",
      "2     15097\n",
      "3      8274\n",
      "4      4614\n",
      "5      2595\n",
      "6      1447\n",
      "7       985\n",
      "8       574\n",
      "9       365\n",
      "10      285\n",
      "11      174\n",
      "12      108\n",
      "13       61\n",
      "14       45\n",
      "15       21\n",
      "17       16\n",
      "20       16\n",
      "16       13\n",
      "18       13\n",
      "22        9\n",
      "19        8\n",
      "21        3\n",
      "27        3\n",
      "26        2\n",
      "23        2\n",
      "24        1\n",
      "25        1\n",
      "Name: reassignment_count, dtype: int64\n",
      "===========================================================================\n",
      "reopen_count  :-\n",
      "0    139398\n",
      "1      1918\n",
      "2       190\n",
      "3       107\n",
      "4        48\n",
      "5        24\n",
      "6        18\n",
      "7         5\n",
      "8         4\n",
      "Name: reopen_count, dtype: int64\n",
      "===========================================================================\n",
      "sys_mod_count  :-\n",
      "0      24913\n",
      "1      22062\n",
      "2      19749\n",
      "3      14168\n",
      "4      10735\n",
      "       ...  \n",
      "106        1\n",
      "105        1\n",
      "103        1\n",
      "128        1\n",
      "129        1\n",
      "Name: sys_mod_count, Length: 115, dtype: int64\n",
      "===========================================================================\n",
      "made_sla  :-\n",
      "True     132497\n",
      "False      9215\n",
      "Name: made_sla, dtype: int64\n",
      "===========================================================================\n",
      "caller_id  :-\n",
      "Caller 1904    1425\n",
      "Caller 290      791\n",
      "Caller 4514     716\n",
      "Caller 1441     322\n",
      "Caller 298      293\n",
      "               ... \n",
      "Caller 1360       2\n",
      "Caller 3451       2\n",
      "Caller 1333       2\n",
      "Caller 3289       2\n",
      "Caller 4926       2\n",
      "Name: caller_id, Length: 5244, dtype: int64\n",
      "===========================================================================\n",
      "opened_by  :-\n",
      "Opened by  17     41466\n",
      "Opened by  24      8063\n",
      "Opened by  131     7269\n",
      "Opened by  108     6121\n",
      "Opened by  55      5655\n",
      "                  ...  \n",
      "Opened by  440        3\n",
      "Opened by  80         3\n",
      "Opened by  447        3\n",
      "Opened by  160        3\n",
      "Opened by  486        3\n",
      "Name: opened_by, Length: 207, dtype: int64\n",
      "===========================================================================\n",
      "opened_at  :-\n",
      "14/4/2016 20:42    58\n",
      "4/7/2016 14:38     56\n",
      "7/3/2016 11:58     52\n",
      "7/3/2016 09:11     52\n",
      "7/3/2016 11:04     51\n",
      "                   ..\n",
      "27/4/2016 22:04     2\n",
      "26/4/2016 18:59     2\n",
      "18/5/2016 18:55     2\n",
      "29/3/2016 13:50     2\n",
      "5/4/2016 08:46      2\n",
      "Name: opened_at, Length: 19849, dtype: int64\n",
      "===========================================================================\n",
      "sys_created_by  :-\n",
      "Created by 10     24223\n",
      "Created by 13      4511\n",
      "Created by 62      3943\n",
      "Created by 52      3551\n",
      "Created by 34      3468\n",
      "                  ...  \n",
      "Created by 73         3\n",
      "Created by 175        3\n",
      "Created by 209        3\n",
      "Created by 191        3\n",
      "Created by 194        3\n",
      "Name: sys_created_by, Length: 185, dtype: int64\n",
      "===========================================================================\n",
      "sys_created_at  :-\n",
      "4/7/2016 14:50     56\n",
      "15/3/2016 15:19    52\n",
      "19/4/2016 11:32    47\n",
      "24/5/2016 09:14    47\n",
      "4/3/2016 10:31     46\n",
      "                   ..\n",
      "4/4/2016 08:43      2\n",
      "12/4/2016 17:20     2\n",
      "15/4/2016 14:26     2\n",
      "9/5/2016 21:46      2\n",
      "1/4/2016 08:53      2\n",
      "Name: sys_created_at, Length: 11552, dtype: int64\n",
      "===========================================================================\n",
      "sys_updated_by  :-\n",
      "Updated by 908    36162\n",
      "Updated by 44     12644\n",
      "Updated by 60      7009\n",
      "Updated by 429     4169\n",
      "Updated by 859     2560\n",
      "                  ...  \n",
      "Updated by 83         1\n",
      "Updated by 946        1\n",
      "Updated by 883        1\n",
      "Updated by 327        1\n",
      "Updated by 942        1\n",
      "Name: sys_updated_by, Length: 846, dtype: int64\n",
      "===========================================================================\n",
      "sys_updated_at  :-\n",
      "24/3/2016 18:40    420\n",
      "24/3/2016 19:00    405\n",
      "24/3/2016 18:51    400\n",
      "24/3/2016 19:01    393\n",
      "24/3/2016 18:41    386\n",
      "                  ... \n",
      "15/3/2016 00:47      1\n",
      "2/5/2016 18:29       1\n",
      "2/3/2016 01:10       1\n",
      "31/3/2016 23:07      1\n",
      "26/5/2016 19:59      1\n",
      "Name: sys_updated_at, Length: 50664, dtype: int64\n",
      "===========================================================================\n",
      "contact_type  :-\n",
      "Phone             140462\n",
      "Self service         995\n",
      "Email                220\n",
      "IVR                   18\n",
      "Direct opening        17\n",
      "Name: contact_type, dtype: int64\n",
      "===========================================================================\n",
      "location  :-\n",
      "Location 204    31690\n",
      "Location 161    22605\n",
      "Location 143    19245\n",
      "Location 108    12623\n",
      "Location 93     11554\n",
      "                ...  \n",
      "Location 211        3\n",
      "Location 141        3\n",
      "Location 31         2\n",
      "Location 166        2\n",
      "Location 132        2\n",
      "Name: location, Length: 224, dtype: int64\n",
      "===========================================================================\n",
      "category  :-\n",
      "Category 26    18453\n",
      "Category 42    15977\n",
      "Category 53    15968\n",
      "Category 46    13324\n",
      "Category 23     7779\n",
      "Category 9      7365\n",
      "Category 32     7273\n",
      "Category 37     6584\n",
      "Category 57     6532\n",
      "Category 20     5506\n",
      "Category 61     5168\n",
      "Category 24     4561\n",
      "Category 34     3946\n",
      "Category 40     3760\n",
      "Category 45     3619\n",
      "Category 51     2390\n",
      "Category 28     2256\n",
      "Category 35     2037\n",
      "Category 44     1798\n",
      "Category 19     1592\n",
      "Category 13      994\n",
      "Category 43      858\n",
      "Category 55      801\n",
      "Category 17      512\n",
      "Category 22      420\n",
      "Category 56      322\n",
      "Category 38      290\n",
      "Category 8       264\n",
      "Category 7       207\n",
      "Category 33      160\n",
      "Category 54      139\n",
      "Category 50       93\n",
      "Category 31       92\n",
      "Category 63       78\n",
      "Category 2        77\n",
      "Category 21       69\n",
      "Category 47       50\n",
      "Category 59       42\n",
      "Category 41       36\n",
      "Category 29       32\n",
      "Category 5        31\n",
      "Category 25       30\n",
      "Category 62       25\n",
      "Category 10       24\n",
      "Category 4        22\n",
      "Category 52       16\n",
      "Category 30       15\n",
      "Category 48       10\n",
      "Category 6         7\n",
      "Category 16        7\n",
      "Category 14        5\n",
      "Category 58        5\n",
      "Category 15        3\n",
      "Category 12        3\n",
      "Category 27        2\n",
      "Category 49        2\n",
      "Category 36        2\n",
      "Category 3         1\n",
      "Name: category, dtype: int64\n",
      "===========================================================================\n",
      "subcategory  :-\n",
      "Subcategory 174    35785\n",
      "Subcategory 223    15598\n",
      "Subcategory 175    10496\n",
      "Subcategory 164     7880\n",
      "Subcategory 9       4124\n",
      "                   ...  \n",
      "Subcategory 157        2\n",
      "Subcategory 284        1\n",
      "Subcategory 241        1\n",
      "Subcategory 179        1\n",
      "Subcategory 264        1\n",
      "Name: subcategory, Length: 254, dtype: int64\n",
      "===========================================================================\n",
      "u_symptom  :-\n",
      "Symptom 491    51985\n",
      "Symptom 534     5559\n",
      "Symptom 387     2583\n",
      "Symptom 4       2532\n",
      "Symptom 116     2394\n",
      "               ...  \n",
      "Symptom 155        1\n",
      "Symptom 137        1\n",
      "Symptom 21         1\n",
      "Symptom 488        1\n",
      "Symptom 61         1\n",
      "Name: u_symptom, Length: 525, dtype: int64\n",
      "===========================================================================\n",
      "impact  :-\n",
      "2 - Medium    134335\n",
      "3 - Low         3886\n",
      "1 - High        3491\n",
      "Name: impact, dtype: int64\n",
      "===========================================================================\n",
      "urgency  :-\n",
      "2 - Medium    134094\n",
      "1 - High        4020\n",
      "3 - Low         3598\n",
      "Name: urgency, dtype: int64\n",
      "===========================================================================\n",
      "priority  :-\n",
      "3 - Moderate    132452\n",
      "4 - Low           4030\n",
      "2 - High          2972\n",
      "1 - Critical      2258\n",
      "Name: priority, dtype: int64\n",
      "===========================================================================\n",
      "assignment_group  :-\n",
      "Group 70    43474\n",
      "Group 25     7679\n",
      "Group 24     6752\n",
      "Group 20     6170\n",
      "Group 39     4728\n",
      "            ...  \n",
      "Group 41        3\n",
      "Group 38        2\n",
      "Group 16        1\n",
      "Group 11        1\n",
      "Group 4         1\n",
      "Name: assignment_group, Length: 78, dtype: int64\n",
      "===========================================================================\n",
      "assigned_to  :-\n",
      "Resolver 17     10590\n",
      "Resolver 13      8802\n",
      "Resolver 194     3515\n",
      "Resolver 57      3144\n",
      "Resolver 69      2983\n",
      "                ...  \n",
      "Resolver 131        1\n",
      "Resolver 38         1\n",
      "Resolver 199        1\n",
      "Resolver 129        1\n",
      "Resolver 67         1\n",
      "Name: assigned_to, Length: 234, dtype: int64\n",
      "===========================================================================\n",
      "knowledge  :-\n",
      "False    116349\n",
      "True      25363\n",
      "Name: knowledge, dtype: int64\n",
      "===========================================================================\n",
      "u_priority_confirmation  :-\n",
      "False    100740\n",
      "True      40972\n",
      "Name: u_priority_confirmation, dtype: int64\n",
      "===========================================================================\n",
      "notify  :-\n",
      "Do Not Notify    141593\n",
      "Send Email          119\n",
      "Name: notify, dtype: int64\n",
      "===========================================================================\n",
      "resolved_by  :-\n",
      "Resolved by 15     15421\n",
      "Resolved by 11     12050\n",
      "Resolved by 103     5360\n",
      "Resolved by 177     3811\n",
      "Resolved by 53      3637\n",
      "                   ...  \n",
      "Resolved by 222        4\n",
      "Resolved by 17         4\n",
      "Resolved by 39         3\n",
      "Resolved by 185        3\n",
      "Resolved by 48         3\n",
      "Name: resolved_by, Length: 216, dtype: int64\n",
      "===========================================================================\n",
      "resolved_at  :-\n",
      "3/6/2016 16:29     93\n",
      "3/6/2016 16:28     85\n",
      "3/6/2016 16:27     83\n",
      "3/6/2016 16:31     59\n",
      "12/5/2016 23:51    58\n",
      "                   ..\n",
      "21/3/2016 16:13     2\n",
      "4/4/2016 08:57      2\n",
      "6/4/2016 11:51      2\n",
      "14/4/2016 19:02     2\n",
      "18/4/2016 12:14     2\n",
      "Name: resolved_at, Length: 18505, dtype: int64\n",
      "===========================================================================\n",
      "closed_at  :-\n",
      "24/3/2016 18:59    3324\n",
      "24/3/2016 18:50    2846\n",
      "24/3/2016 18:40    2808\n",
      "24/3/2016 19:00    2780\n",
      "24/3/2016 19:01    2044\n",
      "                   ... \n",
      "27/5/2016 19:07       2\n",
      "22/5/2016 03:07       2\n",
      "30/3/2016 22:59       2\n",
      "26/4/2016 06:07       2\n",
      "20/5/2016 07:07       2\n",
      "Name: closed_at, Length: 2707, dtype: int64\n",
      "===========================================================================\n"
     ]
    }
   ],
   "source": [
    "for i in incident.columns:\n",
    "  print(i,\" :-\")\n",
    "  print(incident[i].value_counts())\n",
    "  print('==='*25)"
   ]
  },
  {
   "cell_type": "code",
   "execution_count": 17,
   "metadata": {
    "colab": {
     "base_uri": "https://localhost:8080/"
    },
    "id": "I1xtAQK9ltD5",
    "outputId": "a8404ab9-ad60-4eb3-be6a-6d66269e1ce0"
   },
   "outputs": [
    {
     "name": "stdout",
     "output_type": "stream",
     "text": [
      "incident_state  :- 9\n",
      "active  :- 2\n",
      "reassignment_count  :- 28\n",
      "reopen_count  :- 9\n",
      "sys_mod_count  :- 115\n",
      "made_sla  :- 2\n",
      "caller_id  :- 5244\n",
      "opened_by  :- 207\n",
      "opened_at  :- 19849\n",
      "sys_created_by  :- 185\n",
      "sys_created_at  :- 11552\n",
      "sys_updated_by  :- 846\n",
      "sys_updated_at  :- 50664\n",
      "contact_type  :- 5\n",
      "location  :- 224\n",
      "category  :- 58\n",
      "subcategory  :- 254\n",
      "u_symptom  :- 525\n",
      "impact  :- 3\n",
      "urgency  :- 3\n",
      "priority  :- 4\n",
      "assignment_group  :- 78\n",
      "assigned_to  :- 234\n",
      "knowledge  :- 2\n",
      "u_priority_confirmation  :- 2\n",
      "notify  :- 2\n",
      "resolved_by  :- 216\n",
      "resolved_at  :- 18505\n",
      "closed_at  :- 2707\n"
     ]
    }
   ],
   "source": [
    "for i in incident.columns:\n",
    "  print(i,\" :-\",incident[i].nunique())"
   ]
  },
  {
   "cell_type": "markdown",
   "metadata": {
    "id": "ZmSPLCzDjiMX"
   },
   "source": [
    "##EDA"
   ]
  },
  {
   "cell_type": "code",
   "execution_count": 18,
   "metadata": {
    "id": "cZEeikPzeSVY"
   },
   "outputs": [],
   "source": [
    "columns_to_change_to_datetime = ['closed_at', 'opened_at' ]\n",
    "\n",
    "for i in columns_to_change_to_datetime:\n",
    "    incident[i] = incident[i].astype('datetime64[ns]')"
   ]
  },
  {
   "cell_type": "code",
   "execution_count": 19,
   "metadata": {
    "id": "NXHq2c_weSSP"
   },
   "outputs": [],
   "source": [
    "# life of a ticket in seconds\n",
    "incident['ticket_life'] = (incident['closed_at'] - incident['opened_at']).dt.total_seconds()"
   ]
  },
  {
   "cell_type": "code",
   "execution_count": 20,
   "metadata": {
    "colab": {
     "base_uri": "https://localhost:8080/"
    },
    "id": "jT0nYcENeSQL",
    "outputId": "8f2952ba-a6a1-4bbe-ecc5-78c2866d257c"
   },
   "outputs": [
    {
     "name": "stdout",
     "output_type": "stream",
     "text": [
      "Number of tickets having negative life  50484\n",
      "Percentage of negative life tickets:  35.62436490911144\n"
     ]
    }
   ],
   "source": [
    "# tickets opened after closing\n",
    "# Filtering out the rows where the opened_at > closed_at\n",
    "\n",
    "negative_life = incident[incident.ticket_life<0 ]\n",
    "print('Number of tickets having negative life ',negative_life.shape[0])\n",
    "\n",
    "#Percentage\n",
    "perc = negative_life.shape[0]/incident.shape[0]*100\n",
    "print('Percentage of negative life tickets: ',perc)"
   ]
  },
  {
   "cell_type": "markdown",
   "metadata": {
    "id": "7EGRW39lfZ2Y"
   },
   "source": [
    "35.62% of tickets have negative life. We will handle these tickets seperately and not use the same in the model building as this might affect the performance of the model."
   ]
  },
  {
   "cell_type": "code",
   "execution_count": 21,
   "metadata": {
    "colab": {
     "base_uri": "https://localhost:8080/"
    },
    "id": "KKFyRPQGeSM9",
    "outputId": "b7863bb8-90ca-404f-c2ad-91a029308270"
   },
   "outputs": [
    {
     "data": {
      "text/plain": [
       "(91210, 30)"
      ]
     },
     "execution_count": 21,
     "metadata": {},
     "output_type": "execute_result"
    }
   ],
   "source": [
    "#Include only genuine tickets\n",
    "incident=incident[incident.ticket_life>0]\n",
    "incident.shape"
   ]
  },
  {
   "cell_type": "code",
   "execution_count": 22,
   "metadata": {
    "colab": {
     "base_uri": "https://localhost:8080/"
    },
    "id": "4YTVPNFoeSKc",
    "outputId": "e2285eaf-2451-40c4-fa7e-ec08d6d6a950"
   },
   "outputs": [
    {
     "name": "stdout",
     "output_type": "stream",
     "text": [
      "-1 days +23:57:58.993122131\n",
      "0 days 00:13:01.503258663\n"
     ]
    }
   ],
   "source": [
    "import datetime\n",
    "from datetime import timedelta\n",
    "temp = incident[['opened_at', 'sys_created_at']]\n",
    "temp = temp.dropna().astype('datetime64[ns]')\n",
    "\n",
    "#The gap or difference between opening time of the incident and system created time\n",
    "temp['gap'] = temp.sys_created_at - temp.opened_at\n",
    "print(temp.gap.mean())\n",
    "\n",
    "#Calculate the mean of the gap and add this mean to fill the null values in sys_created_at\n",
    "temp_mean = temp[temp.gap > datetime.timedelta(hours=0,minutes=0,seconds=0)].gap.mean()\n",
    "print(temp_mean)\n",
    "\n",
    "incident['sys_created_temp_mean'] = incident.opened_at + timedelta(minutes = 13, seconds=01.503258)\n",
    "incident['sys_created_at'].fillna(value=incident['sys_created_temp_mean'],inplace=True)"
   ]
  },
  {
   "cell_type": "code",
   "execution_count": 23,
   "metadata": {
    "colab": {
     "base_uri": "https://localhost:8080/"
    },
    "id": "TV66cqcrlt_0",
    "outputId": "d54e35f5-0357-4299-8fa4-5bdbb01ab1c5"
   },
   "outputs": [
    {
     "name": "stdout",
     "output_type": "stream",
     "text": [
      "27 days 09:42:23.943725302\n",
      "37 days 04:28:56.446437425\n"
     ]
    }
   ],
   "source": [
    "#Similarly fill the null values for the column resolved_at by taking the average difference between opened_at time and resolved_at time\n",
    "temp2 = incident[['opened_at', 'resolved_at']]\n",
    "temp2 = temp2.dropna()\n",
    "temp2.resolved_at = temp2.resolved_at.astype('datetime64[ns]')\n",
    "\n",
    "temp2['new'] = temp2.resolved_at - temp2.opened_at\n",
    "print(temp2.new.mean())\n",
    "\n",
    "temp2_mean = temp2[temp2.new > datetime.timedelta(hours=0,minutes=0,seconds=0)].new.mean()\n",
    "print(temp2_mean)\n",
    "\n",
    "incident['new2'] = incident['opened_at'] + datetime.timedelta(days=5,hours = 5, minutes=34, seconds=59.468314879)\n",
    "incident['resolved_at'].fillna(value = incident.new2,inplace=True)"
   ]
  },
  {
   "cell_type": "code",
   "execution_count": 24,
   "metadata": {
    "id": "btH9Y0SoCPzm"
   },
   "outputs": [],
   "source": [
    "for col in ['sys_created_by','u_symptom','location','assigned_to','assignment_group','caller_id','category','subcategory','opened_by','resolved_by']:\n",
    "  incident[col].fillna(incident[col].mode()[0],inplace=True)"
   ]
  },
  {
   "cell_type": "code",
   "execution_count": 25,
   "metadata": {
    "colab": {
     "base_uri": "https://localhost:8080/"
    },
    "id": "a-o2uRJpNlzP",
    "outputId": "02b4c072-deed-405a-dfa2-0b39322ca202",
    "scrolled": true
   },
   "outputs": [
    {
     "data": {
      "text/plain": [
       "0"
      ]
     },
     "execution_count": 25,
     "metadata": {},
     "output_type": "execute_result"
    }
   ],
   "source": [
    "incident.isnull().any().sum()"
   ]
  },
  {
   "cell_type": "code",
   "execution_count": 26,
   "metadata": {
    "colab": {
     "base_uri": "https://localhost:8080/"
    },
    "id": "p6UwE9Uxqk_M",
    "outputId": "346986bb-4f31-44f0-f6e0-7e4b0121a462"
   },
   "outputs": [
    {
     "data": {
      "text/plain": [
       "(91210, 28)"
      ]
     },
     "execution_count": 26,
     "metadata": {},
     "output_type": "execute_result"
    }
   ],
   "source": [
    "incident=incident.drop(['closed_at','ticket_life', 'sys_created_temp_mean','new2'],axis=1)\n",
    "incident.shape"
   ]
  },
  {
   "cell_type": "markdown",
   "metadata": {
    "id": "vGShNwTpNlzQ"
   },
   "source": [
    "Now, there are no missing values in our dataset"
   ]
  },
  {
   "cell_type": "code",
   "execution_count": 27,
   "metadata": {
    "colab": {
     "base_uri": "https://localhost:8080/",
     "height": 1000
    },
    "id": "P2P2xWw7R-vJ",
    "outputId": "a0877515-73a6-4599-8d88-f1df17b1aeb9"
   },
   "outputs": [
    {
     "name": "stdout",
     "output_type": "stream",
     "text": [
      "Requirement already satisfied: pandas-profiling==2.7.1 in c:\\users\\rohit chavan\\anaconda3\\lib\\site-packages (2.7.1)\n",
      "Requirement already satisfied: confuse>=1.0.0 in c:\\users\\rohit chavan\\anaconda3\\lib\\site-packages (from pandas-profiling==2.7.1) (1.5.0)\n",
      "Requirement already satisfied: htmlmin>=0.1.12 in c:\\users\\rohit chavan\\anaconda3\\lib\\site-packages (from pandas-profiling==2.7.1) (0.1.12)\n",
      "Requirement already satisfied: tqdm>=4.43.0 in c:\\users\\rohit chavan\\anaconda3\\lib\\site-packages (from pandas-profiling==2.7.1) (4.50.2)\n",
      "Requirement already satisfied: ipywidgets>=7.5.1 in c:\\users\\rohit chavan\\anaconda3\\lib\\site-packages (from pandas-profiling==2.7.1) (7.5.1)\n",
      "Requirement already satisfied: scipy>=1.4.1 in c:\\users\\rohit chavan\\anaconda3\\lib\\site-packages (from pandas-profiling==2.7.1) (1.5.2)\n",
      "Requirement already satisfied: pandas!=1.0.0,!=1.0.1,!=1.0.2,>=0.25.3 in c:\\users\\rohit chavan\\anaconda3\\lib\\site-packages (from pandas-profiling==2.7.1) (1.1.3)\n",
      "Requirement already satisfied: matplotlib>=3.2.0 in c:\\users\\rohit chavan\\anaconda3\\lib\\site-packages (from pandas-profiling==2.7.1) (3.3.2)\n",
      "Requirement already satisfied: jinja2>=2.11.1 in c:\\users\\rohit chavan\\anaconda3\\lib\\site-packages (from pandas-profiling==2.7.1) (2.11.2)\n",
      "Requirement already satisfied: astropy>=4.0 in c:\\users\\rohit chavan\\anaconda3\\lib\\site-packages (from pandas-profiling==2.7.1) (4.0.2)\n",
      "Requirement already satisfied: visions[type_image_path]==0.4.1 in c:\\users\\rohit chavan\\anaconda3\\lib\\site-packages (from pandas-profiling==2.7.1) (0.4.1)\n",
      "Requirement already satisfied: joblib in c:\\users\\rohit chavan\\anaconda3\\lib\\site-packages (from pandas-profiling==2.7.1) (0.17.0)\n",
      "Requirement already satisfied: phik>=0.9.10 in c:\\users\\rohit chavan\\anaconda3\\lib\\site-packages (from pandas-profiling==2.7.1) (0.11.2)\n",
      "Requirement already satisfied: requests>=2.23.0 in c:\\users\\rohit chavan\\anaconda3\\lib\\site-packages (from pandas-profiling==2.7.1) (2.24.0)\n",
      "Requirement already satisfied: numpy>=1.16.0 in c:\\users\\rohit chavan\\anaconda3\\lib\\site-packages (from pandas-profiling==2.7.1) (1.19.2)\n",
      "Requirement already satisfied: tangled-up-in-unicode>=0.0.4 in c:\\users\\rohit chavan\\anaconda3\\lib\\site-packages (from pandas-profiling==2.7.1) (0.1.0)\n",
      "Requirement already satisfied: missingno>=0.4.2 in c:\\users\\rohit chavan\\anaconda3\\lib\\site-packages (from pandas-profiling==2.7.1) (0.5.0)\n",
      "Requirement already satisfied: attrs>=19.3.0 in c:\\users\\rohit chavan\\anaconda3\\lib\\site-packages (from visions[type_image_path]==0.4.1->pandas-profiling==2.7.1) (20.3.0)\n",
      "Requirement already satisfied: networkx>=2.4 in c:\\users\\rohit chavan\\anaconda3\\lib\\site-packages (from visions[type_image_path]==0.4.1->pandas-profiling==2.7.1) (2.5)\n",
      "Requirement already satisfied: Pillow in c:\\users\\rohit chavan\\anaconda3\\lib\\site-packages (from visions[type_image_path]==0.4.1->pandas-profiling==2.7.1) (8.0.1)\n",
      "Requirement already satisfied: imagehash in c:\\users\\rohit chavan\\anaconda3\\lib\\site-packages (from visions[type_image_path]==0.4.1->pandas-profiling==2.7.1) (4.2.0)\n",
      "Requirement already satisfied: pyyaml in c:\\users\\rohit chavan\\anaconda3\\lib\\site-packages (from confuse>=1.0.0->pandas-profiling==2.7.1) (5.3.1)\n",
      "Requirement already satisfied: widgetsnbextension~=3.5.0 in c:\\users\\rohit chavan\\anaconda3\\lib\\site-packages (from ipywidgets>=7.5.1->pandas-profiling==2.7.1) (3.5.1)\n",
      "Requirement already satisfied: traitlets>=4.3.1 in c:\\users\\rohit chavan\\anaconda3\\lib\\site-packages (from ipywidgets>=7.5.1->pandas-profiling==2.7.1) (5.0.5)\n",
      "Requirement already satisfied: nbformat>=4.2.0 in c:\\users\\rohit chavan\\anaconda3\\lib\\site-packages (from ipywidgets>=7.5.1->pandas-profiling==2.7.1) (5.0.8)\n",
      "Requirement already satisfied: ipython>=4.0.0 in c:\\users\\rohit chavan\\anaconda3\\lib\\site-packages (from ipywidgets>=7.5.1->pandas-profiling==2.7.1) (7.19.0)\n",
      "Requirement already satisfied: ipykernel>=4.5.1 in c:\\users\\rohit chavan\\anaconda3\\lib\\site-packages (from ipywidgets>=7.5.1->pandas-profiling==2.7.1) (5.3.4)\n",
      "Requirement already satisfied: tornado>=4.2 in c:\\users\\rohit chavan\\anaconda3\\lib\\site-packages (from ipykernel>=4.5.1->ipywidgets>=7.5.1->pandas-profiling==2.7.1) (6.0.4)\n",
      "Requirement already satisfied: jupyter-client in c:\\users\\rohit chavan\\anaconda3\\lib\\site-packages (from ipykernel>=4.5.1->ipywidgets>=7.5.1->pandas-profiling==2.7.1) (6.1.7)\n",
      "Requirement already satisfied: decorator in c:\\users\\rohit chavan\\anaconda3\\lib\\site-packages (from ipython>=4.0.0->ipywidgets>=7.5.1->pandas-profiling==2.7.1) (4.4.2)\n",
      "Requirement already satisfied: pickleshare in c:\\users\\rohit chavan\\anaconda3\\lib\\site-packages (from ipython>=4.0.0->ipywidgets>=7.5.1->pandas-profiling==2.7.1) (0.7.5)\n",
      "Requirement already satisfied: setuptools>=18.5 in c:\\users\\rohit chavan\\anaconda3\\lib\\site-packages (from ipython>=4.0.0->ipywidgets>=7.5.1->pandas-profiling==2.7.1) (50.3.1.post20201107)\n",
      "Requirement already satisfied: backcall in c:\\users\\rohit chavan\\anaconda3\\lib\\site-packages (from ipython>=4.0.0->ipywidgets>=7.5.1->pandas-profiling==2.7.1) (0.2.0)\n",
      "Requirement already satisfied: prompt-toolkit!=3.0.0,!=3.0.1,<3.1.0,>=2.0.0 in c:\\users\\rohit chavan\\anaconda3\\lib\\site-packages (from ipython>=4.0.0->ipywidgets>=7.5.1->pandas-profiling==2.7.1) (3.0.8)\n",
      "Requirement already satisfied: pygments in c:\\users\\rohit chavan\\anaconda3\\lib\\site-packages (from ipython>=4.0.0->ipywidgets>=7.5.1->pandas-profiling==2.7.1) (2.7.2)\n",
      "Requirement already satisfied: jedi>=0.10 in c:\\users\\rohit chavan\\anaconda3\\lib\\site-packages (from ipython>=4.0.0->ipywidgets>=7.5.1->pandas-profiling==2.7.1) (0.17.1)\n",
      "Requirement already satisfied: colorama in c:\\users\\rohit chavan\\anaconda3\\lib\\site-packages (from ipython>=4.0.0->ipywidgets>=7.5.1->pandas-profiling==2.7.1) (0.4.4)\n",
      "Requirement already satisfied: parso<0.8.0,>=0.7.0 in c:\\users\\rohit chavan\\anaconda3\\lib\\site-packages (from jedi>=0.10->ipython>=4.0.0->ipywidgets>=7.5.1->pandas-profiling==2.7.1) (0.7.0)\n",
      "Requirement already satisfied: MarkupSafe>=0.23 in c:\\users\\rohit chavan\\anaconda3\\lib\\site-packages (from jinja2>=2.11.1->pandas-profiling==2.7.1) (1.1.1)\n",
      "Requirement already satisfied: python-dateutil>=2.1 in c:\\users\\rohit chavan\\anaconda3\\lib\\site-packages (from matplotlib>=3.2.0->pandas-profiling==2.7.1) (2.8.1)\n",
      "Requirement already satisfied: cycler>=0.10 in c:\\users\\rohit chavan\\anaconda3\\lib\\site-packages (from matplotlib>=3.2.0->pandas-profiling==2.7.1) (0.10.0)\n",
      "Requirement already satisfied: certifi>=2020.06.20 in c:\\users\\rohit chavan\\anaconda3\\lib\\site-packages (from matplotlib>=3.2.0->pandas-profiling==2.7.1) (2020.6.20)\n",
      "Requirement already satisfied: kiwisolver>=1.0.1 in c:\\users\\rohit chavan\\anaconda3\\lib\\site-packages (from matplotlib>=3.2.0->pandas-profiling==2.7.1) (1.3.0)\n",
      "Requirement already satisfied: pyparsing!=2.0.4,!=2.1.2,!=2.1.6,>=2.0.3 in c:\\users\\rohit chavan\\anaconda3\\lib\\site-packages (from matplotlib>=3.2.0->pandas-profiling==2.7.1) (2.4.7)\n",
      "Requirement already satisfied: six in c:\\users\\rohit chavan\\anaconda3\\lib\\site-packages (from cycler>=0.10->matplotlib>=3.2.0->pandas-profiling==2.7.1) (1.15.0)\n",
      "Requirement already satisfied: seaborn in c:\\users\\rohit chavan\\anaconda3\\lib\\site-packages (from missingno>=0.4.2->pandas-profiling==2.7.1) (0.11.0)\n",
      "Requirement already satisfied: jupyter-core in c:\\users\\rohit chavan\\anaconda3\\lib\\site-packages (from nbformat>=4.2.0->ipywidgets>=7.5.1->pandas-profiling==2.7.1) (4.6.3)\n",
      "Requirement already satisfied: jsonschema!=2.5.0,>=2.4 in c:\\users\\rohit chavan\\anaconda3\\lib\\site-packages (from nbformat>=4.2.0->ipywidgets>=7.5.1->pandas-profiling==2.7.1) (3.2.0)\n",
      "Requirement already satisfied: ipython-genutils in c:\\users\\rohit chavan\\anaconda3\\lib\\site-packages (from nbformat>=4.2.0->ipywidgets>=7.5.1->pandas-profiling==2.7.1) (0.2.0)\n",
      "Requirement already satisfied: pyrsistent>=0.14.0 in c:\\users\\rohit chavan\\anaconda3\\lib\\site-packages (from jsonschema!=2.5.0,>=2.4->nbformat>=4.2.0->ipywidgets>=7.5.1->pandas-profiling==2.7.1) (0.17.3)\n",
      "Requirement already satisfied: pytz>=2017.2 in c:\\users\\rohit chavan\\anaconda3\\lib\\site-packages (from pandas!=1.0.0,!=1.0.1,!=1.0.2,>=0.25.3->pandas-profiling==2.7.1) (2020.1)\n",
      "Requirement already satisfied: wcwidth in c:\\users\\rohit chavan\\anaconda3\\lib\\site-packages (from prompt-toolkit!=3.0.0,!=3.0.1,<3.1.0,>=2.0.0->ipython>=4.0.0->ipywidgets>=7.5.1->pandas-profiling==2.7.1) (0.2.5)\n",
      "Requirement already satisfied: idna<3,>=2.5 in c:\\users\\rohit chavan\\anaconda3\\lib\\site-packages (from requests>=2.23.0->pandas-profiling==2.7.1) (2.10)\n",
      "Requirement already satisfied: urllib3!=1.25.0,!=1.25.1,<1.26,>=1.21.1 in c:\\users\\rohit chavan\\anaconda3\\lib\\site-packages (from requests>=2.23.0->pandas-profiling==2.7.1) (1.25.11)\n",
      "Requirement already satisfied: chardet<4,>=3.0.2 in c:\\users\\rohit chavan\\anaconda3\\lib\\site-packages (from requests>=2.23.0->pandas-profiling==2.7.1) (3.0.4)\n",
      "Requirement already satisfied: notebook>=4.4.1 in c:\\users\\rohit chavan\\anaconda3\\lib\\site-packages (from widgetsnbextension~=3.5.0->ipywidgets>=7.5.1->pandas-profiling==2.7.1) (6.1.4)\n",
      "Requirement already satisfied: terminado>=0.8.3 in c:\\users\\rohit chavan\\anaconda3\\lib\\site-packages (from notebook>=4.4.1->widgetsnbextension~=3.5.0->ipywidgets>=7.5.1->pandas-profiling==2.7.1) (0.9.1)\n",
      "Requirement already satisfied: nbconvert in c:\\users\\rohit chavan\\anaconda3\\lib\\site-packages (from notebook>=4.4.1->widgetsnbextension~=3.5.0->ipywidgets>=7.5.1->pandas-profiling==2.7.1) (6.0.7)\n",
      "Requirement already satisfied: Send2Trash in c:\\users\\rohit chavan\\anaconda3\\lib\\site-packages (from notebook>=4.4.1->widgetsnbextension~=3.5.0->ipywidgets>=7.5.1->pandas-profiling==2.7.1) (1.5.0)\n",
      "Requirement already satisfied: prometheus-client in c:\\users\\rohit chavan\\anaconda3\\lib\\site-packages (from notebook>=4.4.1->widgetsnbextension~=3.5.0->ipywidgets>=7.5.1->pandas-profiling==2.7.1) (0.8.0)\n",
      "Requirement already satisfied: pyzmq>=17 in c:\\users\\rohit chavan\\anaconda3\\lib\\site-packages (from notebook>=4.4.1->widgetsnbextension~=3.5.0->ipywidgets>=7.5.1->pandas-profiling==2.7.1) (19.0.2)\n",
      "Requirement already satisfied: argon2-cffi in c:\\users\\rohit chavan\\anaconda3\\lib\\site-packages (from notebook>=4.4.1->widgetsnbextension~=3.5.0->ipywidgets>=7.5.1->pandas-profiling==2.7.1) (20.1.0)\n",
      "Requirement already satisfied: pywin32>=1.0 in c:\\users\\rohit chavan\\anaconda3\\lib\\site-packages (from jupyter-core->nbformat>=4.2.0->ipywidgets>=7.5.1->pandas-profiling==2.7.1) (227)\n",
      "Requirement already satisfied: pywinpty>=0.5 in c:\\users\\rohit chavan\\anaconda3\\lib\\site-packages (from terminado>=0.8.3->notebook>=4.4.1->widgetsnbextension~=3.5.0->ipywidgets>=7.5.1->pandas-profiling==2.7.1) (0.5.7)\n",
      "Requirement already satisfied: cffi>=1.0.0 in c:\\users\\rohit chavan\\anaconda3\\lib\\site-packages (from argon2-cffi->notebook>=4.4.1->widgetsnbextension~=3.5.0->ipywidgets>=7.5.1->pandas-profiling==2.7.1) (1.14.3)\n",
      "Requirement already satisfied: pycparser in c:\\users\\rohit chavan\\anaconda3\\lib\\site-packages (from cffi>=1.0.0->argon2-cffi->notebook>=4.4.1->widgetsnbextension~=3.5.0->ipywidgets>=7.5.1->pandas-profiling==2.7.1) (2.20)\n",
      "Requirement already satisfied: PyWavelets in c:\\users\\rohit chavan\\anaconda3\\lib\\site-packages (from imagehash->visions[type_image_path]==0.4.1->pandas-profiling==2.7.1) (1.1.1)\n",
      "Requirement already satisfied: nbclient<0.6.0,>=0.5.0 in c:\\users\\rohit chavan\\anaconda3\\lib\\site-packages (from nbconvert->notebook>=4.4.1->widgetsnbextension~=3.5.0->ipywidgets>=7.5.1->pandas-profiling==2.7.1) (0.5.1)\n",
      "Requirement already satisfied: pandocfilters>=1.4.1 in c:\\users\\rohit chavan\\anaconda3\\lib\\site-packages (from nbconvert->notebook>=4.4.1->widgetsnbextension~=3.5.0->ipywidgets>=7.5.1->pandas-profiling==2.7.1) (1.4.3)\n",
      "Requirement already satisfied: testpath in c:\\users\\rohit chavan\\anaconda3\\lib\\site-packages (from nbconvert->notebook>=4.4.1->widgetsnbextension~=3.5.0->ipywidgets>=7.5.1->pandas-profiling==2.7.1) (0.4.4)\n",
      "Requirement already satisfied: defusedxml in c:\\users\\rohit chavan\\anaconda3\\lib\\site-packages (from nbconvert->notebook>=4.4.1->widgetsnbextension~=3.5.0->ipywidgets>=7.5.1->pandas-profiling==2.7.1) (0.6.0)\n",
      "Requirement already satisfied: entrypoints>=0.2.2 in c:\\users\\rohit chavan\\anaconda3\\lib\\site-packages (from nbconvert->notebook>=4.4.1->widgetsnbextension~=3.5.0->ipywidgets>=7.5.1->pandas-profiling==2.7.1) (0.3)\n",
      "Requirement already satisfied: jupyterlab-pygments in c:\\users\\rohit chavan\\anaconda3\\lib\\site-packages (from nbconvert->notebook>=4.4.1->widgetsnbextension~=3.5.0->ipywidgets>=7.5.1->pandas-profiling==2.7.1) (0.1.2)\n",
      "Requirement already satisfied: bleach in c:\\users\\rohit chavan\\anaconda3\\lib\\site-packages (from nbconvert->notebook>=4.4.1->widgetsnbextension~=3.5.0->ipywidgets>=7.5.1->pandas-profiling==2.7.1) (3.2.1)\n",
      "Requirement already satisfied: mistune<2,>=0.8.1 in c:\\users\\rohit chavan\\anaconda3\\lib\\site-packages (from nbconvert->notebook>=4.4.1->widgetsnbextension~=3.5.0->ipywidgets>=7.5.1->pandas-profiling==2.7.1) (0.8.4)\n",
      "Requirement already satisfied: async-generator in c:\\users\\rohit chavan\\anaconda3\\lib\\site-packages (from nbclient<0.6.0,>=0.5.0->nbconvert->notebook>=4.4.1->widgetsnbextension~=3.5.0->ipywidgets>=7.5.1->pandas-profiling==2.7.1) (1.10)\n",
      "Requirement already satisfied: nest-asyncio in c:\\users\\rohit chavan\\anaconda3\\lib\\site-packages (from nbclient<0.6.0,>=0.5.0->nbconvert->notebook>=4.4.1->widgetsnbextension~=3.5.0->ipywidgets>=7.5.1->pandas-profiling==2.7.1) (1.4.2)\n",
      "Requirement already satisfied: packaging in c:\\users\\rohit chavan\\anaconda3\\lib\\site-packages (from bleach->nbconvert->notebook>=4.4.1->widgetsnbextension~=3.5.0->ipywidgets>=7.5.1->pandas-profiling==2.7.1) (20.4)\n",
      "Requirement already satisfied: webencodings in c:\\users\\rohit chavan\\anaconda3\\lib\\site-packages (from bleach->nbconvert->notebook>=4.4.1->widgetsnbextension~=3.5.0->ipywidgets>=7.5.1->pandas-profiling==2.7.1) (0.5.1)\n"
     ]
    },
    {
     "name": "stderr",
     "output_type": "stream",
     "text": [
      "WARNING: You are using pip version 21.1.1; however, version 21.2.3 is available.\n",
      "You should consider upgrading via the 'c:\\users\\rohit chavan\\anaconda3\\python.exe -m pip install --upgrade pip' command.\n"
     ]
    }
   ],
   "source": [
    "!pip install pandas-profiling==2.7.1"
   ]
  },
  {
   "cell_type": "code",
   "execution_count": 28,
   "metadata": {
    "colab": {
     "base_uri": "https://localhost:8080/",
     "height": 212
    },
    "id": "DznSHlauNlzR",
    "outputId": "df5635af-bf9f-47c1-da92-3f521331c0d3",
    "scrolled": true
   },
   "outputs": [
    {
     "data": {
      "text/html": [
       "<div>\n",
       "<style scoped>\n",
       "    .dataframe tbody tr th:only-of-type {\n",
       "        vertical-align: middle;\n",
       "    }\n",
       "\n",
       "    .dataframe tbody tr th {\n",
       "        vertical-align: top;\n",
       "    }\n",
       "\n",
       "    .dataframe thead th {\n",
       "        text-align: right;\n",
       "    }\n",
       "</style>\n",
       "<table border=\"1\" class=\"dataframe\">\n",
       "  <thead>\n",
       "    <tr style=\"text-align: right;\">\n",
       "      <th></th>\n",
       "      <th>incident_state</th>\n",
       "      <th>active</th>\n",
       "      <th>reassignment_count</th>\n",
       "      <th>reopen_count</th>\n",
       "      <th>sys_mod_count</th>\n",
       "      <th>made_sla</th>\n",
       "      <th>caller_id</th>\n",
       "      <th>opened_by</th>\n",
       "      <th>sys_created_by</th>\n",
       "      <th>sys_created_at</th>\n",
       "      <th>...</th>\n",
       "      <th>impact</th>\n",
       "      <th>urgency</th>\n",
       "      <th>priority</th>\n",
       "      <th>assignment_group</th>\n",
       "      <th>assigned_to</th>\n",
       "      <th>knowledge</th>\n",
       "      <th>u_priority_confirmation</th>\n",
       "      <th>notify</th>\n",
       "      <th>resolved_by</th>\n",
       "      <th>resolved_at</th>\n",
       "    </tr>\n",
       "  </thead>\n",
       "  <tbody>\n",
       "    <tr>\n",
       "      <th>count</th>\n",
       "      <td>91210</td>\n",
       "      <td>91210</td>\n",
       "      <td>91210</td>\n",
       "      <td>91210</td>\n",
       "      <td>91210</td>\n",
       "      <td>91210</td>\n",
       "      <td>91210</td>\n",
       "      <td>91210</td>\n",
       "      <td>91210</td>\n",
       "      <td>91210</td>\n",
       "      <td>...</td>\n",
       "      <td>91210</td>\n",
       "      <td>91210</td>\n",
       "      <td>91210</td>\n",
       "      <td>91210</td>\n",
       "      <td>91210</td>\n",
       "      <td>91210</td>\n",
       "      <td>91210</td>\n",
       "      <td>91210</td>\n",
       "      <td>91210</td>\n",
       "      <td>91210</td>\n",
       "    </tr>\n",
       "    <tr>\n",
       "      <th>unique</th>\n",
       "      <td>9</td>\n",
       "      <td>2</td>\n",
       "      <td>23</td>\n",
       "      <td>9</td>\n",
       "      <td>115</td>\n",
       "      <td>2</td>\n",
       "      <td>4562</td>\n",
       "      <td>185</td>\n",
       "      <td>168</td>\n",
       "      <td>14592</td>\n",
       "      <td>...</td>\n",
       "      <td>3</td>\n",
       "      <td>3</td>\n",
       "      <td>4</td>\n",
       "      <td>76</td>\n",
       "      <td>226</td>\n",
       "      <td>2</td>\n",
       "      <td>2</td>\n",
       "      <td>2</td>\n",
       "      <td>206</td>\n",
       "      <td>13544</td>\n",
       "    </tr>\n",
       "    <tr>\n",
       "      <th>top</th>\n",
       "      <td>Active</td>\n",
       "      <td>True</td>\n",
       "      <td>0</td>\n",
       "      <td>0</td>\n",
       "      <td>0</td>\n",
       "      <td>True</td>\n",
       "      <td>Caller 1904</td>\n",
       "      <td>Opened by  17</td>\n",
       "      <td>Created by 10</td>\n",
       "      <td>2016-04-14 20:55:01.503258</td>\n",
       "      <td>...</td>\n",
       "      <td>2 - Medium</td>\n",
       "      <td>2 - Medium</td>\n",
       "      <td>3 - Moderate</td>\n",
       "      <td>Group 70</td>\n",
       "      <td>Resolver 17</td>\n",
       "      <td>False</td>\n",
       "      <td>False</td>\n",
       "      <td>Do Not Notify</td>\n",
       "      <td>Resolved by 15</td>\n",
       "      <td>3/6/2016 16:27</td>\n",
       "    </tr>\n",
       "    <tr>\n",
       "      <th>freq</th>\n",
       "      <td>24217</td>\n",
       "      <td>74868</td>\n",
       "      <td>45605</td>\n",
       "      <td>89673</td>\n",
       "      <td>16290</td>\n",
       "      <td>85963</td>\n",
       "      <td>1032</td>\n",
       "      <td>31191</td>\n",
       "      <td>50724</td>\n",
       "      <td>58</td>\n",
       "      <td>...</td>\n",
       "      <td>86397</td>\n",
       "      <td>86098</td>\n",
       "      <td>85033</td>\n",
       "      <td>37260</td>\n",
       "      <td>23142</td>\n",
       "      <td>80463</td>\n",
       "      <td>63778</td>\n",
       "      <td>91140</td>\n",
       "      <td>9281</td>\n",
       "      <td>68</td>\n",
       "    </tr>\n",
       "  </tbody>\n",
       "</table>\n",
       "<p>4 rows × 27 columns</p>\n",
       "</div>"
      ],
      "text/plain": [
       "       incident_state active  reassignment_count  reopen_count  sys_mod_count  \\\n",
       "count           91210  91210               91210         91210          91210   \n",
       "unique              9      2                  23             9            115   \n",
       "top            Active   True                   0             0              0   \n",
       "freq            24217  74868               45605         89673          16290   \n",
       "\n",
       "       made_sla    caller_id      opened_by sys_created_by  \\\n",
       "count     91210        91210          91210          91210   \n",
       "unique        2         4562            185            168   \n",
       "top        True  Caller 1904  Opened by  17  Created by 10   \n",
       "freq      85963         1032          31191          50724   \n",
       "\n",
       "                    sys_created_at  ...      impact     urgency      priority  \\\n",
       "count                        91210  ...       91210       91210         91210   \n",
       "unique                       14592  ...           3           3             4   \n",
       "top     2016-04-14 20:55:01.503258  ...  2 - Medium  2 - Medium  3 - Moderate   \n",
       "freq                            58  ...       86397       86098         85033   \n",
       "\n",
       "       assignment_group  assigned_to knowledge u_priority_confirmation  \\\n",
       "count             91210        91210     91210                   91210   \n",
       "unique               76          226         2                       2   \n",
       "top            Group 70  Resolver 17     False                   False   \n",
       "freq              37260        23142     80463                   63778   \n",
       "\n",
       "               notify     resolved_by     resolved_at  \n",
       "count           91210           91210           91210  \n",
       "unique              2             206           13544  \n",
       "top     Do Not Notify  Resolved by 15  3/6/2016 16:27  \n",
       "freq            91140            9281              68  \n",
       "\n",
       "[4 rows x 27 columns]"
      ]
     },
     "execution_count": 28,
     "metadata": {},
     "output_type": "execute_result"
    }
   ],
   "source": [
    "incident.describe(include='O')"
   ]
  },
  {
   "cell_type": "code",
   "execution_count": 29,
   "metadata": {
    "id": "KTSWNGN4sjsl"
   },
   "outputs": [],
   "source": [
    "# Distribution graphs (histogram/bar graph) of column data\n",
    "def plotPerColumnDistribution(incident, nGraphShown, nGraphPerRow):\n",
    "    nunique = incident.nunique()\n",
    "    incident = incident[[col for col in incident if nunique[col] > 1 and nunique[col] < 50]] # For displaying purposes, pick columns that have between 1 and 50 unique values\n",
    "    nRow, nCol = incident.shape\n",
    "    columnNames = list(incident)\n",
    "    nGraphRow = (nCol + nGraphPerRow - 1) / nGraphPerRow\n",
    "    plt.figure(num = None, figsize = (6 * nGraphPerRow, 8 * nGraphRow), dpi = 80, facecolor = 'w', edgecolor = 'k')\n",
    "    for i in range(min(nCol, nGraphShown)):\n",
    "        plt.subplot(nGraphRow, nGraphPerRow, i + 1)\n",
    "        columnDf = incident.iloc[:, i]\n",
    "        if (not np.issubdtype(type(columnDf.iloc[0]), np.number)):\n",
    "            valueCounts = columnDf.value_counts()\n",
    "            valueCounts.plot.bar()\n",
    "        else:\n",
    "            columnDf.hist()\n",
    "        plt.ylabel('counts')\n",
    "        plt.xticks(rotation = 90)\n",
    "        plt.title(f'{columnNames[i]} (column {i})')\n",
    "    plt.tight_layout(pad = 1.0, w_pad = 1.0, h_pad = 1.0)\n",
    "    plt.show()"
   ]
  },
  {
   "cell_type": "code",
   "execution_count": 30,
   "metadata": {
    "id": "pjd0nKzYs8GM"
   },
   "outputs": [],
   "source": [
    "# Scatter and density plots\n",
    "def plotScatterMatrix(incident, plotSize, textSize):\n",
    "    incident = incident.select_dtypes(include =[np.number]) # keep only numerical columns\n",
    "    # Remove rows and columns that would lead to df being singular\n",
    "    incident = incident.dropna('columns')\n",
    "    incident = incident[[col for col in incident if incident[col].nunique() > 1]] # keep columns where there are more than 1 unique values\n",
    "    columnNames = list(incident)\n",
    "    if len(columnNames) > 10: # reduce the number of columns for matrix inversion of kernel density plots\n",
    "        columnNames = columnNames[:10]\n",
    "    incident = incident[columnNames]\n",
    "    ax = pd.plotting.scatter_matrix(incident, alpha=0.75, figsize=[plotSize, plotSize], diagonal='kde')\n",
    "    corrs = incident.corr().values\n",
    "    for i, j in zip(*plt.np.triu_indices_from(ax, k = 1)):\n",
    "        ax[i, j].annotate('Corr. coef = %.3f' % corrs[i, j], (0.8, 0.2), xycoords='axes fraction', ha='center', va='center', size=textSize)\n",
    "    plt.suptitle('Scatter and Density Plot')\n",
    "    plt.show()"
   ]
  },
  {
   "cell_type": "code",
   "execution_count": 31,
   "metadata": {
    "colab": {
     "base_uri": "https://localhost:8080/"
    },
    "id": "ns-rpsH1t-or",
    "outputId": "bbd35c2a-852d-4cb3-e301-8d0f0678f6fe"
   },
   "outputs": [
    {
     "name": "stdout",
     "output_type": "stream",
     "text": [
      "There are 1000 rows and 36 columns\n"
     ]
    }
   ],
   "source": [
    "nRowsRead = 1000 # specify 'None' if want to read whole file\n",
    "# incident_event_log.csv may have more rows in reality, but we are only loading/previewing the first 1000 rows\n",
    "df1 = pd.read_csv('incident_event_log.csv', delimiter=',', nrows = nRowsRead)\n",
    "df1.dataframeName = 'incident_event_log.csv'\n",
    "nRow, nCol = df1.shape\n",
    "print(f'There are {nRow} rows and {nCol} columns')"
   ]
  },
  {
   "cell_type": "code",
   "execution_count": 32,
   "metadata": {
    "colab": {
     "base_uri": "https://localhost:8080/",
     "height": 483
    },
    "id": "pTtedIfBuDyB",
    "outputId": "254e96e3-44a2-40e9-e6f0-6322e8fe3332"
   },
   "outputs": [
    {
     "name": "stderr",
     "output_type": "stream",
     "text": [
      "<ipython-input-29-43a57d38883d>:10: MatplotlibDeprecationWarning: Passing non-integers as three-element position specification is deprecated since 3.3 and will be removed two minor releases later.\n",
      "  plt.subplot(nGraphRow, nGraphPerRow, i + 1)\n",
      "<ipython-input-29-43a57d38883d>:10: MatplotlibDeprecationWarning: Passing non-integers as three-element position specification is deprecated since 3.3 and will be removed two minor releases later.\n",
      "  plt.subplot(nGraphRow, nGraphPerRow, i + 1)\n",
      "<ipython-input-29-43a57d38883d>:10: MatplotlibDeprecationWarning: Passing non-integers as three-element position specification is deprecated since 3.3 and will be removed two minor releases later.\n",
      "  plt.subplot(nGraphRow, nGraphPerRow, i + 1)\n",
      "<ipython-input-29-43a57d38883d>:10: MatplotlibDeprecationWarning: Passing non-integers as three-element position specification is deprecated since 3.3 and will be removed two minor releases later.\n",
      "  plt.subplot(nGraphRow, nGraphPerRow, i + 1)\n",
      "<ipython-input-29-43a57d38883d>:10: MatplotlibDeprecationWarning: Passing non-integers as three-element position specification is deprecated since 3.3 and will be removed two minor releases later.\n",
      "  plt.subplot(nGraphRow, nGraphPerRow, i + 1)\n",
      "<ipython-input-29-43a57d38883d>:10: MatplotlibDeprecationWarning: Passing non-integers as three-element position specification is deprecated since 3.3 and will be removed two minor releases later.\n",
      "  plt.subplot(nGraphRow, nGraphPerRow, i + 1)\n",
      "<ipython-input-29-43a57d38883d>:10: MatplotlibDeprecationWarning: Passing non-integers as three-element position specification is deprecated since 3.3 and will be removed two minor releases later.\n",
      "  plt.subplot(nGraphRow, nGraphPerRow, i + 1)\n"
     ]
    },
    {
     "data": {
      "image/png": "[encoded data removed]",
      "text/plain": [
       "<Figure size 2400x3328 with 10 Axes>"
      ]
     },
     "metadata": {},
     "output_type": "display_data"
    }
   ],
   "source": [
    "plotPerColumnDistribution(df1, 10, 5)"
   ]
  },
  {
   "cell_type": "code",
   "execution_count": 33,
   "metadata": {
    "colab": {
     "base_uri": "https://localhost:8080/",
     "height": 624
    },
    "id": "CU_5Wb0Oub6Y",
    "outputId": "f01881c1-b76d-472c-da74-77f0d3d287f0"
   },
   "outputs": [
    {
     "data": {
      "image/png": "[encoded data removed]",
      "text/plain": [
       "<Figure size 648x648 with 9 Axes>"
      ]
     },
     "metadata": {
      "needs_background": "light"
     },
     "output_type": "display_data"
    }
   ],
   "source": [
    "plotScatterMatrix(df1, 9, 10)"
   ]
  },
  {
   "cell_type": "code",
   "execution_count": 34,
   "metadata": {
    "colab": {
     "base_uri": "https://localhost:8080/",
     "height": 295
    },
    "id": "pXxSyRKTNlzS",
    "outputId": "080f9097-0ce0-462b-850c-4075450366a9",
    "scrolled": true
   },
   "outputs": [
    {
     "data": {
      "text/plain": [
       "<AxesSubplot:xlabel='impact', ylabel='count'>"
      ]
     },
     "execution_count": 34,
     "metadata": {},
     "output_type": "execute_result"
    },
    {
     "data": {
      "image/png": "[encoded data removed]",
      "text/plain": [
       "<Figure size 432x288 with 1 Axes>"
      ]
     },
     "metadata": {
      "needs_background": "light"
     },
     "output_type": "display_data"
    }
   ],
   "source": [
    "##Let us see the distribution of the target varibale\n",
    "sns.countplot(x='impact',data=incident)"
   ]
  },
  {
   "cell_type": "markdown",
   "metadata": {
    "id": "OebovMyZNlzT"
   },
   "source": [
    "From the graph, we can see that our data is imbalanced"
   ]
  },
  {
   "cell_type": "code",
   "execution_count": 35,
   "metadata": {
    "colab": {
     "base_uri": "https://localhost:8080/"
    },
    "id": "Nj-QtwpoNlzT",
    "outputId": "35a747c8-41ad-41a3-a275-11dc0fd5c58b",
    "scrolled": true
   },
   "outputs": [
    {
     "data": {
      "text/plain": [
       "2 - Medium    0.947232\n",
       "3 - Low       0.027661\n",
       "1 - High      0.025107\n",
       "Name: impact, dtype: float64"
      ]
     },
     "execution_count": 35,
     "metadata": {},
     "output_type": "execute_result"
    }
   ],
   "source": [
    "incident['impact'].value_counts(normalize=True)"
   ]
  },
  {
   "cell_type": "markdown",
   "metadata": {
    "id": "6jzRYQ0GNlzU"
   },
   "source": [
    "There are more number of incidents that had Medium impact. Low and High impact incidents are observed only 2.7% and 2.4% of all the incidents."
   ]
  },
  {
   "cell_type": "code",
   "execution_count": 36,
   "metadata": {
    "colab": {
     "base_uri": "https://localhost:8080/",
     "height": 375
    },
    "id": "igBcI74LNlzS",
    "outputId": "caba8f0c-23e5-4bb2-dc73-6cc88f50c6c8"
   },
   "outputs": [
    {
     "data": {
      "image/png": "[encoded data removed]",
      "text/plain": [
       "<Figure size 1008x432 with 1 Axes>"
      ]
     },
     "metadata": {
      "needs_background": "light"
     },
     "output_type": "display_data"
    }
   ],
   "source": [
    "plt.figure(figsize=(14,6))\n",
    "sns.countplot(x='incident_state',hue='impact',data=incident)\n",
    "plt.show()"
   ]
  },
  {
   "cell_type": "code",
   "execution_count": 37,
   "metadata": {
    "colab": {
     "base_uri": "https://localhost:8080/",
     "height": 295
    },
    "id": "o1xWxuiIjeUN",
    "outputId": "d4b0206e-5cfd-4e16-acbe-c5688c5e3dd0"
   },
   "outputs": [
    {
     "data": {
      "text/plain": [
       "<AxesSubplot:xlabel='urgency', ylabel='count'>"
      ]
     },
     "execution_count": 37,
     "metadata": {},
     "output_type": "execute_result"
    },
    {
     "data": {
      "image/png": "[encoded data removed]",
      "text/plain": [
       "<Figure size 432x288 with 1 Axes>"
      ]
     },
     "metadata": {
      "needs_background": "light"
     },
     "output_type": "display_data"
    }
   ],
   "source": [
    "sns.countplot(x='urgency',hue='impact',data=incident)"
   ]
  },
  {
   "cell_type": "markdown",
   "metadata": {
    "id": "UsvfVGH2j5F6"
   },
   "source": [
    "We can see that events having high urgency have high impact and events having low urgency have low impact."
   ]
  },
  {
   "cell_type": "code",
   "execution_count": 38,
   "metadata": {
    "colab": {
     "base_uri": "https://localhost:8080/",
     "height": 295
    },
    "id": "9hymcWo4kCdS",
    "outputId": "56ef2099-d440-4a1a-aa62-c4be3c57a046"
   },
   "outputs": [
    {
     "data": {
      "text/plain": [
       "<AxesSubplot:xlabel='priority', ylabel='count'>"
      ]
     },
     "execution_count": 38,
     "metadata": {},
     "output_type": "execute_result"
    },
    {
     "data": {
      "image/png": "[encoded data removed]",
      "text/plain": [
       "<Figure size 432x288 with 1 Axes>"
      ]
     },
     "metadata": {
      "needs_background": "light"
     },
     "output_type": "display_data"
    }
   ],
   "source": [
    "sns.countplot(x='priority',hue='impact',data=incident)"
   ]
  },
  {
   "cell_type": "markdown",
   "metadata": {
    "id": "RFuRbKDvkNeV"
   },
   "source": [
    "The events having high and critical priority have high impact, whereas low priority events have low impact."
   ]
  },
  {
   "cell_type": "code",
   "execution_count": 39,
   "metadata": {
    "colab": {
     "base_uri": "https://localhost:8080/",
     "height": 295
    },
    "id": "NR_cgJRBkJGr",
    "outputId": "d3c8a0e2-0e62-41c8-84d3-0314c3e05f19"
   },
   "outputs": [
    {
     "data": {
      "text/plain": [
       "<AxesSubplot:xlabel='impact', ylabel='count'>"
      ]
     },
     "execution_count": 39,
     "metadata": {},
     "output_type": "execute_result"
    },
    {
     "data": {
      "image/png": "[encoded data removed]",
      "text/plain": [
       "<Figure size 432x288 with 1 Axes>"
      ]
     },
     "metadata": {
      "needs_background": "light"
     },
     "output_type": "display_data"
    }
   ],
   "source": [
    "sns.countplot(x='impact',hue='active',data=incident)"
   ]
  },
  {
   "cell_type": "markdown",
   "metadata": {
    "id": "TcDd2WK7kzZW"
   },
   "source": [
    "We can see that there are more active users of moderate impact type."
   ]
  },
  {
   "cell_type": "code",
   "execution_count": 40,
   "metadata": {
    "colab": {
     "base_uri": "https://localhost:8080/",
     "height": 362
    },
    "id": "9vppoNFfkv11",
    "outputId": "0e27552e-cf9a-4de6-c2da-60c19ea32082"
   },
   "outputs": [
    {
     "data": {
      "text/html": [
       "<div>\n",
       "<style scoped>\n",
       "    .dataframe tbody tr th:only-of-type {\n",
       "        vertical-align: middle;\n",
       "    }\n",
       "\n",
       "    .dataframe tbody tr th {\n",
       "        vertical-align: top;\n",
       "    }\n",
       "\n",
       "    .dataframe thead th {\n",
       "        text-align: right;\n",
       "    }\n",
       "</style>\n",
       "<table border=\"1\" class=\"dataframe\">\n",
       "  <thead>\n",
       "    <tr style=\"text-align: right;\">\n",
       "      <th>impact</th>\n",
       "      <th>1 - High</th>\n",
       "      <th>2 - Medium</th>\n",
       "      <th>3 - Low</th>\n",
       "    </tr>\n",
       "    <tr>\n",
       "      <th>reopen_count</th>\n",
       "      <th></th>\n",
       "      <th></th>\n",
       "      <th></th>\n",
       "    </tr>\n",
       "  </thead>\n",
       "  <tbody>\n",
       "    <tr>\n",
       "      <th>0</th>\n",
       "      <td>2269</td>\n",
       "      <td>84907</td>\n",
       "      <td>2497</td>\n",
       "    </tr>\n",
       "    <tr>\n",
       "      <th>1</th>\n",
       "      <td>21</td>\n",
       "      <td>1209</td>\n",
       "      <td>26</td>\n",
       "    </tr>\n",
       "    <tr>\n",
       "      <th>2</th>\n",
       "      <td>0</td>\n",
       "      <td>125</td>\n",
       "      <td>0</td>\n",
       "    </tr>\n",
       "    <tr>\n",
       "      <th>3</th>\n",
       "      <td>0</td>\n",
       "      <td>57</td>\n",
       "      <td>0</td>\n",
       "    </tr>\n",
       "    <tr>\n",
       "      <th>4</th>\n",
       "      <td>0</td>\n",
       "      <td>48</td>\n",
       "      <td>0</td>\n",
       "    </tr>\n",
       "    <tr>\n",
       "      <th>5</th>\n",
       "      <td>0</td>\n",
       "      <td>24</td>\n",
       "      <td>0</td>\n",
       "    </tr>\n",
       "    <tr>\n",
       "      <th>6</th>\n",
       "      <td>0</td>\n",
       "      <td>18</td>\n",
       "      <td>0</td>\n",
       "    </tr>\n",
       "    <tr>\n",
       "      <th>7</th>\n",
       "      <td>0</td>\n",
       "      <td>5</td>\n",
       "      <td>0</td>\n",
       "    </tr>\n",
       "    <tr>\n",
       "      <th>8</th>\n",
       "      <td>0</td>\n",
       "      <td>4</td>\n",
       "      <td>0</td>\n",
       "    </tr>\n",
       "  </tbody>\n",
       "</table>\n",
       "</div>"
      ],
      "text/plain": [
       "impact        1 - High  2 - Medium  3 - Low\n",
       "reopen_count                               \n",
       "0                 2269       84907     2497\n",
       "1                   21        1209       26\n",
       "2                    0         125        0\n",
       "3                    0          57        0\n",
       "4                    0          48        0\n",
       "5                    0          24        0\n",
       "6                    0          18        0\n",
       "7                    0           5        0\n",
       "8                    0           4        0"
      ]
     },
     "execution_count": 40,
     "metadata": {},
     "output_type": "execute_result"
    }
   ],
   "source": [
    "pd.crosstab(incident['reopen_count'],incident['impact'])"
   ]
  },
  {
   "cell_type": "code",
   "execution_count": 41,
   "metadata": {
    "colab": {
     "base_uri": "https://localhost:8080/",
     "height": 205
    },
    "id": "cY_CZpEAmPAy",
    "outputId": "7ab07234-beac-4e32-ad6d-e02e4c277aa0"
   },
   "outputs": [
    {
     "data": {
      "text/html": [
       "<div>\n",
       "<style scoped>\n",
       "    .dataframe tbody tr th:only-of-type {\n",
       "        vertical-align: middle;\n",
       "    }\n",
       "\n",
       "    .dataframe tbody tr th {\n",
       "        vertical-align: top;\n",
       "    }\n",
       "\n",
       "    .dataframe thead th {\n",
       "        text-align: right;\n",
       "    }\n",
       "</style>\n",
       "<table border=\"1\" class=\"dataframe\">\n",
       "  <thead>\n",
       "    <tr style=\"text-align: right;\">\n",
       "      <th>impact</th>\n",
       "      <th>1 - High</th>\n",
       "      <th>2 - Medium</th>\n",
       "      <th>3 - Low</th>\n",
       "    </tr>\n",
       "    <tr>\n",
       "      <th>contact_type</th>\n",
       "      <th></th>\n",
       "      <th></th>\n",
       "      <th></th>\n",
       "    </tr>\n",
       "  </thead>\n",
       "  <tbody>\n",
       "    <tr>\n",
       "      <th>Direct opening</th>\n",
       "      <td>0</td>\n",
       "      <td>14</td>\n",
       "      <td>0</td>\n",
       "    </tr>\n",
       "    <tr>\n",
       "      <th>Email</th>\n",
       "      <td>0</td>\n",
       "      <td>160</td>\n",
       "      <td>0</td>\n",
       "    </tr>\n",
       "    <tr>\n",
       "      <th>Phone</th>\n",
       "      <td>2275</td>\n",
       "      <td>85469</td>\n",
       "      <td>2523</td>\n",
       "    </tr>\n",
       "    <tr>\n",
       "      <th>Self service</th>\n",
       "      <td>15</td>\n",
       "      <td>754</td>\n",
       "      <td>0</td>\n",
       "    </tr>\n",
       "  </tbody>\n",
       "</table>\n",
       "</div>"
      ],
      "text/plain": [
       "impact          1 - High  2 - Medium  3 - Low\n",
       "contact_type                                 \n",
       "Direct opening         0          14        0\n",
       "Email                  0         160        0\n",
       "Phone               2275       85469     2523\n",
       "Self service          15         754        0"
      ]
     },
     "execution_count": 41,
     "metadata": {},
     "output_type": "execute_result"
    }
   ],
   "source": [
    "pd.crosstab(incident['contact_type'],incident['impact'])"
   ]
  },
  {
   "cell_type": "markdown",
   "metadata": {
    "id": "utTOFH44m6gC"
   },
   "source": [
    "Most of the events were resolved on phone, while few high and moderate impact events were solved by providing self-service"
   ]
  },
  {
   "cell_type": "code",
   "execution_count": 42,
   "metadata": {
    "colab": {
     "base_uri": "https://localhost:8080/",
     "height": 143
    },
    "id": "tPELQJW6m25_",
    "outputId": "cf87e894-b0eb-4765-f087-8f44d543e601"
   },
   "outputs": [
    {
     "data": {
      "text/html": [
       "<div>\n",
       "<style scoped>\n",
       "    .dataframe tbody tr th:only-of-type {\n",
       "        vertical-align: middle;\n",
       "    }\n",
       "\n",
       "    .dataframe tbody tr th {\n",
       "        vertical-align: top;\n",
       "    }\n",
       "\n",
       "    .dataframe thead th {\n",
       "        text-align: right;\n",
       "    }\n",
       "</style>\n",
       "<table border=\"1\" class=\"dataframe\">\n",
       "  <thead>\n",
       "    <tr style=\"text-align: right;\">\n",
       "      <th>impact</th>\n",
       "      <th>1 - High</th>\n",
       "      <th>2 - Medium</th>\n",
       "      <th>3 - Low</th>\n",
       "    </tr>\n",
       "    <tr>\n",
       "      <th>knowledge</th>\n",
       "      <th></th>\n",
       "      <th></th>\n",
       "      <th></th>\n",
       "    </tr>\n",
       "  </thead>\n",
       "  <tbody>\n",
       "    <tr>\n",
       "      <th>False</th>\n",
       "      <td>0.020458</td>\n",
       "      <td>0.844173</td>\n",
       "      <td>0.017542</td>\n",
       "    </tr>\n",
       "    <tr>\n",
       "      <th>True</th>\n",
       "      <td>0.004649</td>\n",
       "      <td>0.103059</td>\n",
       "      <td>0.010120</td>\n",
       "    </tr>\n",
       "  </tbody>\n",
       "</table>\n",
       "</div>"
      ],
      "text/plain": [
       "impact     1 - High  2 - Medium   3 - Low\n",
       "knowledge                                \n",
       "False      0.020458    0.844173  0.017542\n",
       "True       0.004649    0.103059  0.010120"
      ]
     },
     "execution_count": 42,
     "metadata": {},
     "output_type": "execute_result"
    }
   ],
   "source": [
    "pd.crosstab(incident['knowledge'],incident['impact'],normalize=True)"
   ]
  },
  {
   "cell_type": "markdown",
   "metadata": {
    "id": "iN5LZIFroTWM"
   },
   "source": [
    "16% of the moderate impact incidents were resolved using knowledge based documents."
   ]
  },
  {
   "cell_type": "code",
   "execution_count": 43,
   "metadata": {
    "colab": {
     "base_uri": "https://localhost:8080/",
     "height": 143
    },
    "id": "eOxRhELwnp9n",
    "outputId": "8a28c178-f301-47b3-d288-f84e9779b819"
   },
   "outputs": [
    {
     "data": {
      "text/html": [
       "<div>\n",
       "<style scoped>\n",
       "    .dataframe tbody tr th:only-of-type {\n",
       "        vertical-align: middle;\n",
       "    }\n",
       "\n",
       "    .dataframe tbody tr th {\n",
       "        vertical-align: top;\n",
       "    }\n",
       "\n",
       "    .dataframe thead th {\n",
       "        text-align: right;\n",
       "    }\n",
       "</style>\n",
       "<table border=\"1\" class=\"dataframe\">\n",
       "  <thead>\n",
       "    <tr style=\"text-align: right;\">\n",
       "      <th>impact</th>\n",
       "      <th>1 - High</th>\n",
       "      <th>2 - Medium</th>\n",
       "      <th>3 - Low</th>\n",
       "    </tr>\n",
       "    <tr>\n",
       "      <th>u_priority_confirmation</th>\n",
       "      <th></th>\n",
       "      <th></th>\n",
       "      <th></th>\n",
       "    </tr>\n",
       "  </thead>\n",
       "  <tbody>\n",
       "    <tr>\n",
       "      <th>False</th>\n",
       "      <td>0.015305</td>\n",
       "      <td>0.663239</td>\n",
       "      <td>0.020699</td>\n",
       "    </tr>\n",
       "    <tr>\n",
       "      <th>True</th>\n",
       "      <td>0.009802</td>\n",
       "      <td>0.283993</td>\n",
       "      <td>0.006962</td>\n",
       "    </tr>\n",
       "  </tbody>\n",
       "</table>\n",
       "</div>"
      ],
      "text/plain": [
       "impact                   1 - High  2 - Medium   3 - Low\n",
       "u_priority_confirmation                                \n",
       "False                    0.015305    0.663239  0.020699\n",
       "True                     0.009802    0.283993  0.006962"
      ]
     },
     "execution_count": 43,
     "metadata": {},
     "output_type": "execute_result"
    }
   ],
   "source": [
    "pd.crosstab(incident['u_priority_confirmation'],incident['impact'],normalize=True)"
   ]
  },
  {
   "cell_type": "code",
   "execution_count": 44,
   "metadata": {
    "colab": {
     "base_uri": "https://localhost:8080/"
    },
    "id": "QWU800Kro2E0",
    "outputId": "e0f9cae8-d43a-432d-d689-fc631afe3e06"
   },
   "outputs": [
    {
     "data": {
      "text/plain": [
       "Do Not Notify    91140\n",
       "Send Email          70\n",
       "Name: notify, dtype: int64"
      ]
     },
     "execution_count": 44,
     "metadata": {},
     "output_type": "execute_result"
    }
   ],
   "source": [
    "incident['notify'].value_counts()"
   ]
  },
  {
   "cell_type": "code",
   "execution_count": 45,
   "metadata": {
    "colab": {
     "base_uri": "https://localhost:8080/",
     "height": 143
    },
    "id": "Y05OCR48prYl",
    "outputId": "5cce92df-d0b2-4088-8517-4951245697a9"
   },
   "outputs": [
    {
     "data": {
      "text/html": [
       "<div>\n",
       "<style scoped>\n",
       "    .dataframe tbody tr th:only-of-type {\n",
       "        vertical-align: middle;\n",
       "    }\n",
       "\n",
       "    .dataframe tbody tr th {\n",
       "        vertical-align: top;\n",
       "    }\n",
       "\n",
       "    .dataframe thead th {\n",
       "        text-align: right;\n",
       "    }\n",
       "</style>\n",
       "<table border=\"1\" class=\"dataframe\">\n",
       "  <thead>\n",
       "    <tr style=\"text-align: right;\">\n",
       "      <th>impact</th>\n",
       "      <th>1 - High</th>\n",
       "      <th>2 - Medium</th>\n",
       "      <th>3 - Low</th>\n",
       "    </tr>\n",
       "    <tr>\n",
       "      <th>notify</th>\n",
       "      <th></th>\n",
       "      <th></th>\n",
       "      <th></th>\n",
       "    </tr>\n",
       "  </thead>\n",
       "  <tbody>\n",
       "    <tr>\n",
       "      <th>Do Not Notify</th>\n",
       "      <td>0.025107</td>\n",
       "      <td>0.946464</td>\n",
       "      <td>0.027661</td>\n",
       "    </tr>\n",
       "    <tr>\n",
       "      <th>Send Email</th>\n",
       "      <td>0.000000</td>\n",
       "      <td>0.000767</td>\n",
       "      <td>0.000000</td>\n",
       "    </tr>\n",
       "  </tbody>\n",
       "</table>\n",
       "</div>"
      ],
      "text/plain": [
       "impact         1 - High  2 - Medium   3 - Low\n",
       "notify                                       \n",
       "Do Not Notify  0.025107    0.946464  0.027661\n",
       "Send Email     0.000000    0.000767  0.000000"
      ]
     },
     "execution_count": 45,
     "metadata": {},
     "output_type": "execute_result"
    }
   ],
   "source": [
    "pd.crosstab(incident['notify'],incident['impact'],normalize=True)"
   ]
  },
  {
   "cell_type": "markdown",
   "metadata": {
    "id": "6shpdR4Lp3H9"
   },
   "source": [
    "Notifications were not generated for almost all  incidents. Hence, we can remove them as they do not have significant unique values."
   ]
  },
  {
   "cell_type": "markdown",
   "metadata": {
    "id": "i22oKTyoqLvH"
   },
   "source": [
    "As urgency and priority give us the same intuition, we can say that they exhibit collinearity. Hence, we can remove priority and u_priority_confirmation.  "
   ]
  },
  {
   "cell_type": "code",
   "execution_count": 46,
   "metadata": {
    "id": "3U1Mdjskp0yf"
   },
   "outputs": [],
   "source": [
    "incident=incident.drop(['notify','priority','u_priority_confirmation','urgency'],axis=1)"
   ]
  },
  {
   "cell_type": "code",
   "execution_count": 47,
   "metadata": {
    "colab": {
     "base_uri": "https://localhost:8080/"
    },
    "id": "aKlZSd3Ns39J",
    "outputId": "012ae410-01c6-4f0d-b317-bf89deea4508"
   },
   "outputs": [
    {
     "name": "stdout",
     "output_type": "stream",
     "text": [
      "Number of columns after data cleaning:  24\n",
      "\n",
      "Index(['incident_state', 'active', 'reassignment_count', 'reopen_count',\n",
      "       'sys_mod_count', 'made_sla', 'caller_id', 'opened_by', 'opened_at',\n",
      "       'sys_created_by', 'sys_created_at', 'sys_updated_by', 'sys_updated_at',\n",
      "       'contact_type', 'location', 'category', 'subcategory', 'u_symptom',\n",
      "       'impact', 'assignment_group', 'assigned_to', 'knowledge', 'resolved_by',\n",
      "       'resolved_at'],\n",
      "      dtype='object')\n"
     ]
    }
   ],
   "source": [
    "print('Number of columns after data cleaning: ',len(incident.columns))\n",
    "print()\n",
    "print(incident.columns)"
   ]
  },
  {
   "cell_type": "markdown",
   "metadata": {
    "id": "Ke95U-_DcYvh"
   },
   "source": [
    "##Encoding variables"
   ]
  },
  {
   "cell_type": "code",
   "execution_count": 48,
   "metadata": {
    "id": "EutKYQvnNlzV"
   },
   "outputs": [],
   "source": [
    "#Change the datatypes of date and time variables\n",
    "incident['sys_updated_at']= pd.to_datetime(incident['sys_updated_at'])\n",
    "incident['sys_created_at']= pd.to_datetime(incident['sys_created_at'])\n",
    "incident['opened_at']= pd.to_datetime(incident['opened_at'])\n",
    "incident['resolved_at']= pd.to_datetime(incident['resolved_at'])"
   ]
  },
  {
   "cell_type": "code",
   "execution_count": 49,
   "metadata": {
    "id": "ZHzSmDk-u-8g"
   },
   "outputs": [],
   "source": [
    "incident_impact=incident['impact']\n",
    "incident_impact=incident_impact.replace({'1 - High':1,'2 - Medium':2,'3 - Low':3,})\n",
    "incident_features=incident.drop(['impact'],axis=1)\n"
   ]
  },
  {
   "cell_type": "markdown",
   "metadata": {
    "id": "Pv4P0lY8tUjz"
   },
   "source": [
    "Let us extract the important part of variables or the substring from every feature."
   ]
  },
  {
   "cell_type": "code",
   "execution_count": 50,
   "metadata": {
    "colab": {
     "base_uri": "https://localhost:8080/",
     "height": 613
    },
    "id": "MwTK7pTFv1mQ",
    "outputId": "7ea0975b-f642-4597-99a0-36546eb48798"
   },
   "outputs": [],
   "source": [
    "incident_features['caller_id']=incident_features['caller_id'].apply(lambda x: int(x.split(' ')[-1]))\n",
    "incident_features['u_symptom']=incident_features['u_symptom'].apply(lambda x: int(x.split(' ')[-1]))\n",
    "incident_features['opened_by']=incident_features['opened_by'].apply(lambda x: int(x.split(' ')[-1]))\n",
    "incident_features['sys_created_by']=incident_features['sys_created_by'].apply(lambda x: int(x.split(' ')[-1]))\n",
    "incident_features['sys_updated_by']=incident_features['sys_updated_by'].apply(lambda x: int(x.split(' ')[-1]))\n",
    "incident_features['location']=incident_features['location'].apply(lambda x: int(x.split(' ')[1]))\n",
    "incident_features['category']=incident_features['category'].apply(lambda x: int(x.split(' ')[1]))\n",
    "incident_features['subcategory']=incident_features['subcategory'].apply(lambda x: int(x.split(' ')[1]))\n",
    "incident_features['assignment_group']=incident_features['assignment_group'].apply(lambda x: int(x.split(' ')[1]))\n",
    "incident_features['assigned_to']=incident_features['assigned_to'].apply(lambda x: int(x.split(' ')[1]))\n",
    "incident_features['resolved_by']=incident_features['resolved_by'].apply(lambda x: int(x.split(' ')[-1]))"
   ]
  },
  {
   "cell_type": "code",
   "execution_count": 51,
   "metadata": {
    "id": "ovcu4jgLl366"
   },
   "outputs": [],
   "source": [
    "incident_object=incident_features.select_dtypes(include='object')\n",
    "\n",
    "#Label encoding\n",
    "from sklearn.preprocessing import LabelEncoder\n",
    "for col in incident_object.columns:\n",
    "  incident_features[col]=LabelEncoder().fit_transform(incident_features[col])"
   ]
  },
  {
   "cell_type": "code",
   "execution_count": 52,
   "metadata": {
    "colab": {
     "base_uri": "https://localhost:8080/",
     "height": 398
    },
    "id": "NagoI6zK4XET",
    "outputId": "4067d932-220a-4d68-8719-f71596757a7e"
   },
   "outputs": [
    {
     "data": {
      "text/html": [
       "<div>\n",
       "<style scoped>\n",
       "    .dataframe tbody tr th:only-of-type {\n",
       "        vertical-align: middle;\n",
       "    }\n",
       "\n",
       "    .dataframe tbody tr th {\n",
       "        vertical-align: top;\n",
       "    }\n",
       "\n",
       "    .dataframe thead th {\n",
       "        text-align: right;\n",
       "    }\n",
       "</style>\n",
       "<table border=\"1\" class=\"dataframe\">\n",
       "  <thead>\n",
       "    <tr style=\"text-align: right;\">\n",
       "      <th></th>\n",
       "      <th>incident_state</th>\n",
       "      <th>active</th>\n",
       "      <th>reassignment_count</th>\n",
       "      <th>reopen_count</th>\n",
       "      <th>sys_mod_count</th>\n",
       "      <th>made_sla</th>\n",
       "      <th>caller_id</th>\n",
       "      <th>opened_by</th>\n",
       "      <th>opened_at</th>\n",
       "      <th>sys_created_by</th>\n",
       "      <th>...</th>\n",
       "      <th>contact_type</th>\n",
       "      <th>location</th>\n",
       "      <th>category</th>\n",
       "      <th>subcategory</th>\n",
       "      <th>u_symptom</th>\n",
       "      <th>assignment_group</th>\n",
       "      <th>assigned_to</th>\n",
       "      <th>knowledge</th>\n",
       "      <th>resolved_by</th>\n",
       "      <th>resolved_at</th>\n",
       "    </tr>\n",
       "  </thead>\n",
       "  <tbody>\n",
       "    <tr>\n",
       "      <th>0</th>\n",
       "      <td>7</td>\n",
       "      <td>1</td>\n",
       "      <td>0</td>\n",
       "      <td>0</td>\n",
       "      <td>0</td>\n",
       "      <td>1</td>\n",
       "      <td>2403</td>\n",
       "      <td>8</td>\n",
       "      <td>2016-02-29 01:16:00</td>\n",
       "      <td>6</td>\n",
       "      <td>...</td>\n",
       "      <td>2</td>\n",
       "      <td>143</td>\n",
       "      <td>55</td>\n",
       "      <td>170</td>\n",
       "      <td>72</td>\n",
       "      <td>56</td>\n",
       "      <td>17</td>\n",
       "      <td>1</td>\n",
       "      <td>149</td>\n",
       "      <td>2016-02-29 11:29:00</td>\n",
       "    </tr>\n",
       "    <tr>\n",
       "      <th>1</th>\n",
       "      <td>8</td>\n",
       "      <td>1</td>\n",
       "      <td>0</td>\n",
       "      <td>0</td>\n",
       "      <td>2</td>\n",
       "      <td>1</td>\n",
       "      <td>2403</td>\n",
       "      <td>8</td>\n",
       "      <td>2016-02-29 01:16:00</td>\n",
       "      <td>6</td>\n",
       "      <td>...</td>\n",
       "      <td>2</td>\n",
       "      <td>143</td>\n",
       "      <td>55</td>\n",
       "      <td>170</td>\n",
       "      <td>72</td>\n",
       "      <td>56</td>\n",
       "      <td>17</td>\n",
       "      <td>1</td>\n",
       "      <td>149</td>\n",
       "      <td>2016-02-29 11:29:00</td>\n",
       "    </tr>\n",
       "    <tr>\n",
       "      <th>2</th>\n",
       "      <td>8</td>\n",
       "      <td>1</td>\n",
       "      <td>0</td>\n",
       "      <td>0</td>\n",
       "      <td>3</td>\n",
       "      <td>1</td>\n",
       "      <td>2403</td>\n",
       "      <td>8</td>\n",
       "      <td>2016-02-29 01:16:00</td>\n",
       "      <td>6</td>\n",
       "      <td>...</td>\n",
       "      <td>2</td>\n",
       "      <td>143</td>\n",
       "      <td>55</td>\n",
       "      <td>170</td>\n",
       "      <td>72</td>\n",
       "      <td>56</td>\n",
       "      <td>17</td>\n",
       "      <td>1</td>\n",
       "      <td>149</td>\n",
       "      <td>2016-02-29 11:29:00</td>\n",
       "    </tr>\n",
       "    <tr>\n",
       "      <th>3</th>\n",
       "      <td>6</td>\n",
       "      <td>0</td>\n",
       "      <td>0</td>\n",
       "      <td>0</td>\n",
       "      <td>4</td>\n",
       "      <td>1</td>\n",
       "      <td>2403</td>\n",
       "      <td>8</td>\n",
       "      <td>2016-02-29 01:16:00</td>\n",
       "      <td>6</td>\n",
       "      <td>...</td>\n",
       "      <td>2</td>\n",
       "      <td>143</td>\n",
       "      <td>55</td>\n",
       "      <td>170</td>\n",
       "      <td>72</td>\n",
       "      <td>56</td>\n",
       "      <td>17</td>\n",
       "      <td>1</td>\n",
       "      <td>149</td>\n",
       "      <td>2016-02-29 11:29:00</td>\n",
       "    </tr>\n",
       "    <tr>\n",
       "      <th>4</th>\n",
       "      <td>7</td>\n",
       "      <td>1</td>\n",
       "      <td>0</td>\n",
       "      <td>0</td>\n",
       "      <td>0</td>\n",
       "      <td>1</td>\n",
       "      <td>2403</td>\n",
       "      <td>397</td>\n",
       "      <td>2016-02-29 04:40:00</td>\n",
       "      <td>171</td>\n",
       "      <td>...</td>\n",
       "      <td>2</td>\n",
       "      <td>165</td>\n",
       "      <td>40</td>\n",
       "      <td>215</td>\n",
       "      <td>471</td>\n",
       "      <td>70</td>\n",
       "      <td>89</td>\n",
       "      <td>1</td>\n",
       "      <td>81</td>\n",
       "      <td>2016-01-03 09:52:00</td>\n",
       "    </tr>\n",
       "  </tbody>\n",
       "</table>\n",
       "<p>5 rows × 23 columns</p>\n",
       "</div>"
      ],
      "text/plain": [
       "   incident_state  active  reassignment_count  reopen_count  sys_mod_count  \\\n",
       "0               7       1                   0             0              0   \n",
       "1               8       1                   0             0              2   \n",
       "2               8       1                   0             0              3   \n",
       "3               6       0                   0             0              4   \n",
       "4               7       1                   0             0              0   \n",
       "\n",
       "   made_sla  caller_id  opened_by           opened_at  sys_created_by  ...  \\\n",
       "0         1       2403          8 2016-02-29 01:16:00               6  ...   \n",
       "1         1       2403          8 2016-02-29 01:16:00               6  ...   \n",
       "2         1       2403          8 2016-02-29 01:16:00               6  ...   \n",
       "3         1       2403          8 2016-02-29 01:16:00               6  ...   \n",
       "4         1       2403        397 2016-02-29 04:40:00             171  ...   \n",
       "\n",
       "  contact_type  location category  subcategory  u_symptom  assignment_group  \\\n",
       "0            2       143       55          170         72                56   \n",
       "1            2       143       55          170         72                56   \n",
       "2            2       143       55          170         72                56   \n",
       "3            2       143       55          170         72                56   \n",
       "4            2       165       40          215        471                70   \n",
       "\n",
       "   assigned_to  knowledge  resolved_by         resolved_at  \n",
       "0           17          1          149 2016-02-29 11:29:00  \n",
       "1           17          1          149 2016-02-29 11:29:00  \n",
       "2           17          1          149 2016-02-29 11:29:00  \n",
       "3           17          1          149 2016-02-29 11:29:00  \n",
       "4           89          1           81 2016-01-03 09:52:00  \n",
       "\n",
       "[5 rows x 23 columns]"
      ]
     },
     "execution_count": 52,
     "metadata": {},
     "output_type": "execute_result"
    }
   ],
   "source": [
    "incident_features.head()"
   ]
  },
  {
   "cell_type": "markdown",
   "metadata": {
    "id": "SCGMEI8rdEyZ"
   },
   "source": [
    "Dealing with datetime variables."
   ]
  },
  {
   "cell_type": "markdown",
   "metadata": {
    "id": "4hVAjl4igukL"
   },
   "source": [
    "Let us split the date variables to their respective day, month, year and hour features for easy numerical encoding and analysis."
   ]
  },
  {
   "cell_type": "code",
   "execution_count": 53,
   "metadata": {
    "colab": {
     "base_uri": "https://localhost:8080/"
    },
    "id": "owrLfDHAdJ6H",
    "outputId": "6e8c82e5-5d65-4389-b1da-8093e7df9c1b"
   },
   "outputs": [
    {
     "data": {
      "text/plain": [
       "Index(['opened_at', 'sys_created_at', 'sys_updated_at', 'resolved_at'], dtype='object')"
      ]
     },
     "execution_count": 53,
     "metadata": {},
     "output_type": "execute_result"
    }
   ],
   "source": [
    "incident_features.select_dtypes(include=['datetime64']).columns"
   ]
  },
  {
   "cell_type": "code",
   "execution_count": 54,
   "metadata": {
    "id": "bie9Tt2bdJ3N"
   },
   "outputs": [],
   "source": [
    "#Extract day,month, year and hour for opened_at variable\n",
    "incident_features[\"opened_day\"]=incident_features['opened_at'].dt.day\n",
    "incident_features[\"opened_month\"]=incident_features['opened_at'].dt.month\n",
    "incident_features[\"opened_year\"]=incident_features['opened_at'].dt.year\n",
    "incident_features[\"opened_hour\"]=incident_features['opened_at'].dt.hour\n",
    "\n",
    "#Extract day,month, year and hour for sys_created_at variable\n",
    "incident_features[\"syscreated_day\"]=incident_features['sys_created_at'].dt.day\n",
    "incident_features[\"syscreated_month\"]=incident_features['sys_created_at'].dt.month\n",
    "incident_features[\"syscreated_year\"]=incident_features['sys_created_at'].dt.year\n",
    "incident_features[\"syscreated_hour\"]=incident_features['sys_created_at'].dt.hour\n",
    "\n",
    "#Extract day,month, year and hour for sys_updated_at variable\n",
    "incident_features[\"sysupdated_day\"]=incident_features['sys_updated_at'].dt.day\n",
    "incident_features[\"sysupdated_month\"]=incident_features['sys_updated_at'].dt.month\n",
    "incident_features[\"sysupdated_year\"]=incident_features['sys_updated_at'].dt.year\n",
    "incident_features[\"sysupdated_hour\"]=incident_features['sys_updated_at'].dt.hour\n",
    "\n",
    "#Extract day,month, year and hour for resolved_at variable\n",
    "incident_features[\"resolved_day\"]=incident_features['resolved_at'].dt.day\n",
    "incident_features[\"resolved_month\"]=incident_features['resolved_at'].dt.month\n",
    "incident_features[\"resolved_year\"]=incident_features['resolved_at'].dt.year\n",
    "incident_features[\"resolved_hour\"]=incident_features['resolved_at'].dt.hour\n",
    "\n",
    "#Drop the date columns\n",
    "incident_features=incident_features.drop(['opened_at','sys_updated_at','sys_created_at','resolved_at'],axis=1)\n"
   ]
  },
  {
   "cell_type": "code",
   "execution_count": 55,
   "metadata": {
    "colab": {
     "base_uri": "https://localhost:8080/"
    },
    "id": "7r0S9u9zjkGf",
    "outputId": "dfca2726-bc46-4e3d-b551-905ba6e10cdf"
   },
   "outputs": [
    {
     "data": {
      "text/plain": [
       "(91210, 35)"
      ]
     },
     "execution_count": 55,
     "metadata": {},
     "output_type": "execute_result"
    }
   ],
   "source": [
    "incident_features.shape"
   ]
  },
  {
   "cell_type": "markdown",
   "metadata": {
    "id": "XPhb1NVehEmM"
   },
   "source": [
    "##Balancing the data"
   ]
  },
  {
   "cell_type": "code",
   "execution_count": 56,
   "metadata": {
    "id": "GYGBpsyDrxV6"
   },
   "outputs": [],
   "source": [
    "#Seperate independent and dependent variables\n",
    "X=incident_features.copy()\n",
    "target=incident_impact"
   ]
  },
  {
   "cell_type": "code",
   "execution_count": 57,
   "metadata": {
    "id": "VvDxeEDvJj0w"
   },
   "outputs": [],
   "source": [
    "from sklearn.model_selection import train_test_split\n",
    "X_train, val_features, y_train, val_impact = train_test_split(X, target, test_size=0.1,random_state=1,stratify=target)"
   ]
  },
  {
   "cell_type": "code",
   "execution_count": 58,
   "metadata": {
    "colab": {
     "base_uri": "https://localhost:8080/"
    },
    "id": "lGy6qj4ZxR2s",
    "outputId": "6fafc486-ba3f-4c24-fd45-2fad5f065f09"
   },
   "outputs": [
    {
     "name": "stdout",
     "output_type": "stream",
     "text": [
      "(82089, 35) (9121, 35) (82089,) (9121,)\n"
     ]
    }
   ],
   "source": [
    "print(X_train.shape, val_features.shape, y_train.shape, val_impact.shape)"
   ]
  },
  {
   "cell_type": "code",
   "execution_count": 59,
   "metadata": {
    "id": "s6lLqVrMs-tT"
   },
   "outputs": [],
   "source": [
    "#Split the 100% train dataset further into 70%train and 30%test and apply smote on 80% train dataset\n",
    "X_train_new, X_test_new, y_train_new, y_test_new = train_test_split(X_train, y_train,\n",
    "                                                  test_size = .3,\n",
    "                                                  random_state=10)"
   ]
  },
  {
   "cell_type": "code",
   "execution_count": 60,
   "metadata": {
    "colab": {
     "base_uri": "https://localhost:8080/"
    },
    "id": "Ku1K0qw4xaXD",
    "outputId": "db75d2db-6880-4eb3-a66b-7eccd96c3d46"
   },
   "outputs": [
    {
     "name": "stdout",
     "output_type": "stream",
     "text": [
      "(57462, 35) (24627, 35) (57462,) (24627,)\n"
     ]
    }
   ],
   "source": [
    "print(X_train_new.shape, X_test_new.shape, y_train_new.shape, y_test_new.shape)"
   ]
  },
  {
   "cell_type": "code",
   "execution_count": 61,
   "metadata": {
    "colab": {
     "base_uri": "https://localhost:8080/"
    },
    "id": "lnEVgaDMt9Z7",
    "outputId": "276682ac-7fd7-426b-9bcd-e62060d9fd45"
   },
   "outputs": [
    {
     "name": "stdout",
     "output_type": "stream",
     "text": [
      "Impact counts before balancing:\n",
      "  2    54437\n",
      "3     1610\n",
      "1     1415\n",
      "Name: impact, dtype: int64\n",
      "Impact counts after balancing: \n",
      " 3    54437\n",
      "2    54437\n",
      "1    54437\n",
      "Name: impact, dtype: int64\n"
     ]
    }
   ],
   "source": [
    "from imblearn.over_sampling import SMOTE\n",
    "oversample=SMOTE()\n",
    "x_balanced,y_balanced=oversample.fit_resample(X_train_new,y_train_new)\n",
    "y_balanced=pd.Series(y_balanced)\n",
    "\n",
    "print(\"Impact counts before balancing:\\n \",y_train_new.value_counts())\n",
    "print(\"Impact counts after balancing: \\n\",y_balanced.value_counts())"
   ]
  },
  {
   "cell_type": "code",
   "execution_count": 62,
   "metadata": {
    "colab": {
     "base_uri": "https://localhost:8080/",
     "height": 384
    },
    "id": "_0fbr5eNtBYj",
    "outputId": "c773ef78-8eb2-4b24-80c7-cf9e7911b8fe"
   },
   "outputs": [
    {
     "name": "stderr",
     "output_type": "stream",
     "text": [
      "C:\\Users\\Rohit Chavan\\anaconda3\\lib\\site-packages\\seaborn\\_decorators.py:36: FutureWarning: Pass the following variable as a keyword arg: x. From version 0.12, the only valid positional argument will be `data`, and passing other arguments without an explicit keyword will result in an error or misinterpretation.\n",
      "  warnings.warn(\n",
      "C:\\Users\\Rohit Chavan\\anaconda3\\lib\\site-packages\\seaborn\\_decorators.py:36: FutureWarning: Pass the following variable as a keyword arg: x. From version 0.12, the only valid positional argument will be `data`, and passing other arguments without an explicit keyword will result in an error or misinterpretation.\n",
      "  warnings.warn(\n"
     ]
    },
    {
     "data": {
      "image/png": "[encoded data removed]",
      "text/plain": [
       "<Figure size 864x288 with 2 Axes>"
      ]
     },
     "metadata": {
      "needs_background": "light"
     },
     "output_type": "display_data"
    }
   ],
   "source": [
    "figure,axes=plt.subplots(1,2,figsize=(12,4))\n",
    "\n",
    "sns.countplot(y_train_new,ax=axes[0])\n",
    "axes[0].set_title('Original data')\n",
    "\n",
    "sns.countplot(y_balanced,ax=axes[1])\n",
    "axes[1].set_title('After oversampling')\n",
    "plt.show()"
   ]
  },
  {
   "cell_type": "markdown",
   "metadata": {
    "id": "9ubT9UcSxkaJ"
   },
   "source": [
    "##Feature engineering"
   ]
  },
  {
   "cell_type": "markdown",
   "metadata": {
    "id": "I_ii2aIxhV-o"
   },
   "source": [
    "###1. Chi2 test"
   ]
  },
  {
   "cell_type": "code",
   "execution_count": 63,
   "metadata": {
    "colab": {
     "base_uri": "https://localhost:8080/"
    },
    "id": "_p5B2oS7gaLt",
    "outputId": "e19f9cd7-27ea-4319-9d9c-ae9a528614bc"
   },
   "outputs": [
    {
     "name": "stdout",
     "output_type": "stream",
     "text": [
      "[4.426e+02 5.988e+02 5.989e+03 7.536e+02 3.630e+03 5.933e+02 2.158e+06\n",
      " 7.404e+05 1.687e+05 1.903e+05 7.793e-01 3.976e+04 4.431e+03 1.480e+04\n",
      " 4.963e+03 1.414e+03 5.461e+04 6.227e+03 7.803e+04 1.398e+04 2.273e+03\n",
      " 6.397e-04 5.394e+03 1.393e+04 2.272e+03 6.397e-04 4.677e+03 7.166e+03\n",
      " 1.705e+03 8.389e-04 2.094e+03 2.145e+03 1.403e+03 9.073e-04 1.819e+03]\n"
     ]
    }
   ],
   "source": [
    "# Feature Extraction with Univariate Statistical Chi-squared Test for classification)\n",
    "from numpy import set_printoptions\n",
    "from sklearn.feature_selection import SelectKBest\n",
    "from sklearn.feature_selection import chi2\n",
    "\n",
    "# feature extraction\n",
    "test = SelectKBest(score_func=chi2, k=12)\n",
    "fit = test.fit(x_balanced, y_balanced)\n",
    "# summarize scores\n",
    "set_printoptions(precision=3)\n",
    "print(fit.scores_)\n",
    "features = fit.transform(x_balanced)\n"
   ]
  },
  {
   "cell_type": "code",
   "execution_count": 64,
   "metadata": {
    "id": "yk8YfuqAlCxX"
   },
   "outputs": [],
   "source": [
    "scores=fit.scores_\n",
    "scores=pd.Series(scores)\n",
    "scores.index=incident_features.columns\n",
    "scores=scores.sort_values(ascending=False)\n"
   ]
  },
  {
   "cell_type": "code",
   "execution_count": 65,
   "metadata": {
    "colab": {
     "base_uri": "https://localhost:8080/",
     "height": 425
    },
    "id": "Y-Q6fiuRnIts",
    "outputId": "d4d926d1-0479-4cd4-96c7-bbfa71ff46e5"
   },
   "outputs": [
    {
     "data": {
      "text/plain": [
       "<AxesSubplot:>"
      ]
     },
     "execution_count": 65,
     "metadata": {},
     "output_type": "execute_result"
    },
    {
     "data": {
      "image/png": "[encoded data removed]",
      "text/plain": [
       "<Figure size 864x360 with 1 Axes>"
      ]
     },
     "metadata": {
      "needs_background": "light"
     },
     "output_type": "display_data"
    }
   ],
   "source": [
    "plt.figure(figsize=(12,5))\n",
    "scores.plot.bar()"
   ]
  },
  {
   "cell_type": "code",
   "execution_count": 66,
   "metadata": {
    "colab": {
     "base_uri": "https://localhost:8080/"
    },
    "id": "GWz9N7zErgJw",
    "outputId": "42b2d751-7bf7-4410-d007-8f8b19697db6"
   },
   "outputs": [
    {
     "name": "stdout",
     "output_type": "stream",
     "text": [
      "caller_id             2.158179e+06\n",
      "opened_by             7.403665e+05\n",
      "sys_updated_by        1.902696e+05\n",
      "sys_created_by        1.687123e+05\n",
      "resolved_by           7.802909e+04\n",
      "assigned_to           5.460991e+04\n",
      "location              3.976164e+04\n",
      "subcategory           1.479985e+04\n",
      "opened_day            1.398133e+04\n",
      "syscreated_day        1.392962e+04\n",
      "sysupdated_day        7.165866e+03\n",
      "knowledge             6.227171e+03\n",
      "reassignment_count    5.989292e+03\n",
      "opened_hour           5.393530e+03\n",
      "u_symptom             4.963262e+03\n",
      "syscreated_hour       4.676575e+03\n",
      "dtype: float64\n"
     ]
    }
   ],
   "source": [
    "print(scores[:16])"
   ]
  },
  {
   "cell_type": "markdown",
   "metadata": {
    "id": "Dd6twnTQ7E_o"
   },
   "source": [
    "###2. Mutual information classification"
   ]
  },
  {
   "cell_type": "code",
   "execution_count": 67,
   "metadata": {
    "colab": {
     "base_uri": "https://localhost:8080/"
    },
    "id": "1yejcXlSk2RC",
    "outputId": "1679fb24-c7b6-45fd-b6f9-38307b9faedf"
   },
   "outputs": [
    {
     "name": "stdout",
     "output_type": "stream",
     "text": [
      "[0.074 0.013 0.014 0.001 0.036 0.028 0.458 0.487 0.232 0.323 0.016 0.164\n",
      " 0.179 0.19  0.15  0.181 0.252 0.022 0.294 0.067 0.035 0.01  0.078 0.067\n",
      " 0.033 0.012 0.08  0.052 0.025 0.01  0.044 0.048 0.026 0.01  0.048]\n"
     ]
    }
   ],
   "source": [
    "from sklearn.feature_selection import mutual_info_classif\n",
    "fs = SelectKBest(score_func=mutual_info_classif, k=15)\n",
    "fs.fit(x_balanced, y_balanced)\n",
    "X_train_fs = fs.transform(x_balanced)\n",
    "print(fs.scores_)"
   ]
  },
  {
   "cell_type": "code",
   "execution_count": 68,
   "metadata": {
    "colab": {
     "base_uri": "https://localhost:8080/"
    },
    "id": "3yXd5haOv560",
    "outputId": "2cff00fa-9a69-4a17-88d8-e408335c8ffa"
   },
   "outputs": [
    {
     "data": {
      "text/plain": [
       "Index(['incident_state', 'caller_id', 'opened_by', 'sys_created_by',\n",
       "       'sys_updated_by', 'location', 'category', 'subcategory', 'u_symptom',\n",
       "       'assignment_group', 'assigned_to', 'resolved_by', 'opened_day',\n",
       "       'opened_hour', 'syscreated_hour'],\n",
       "      dtype='object')"
      ]
     },
     "execution_count": 68,
     "metadata": {},
     "output_type": "execute_result"
    }
   ],
   "source": [
    "X.columns[fs.get_support()]"
   ]
  },
  {
   "cell_type": "markdown",
   "metadata": {
    "id": "DhX8jFaG5oVi"
   },
   "source": [
    "### 3. Feature Importance using Decision Tree"
   ]
  },
  {
   "cell_type": "code",
   "execution_count": 69,
   "metadata": {
    "colab": {
     "base_uri": "https://localhost:8080/"
    },
    "id": "OiJi61DayJ9R",
    "outputId": "6f1ccbe8-8700-4564-f14b-8a446dce19f7"
   },
   "outputs": [
    {
     "name": "stdout",
     "output_type": "stream",
     "text": [
      "[1.269e-02 1.892e-03 1.206e-02 3.033e-03 2.460e-02 9.899e-03 7.608e-02\n",
      " 2.285e-01 2.580e-02 1.766e-02 3.324e-04 3.473e-02 3.690e-02 4.401e-02\n",
      " 2.542e-02 9.670e-02 2.247e-02 3.178e-02 5.333e-02 1.587e-02 1.289e-02\n",
      " 4.713e-05 3.562e-02 1.703e-02 1.103e-02 0.000e+00 5.661e-02 1.405e-02\n",
      " 6.023e-03 5.904e-04 5.168e-03 2.862e-02 2.175e-02 1.347e-05 1.676e-02]\n"
     ]
    }
   ],
   "source": [
    "from sklearn.tree import  DecisionTreeClassifier\n",
    "model = DecisionTreeClassifier()\n",
    "fit=model.fit(x_balanced, y_balanced)\n",
    "print(model.feature_importances_)"
   ]
  },
  {
   "cell_type": "code",
   "execution_count": 70,
   "metadata": {
    "id": "nJoh_Ygt0B2Z"
   },
   "outputs": [],
   "source": [
    "features_imp=model.feature_importances_\n",
    "features_imp=pd.Series(features_imp)\n",
    "features_imp.index=incident_features.columns\n",
    "features_imp=features_imp.sort_values(ascending=False)\n"
   ]
  },
  {
   "cell_type": "code",
   "execution_count": 71,
   "metadata": {
    "colab": {
     "base_uri": "https://localhost:8080/",
     "height": 415
    },
    "id": "63_7fRv83pZb",
    "outputId": "6ea8dad2-654b-4191-f159-e100b4a150ae"
   },
   "outputs": [
    {
     "data": {
      "text/plain": [
       "<AxesSubplot:>"
      ]
     },
     "execution_count": 71,
     "metadata": {},
     "output_type": "execute_result"
    },
    {
     "data": {
      "image/png": "[encoded data removed]",
      "text/plain": [
       "<Figure size 864x360 with 1 Axes>"
      ]
     },
     "metadata": {
      "needs_background": "light"
     },
     "output_type": "display_data"
    }
   ],
   "source": [
    "plt.figure(figsize=(12,5))\n",
    "features_imp.plot.bar()"
   ]
  },
  {
   "cell_type": "code",
   "execution_count": 72,
   "metadata": {
    "colab": {
     "base_uri": "https://localhost:8080/"
    },
    "id": "NWS75e245SUq",
    "outputId": "67a46923-cd2d-437b-9a17-16baba12f373"
   },
   "outputs": [
    {
     "name": "stdout",
     "output_type": "stream",
     "text": [
      "opened_by           0.228516\n",
      "assignment_group    0.096705\n",
      "caller_id           0.076078\n",
      "syscreated_hour     0.056609\n",
      "resolved_by         0.053330\n",
      "subcategory         0.044009\n",
      "category            0.036901\n",
      "opened_hour         0.035621\n",
      "location            0.034734\n",
      "knowledge           0.031783\n",
      "resolved_day        0.028622\n",
      "sys_created_by      0.025804\n",
      "u_symptom           0.025419\n",
      "sys_mod_count       0.024598\n",
      "assigned_to         0.022468\n",
      "resolved_month      0.021754\n",
      "dtype: float64\n"
     ]
    }
   ],
   "source": [
    "print(features_imp[:16])"
   ]
  },
  {
   "cell_type": "code",
   "execution_count": 73,
   "metadata": {
    "id": "o04X6AE-5UR8"
   },
   "outputs": [],
   "source": [
    "#Top 15 selected features from each model\n",
    "chi2_features=scores[:13].to_dict()\n",
    "chi2_features=set(chi2_features.keys())\n",
    "\n",
    "mutualinfo_features=set(X.columns[fs.get_support()])\n",
    "\n",
    "rfe_features=features_imp[:13].to_dict()\n",
    "rfe_features=set(rfe_features.keys())"
   ]
  },
  {
   "cell_type": "code",
   "execution_count": 74,
   "metadata": {
    "colab": {
     "base_uri": "https://localhost:8080/"
    },
    "id": "8J_xzJ-99Xb2",
    "outputId": "e1681fe5-19e8-4092-af6a-e6ad9879c89a"
   },
   "outputs": [
    {
     "name": "stdout",
     "output_type": "stream",
     "text": [
      "['sys_created_by', 'location', 'caller_id', 'opened_by', 'resolved_by', 'subcategory']\n"
     ]
    }
   ],
   "source": [
    "#Use intersection fuction to get the common features from all the three sets\n",
    "chi2_features = chi2_features.intersection(mutualinfo_features)\n",
    "output_set = chi2_features.intersection(rfe_features)\n",
    "output_list = list(output_set)\n",
    "print(output_list)"
   ]
  },
  {
   "cell_type": "markdown",
   "metadata": {
    "id": "o8-A9d3VTMjk"
   },
   "source": [
    "Therefore, we select the following features to predict the impact.\n",
    "\n",
    "\n",
    "*   opened_by,resolved_by,caller_id,sys_created_by,subcategory,location\n",
    "\n",
    "\n"
   ]
  },
  {
   "cell_type": "markdown",
   "metadata": {
    "id": "ukbimjjAT3kj"
   },
   "source": [
    "Also, there are other important variables like location, opened_hour and sys_updated_by by comparing columns from features selection methods chi2 and mutual_info."
   ]
  },
  {
   "cell_type": "code",
   "execution_count": 75,
   "metadata": {
    "id": "DTOXHLiFUkQf"
   },
   "outputs": [],
   "source": [
    "#Let us create a dataframe having significant features in train and test datasets\n",
    "columns=['opened_by', 'resolved_by', 'caller_id', 'sys_created_by', 'subcategory', 'location','sys_updated_by','opened_hour','assigned_to']\n",
    "X_train_new=X_train_new[columns]\n",
    "X_test_new=X_test_new[columns]\n",
    "X_train=X_train[columns]\n",
    "val_features=val_features[columns]"
   ]
  },
  {
   "cell_type": "code",
   "execution_count": 76,
   "metadata": {
    "colab": {
     "base_uri": "https://localhost:8080/"
    },
    "id": "EFJW50TWWhpt",
    "outputId": "f8032c86-b65a-4291-b26c-3fa81d5832c4"
   },
   "outputs": [
    {
     "data": {
      "text/plain": [
       "(91210, 35)"
      ]
     },
     "execution_count": 76,
     "metadata": {},
     "output_type": "execute_result"
    }
   ],
   "source": [
    "X.shape"
   ]
  },
  {
   "cell_type": "code",
   "execution_count": 77,
   "metadata": {
    "colab": {
     "base_uri": "https://localhost:8080/"
    },
    "id": "OJFavtzD5YHv",
    "outputId": "21cbdd48-f0cc-4064-ade5-6b14c0808926"
   },
   "outputs": [
    {
     "data": {
      "text/plain": [
       "(163311, 9)"
      ]
     },
     "execution_count": 77,
     "metadata": {},
     "output_type": "execute_result"
    }
   ],
   "source": [
    "x_balanced=pd.DataFrame(x_balanced,columns=X.columns)\n",
    "x_balanced=x_balanced[columns]\n",
    "x_balanced.shape"
   ]
  },
  {
   "cell_type": "code",
   "execution_count": 78,
   "metadata": {
    "colab": {
     "base_uri": "https://localhost:8080/",
     "height": 225
    },
    "id": "_K24Wob35suA",
    "outputId": "89c9c4be-6fe9-4a5f-9e0c-d30f6f56aa26"
   },
   "outputs": [
    {
     "data": {
      "text/html": [
       "<div>\n",
       "<style scoped>\n",
       "    .dataframe tbody tr th:only-of-type {\n",
       "        vertical-align: middle;\n",
       "    }\n",
       "\n",
       "    .dataframe tbody tr th {\n",
       "        vertical-align: top;\n",
       "    }\n",
       "\n",
       "    .dataframe thead th {\n",
       "        text-align: right;\n",
       "    }\n",
       "</style>\n",
       "<table border=\"1\" class=\"dataframe\">\n",
       "  <thead>\n",
       "    <tr style=\"text-align: right;\">\n",
       "      <th></th>\n",
       "      <th>opened_by</th>\n",
       "      <th>resolved_by</th>\n",
       "      <th>caller_id</th>\n",
       "      <th>sys_created_by</th>\n",
       "      <th>subcategory</th>\n",
       "      <th>location</th>\n",
       "      <th>sys_updated_by</th>\n",
       "      <th>opened_hour</th>\n",
       "      <th>assigned_to</th>\n",
       "    </tr>\n",
       "  </thead>\n",
       "  <tbody>\n",
       "    <tr>\n",
       "      <th>0</th>\n",
       "      <td>390</td>\n",
       "      <td>206</td>\n",
       "      <td>2648</td>\n",
       "      <td>169</td>\n",
       "      <td>174</td>\n",
       "      <td>204</td>\n",
       "      <td>859</td>\n",
       "      <td>15</td>\n",
       "      <td>227</td>\n",
       "    </tr>\n",
       "    <tr>\n",
       "      <th>1</th>\n",
       "      <td>239</td>\n",
       "      <td>213</td>\n",
       "      <td>771</td>\n",
       "      <td>107</td>\n",
       "      <td>233</td>\n",
       "      <td>93</td>\n",
       "      <td>908</td>\n",
       "      <td>11</td>\n",
       "      <td>234</td>\n",
       "    </tr>\n",
       "    <tr>\n",
       "      <th>2</th>\n",
       "      <td>17</td>\n",
       "      <td>33</td>\n",
       "      <td>5242</td>\n",
       "      <td>10</td>\n",
       "      <td>164</td>\n",
       "      <td>108</td>\n",
       "      <td>137</td>\n",
       "      <td>15</td>\n",
       "      <td>34</td>\n",
       "    </tr>\n",
       "    <tr>\n",
       "      <th>3</th>\n",
       "      <td>397</td>\n",
       "      <td>15</td>\n",
       "      <td>459</td>\n",
       "      <td>171</td>\n",
       "      <td>125</td>\n",
       "      <td>143</td>\n",
       "      <td>908</td>\n",
       "      <td>14</td>\n",
       "      <td>17</td>\n",
       "    </tr>\n",
       "    <tr>\n",
       "      <th>4</th>\n",
       "      <td>131</td>\n",
       "      <td>66</td>\n",
       "      <td>4804</td>\n",
       "      <td>10</td>\n",
       "      <td>223</td>\n",
       "      <td>93</td>\n",
       "      <td>265</td>\n",
       "      <td>8</td>\n",
       "      <td>17</td>\n",
       "    </tr>\n",
       "  </tbody>\n",
       "</table>\n",
       "</div>"
      ],
      "text/plain": [
       "   opened_by  resolved_by  caller_id  sys_created_by  subcategory  location  \\\n",
       "0        390          206       2648             169          174       204   \n",
       "1        239          213        771             107          233        93   \n",
       "2         17           33       5242              10          164       108   \n",
       "3        397           15        459             171          125       143   \n",
       "4        131           66       4804              10          223        93   \n",
       "\n",
       "   sys_updated_by  opened_hour  assigned_to  \n",
       "0             859           15          227  \n",
       "1             908           11          234  \n",
       "2             137           15           34  \n",
       "3             908           14           17  \n",
       "4             265            8           17  "
      ]
     },
     "execution_count": 78,
     "metadata": {},
     "output_type": "execute_result"
    }
   ],
   "source": [
    "x_balanced.head()"
   ]
  },
  {
   "cell_type": "markdown",
   "metadata": {
    "id": "EKCZaWAyuvkj"
   },
   "source": [
    "## Model building\n"
   ]
  },
  {
   "cell_type": "markdown",
   "metadata": {
    "id": "uWhpd9tqQ0e5"
   },
   "source": [
    "###1. Randomforest classifier"
   ]
  },
  {
   "cell_type": "code",
   "execution_count": 79,
   "metadata": {
    "id": "cjBLYhrw0pfL"
   },
   "outputs": [],
   "source": [
    "from sklearn.ensemble import RandomForestClassifier\n",
    "from sklearn.metrics import recall_score,accuracy_score, classification_report, confusion_matrix\n",
    "rf_clf = RandomForestClassifier(n_estimators=30, random_state=12)\n",
    "model_rf=rf_clf.fit(x_balanced, y_balanced)"
   ]
  },
  {
   "cell_type": "code",
   "execution_count": 159,
   "metadata": {},
   "outputs": [
    {
     "data": {
      "text/plain": [
       "RandomForestClassifier(n_estimators=30, random_state=12)"
      ]
     },
     "execution_count": 159,
     "metadata": {},
     "output_type": "execute_result"
    }
   ],
   "source": [
    "model_rf"
   ]
  },
  {
   "cell_type": "code",
   "execution_count": 80,
   "metadata": {
    "colab": {
     "base_uri": "https://localhost:8080/"
    },
    "id": "oOmoAabn3Ple",
    "outputId": "19fe5e46-903a-4eb7-fd89-60d17bc05c48"
   },
   "outputs": [
    {
     "name": "stdout",
     "output_type": "stream",
     "text": [
      "Test results: \n",
      "0.9136572843638424\n",
      "0.9836764526738945\n",
      "              precision    recall  f1-score   support\n",
      "\n",
      "           1       0.81      0.84      0.83       646\n",
      "           2       0.99      0.99      0.99     23320\n",
      "           3       0.82      0.91      0.87       661\n",
      "\n",
      "    accuracy                           0.98     24627\n",
      "   macro avg       0.88      0.91      0.89     24627\n",
      "weighted avg       0.98      0.98      0.98     24627\n",
      "\n",
      "\n",
      " Validation results\n",
      "0.8884576709949709\n",
      "0.982896612213573\n",
      "              precision    recall  f1-score   support\n",
      "\n",
      "           1       0.79      0.78      0.79       229\n",
      "           2       0.99      0.99      0.99      8640\n",
      "           3       0.85      0.89      0.87       252\n",
      "\n",
      "    accuracy                           0.98      9121\n",
      "   macro avg       0.88      0.89      0.88      9121\n",
      "weighted avg       0.98      0.98      0.98      9121\n",
      "\n"
     ]
    }
   ],
   "source": [
    "y_pred_rf = model_rf.predict(X_test_new)\n",
    "val_pred_rf = model_rf.predict(val_features)\n",
    "\n",
    "# Finding accuracy, precision, recall and confusion matrix\n",
    "print('Test results: ')\n",
    "print(recall_score(y_test_new, y_pred_rf,average='macro'))\n",
    "print(accuracy_score(y_test_new,y_pred_rf))\n",
    "print(classification_report(y_test_new,y_pred_rf))\n",
    "\n",
    "print('\\n Validation results')\n",
    "print(recall_score(val_impact, val_pred_rf,average='macro'))\n",
    "print(accuracy_score(val_impact,val_pred_rf))\n",
    "print(classification_report(val_impact,val_pred_rf))"
   ]
  },
  {
   "cell_type": "code",
   "execution_count": 168,
   "metadata": {},
   "outputs": [
    {
     "data": {
      "text/html": [
       "<div>\n",
       "<style scoped>\n",
       "    .dataframe tbody tr th:only-of-type {\n",
       "        vertical-align: middle;\n",
       "    }\n",
       "\n",
       "    .dataframe tbody tr th {\n",
       "        vertical-align: top;\n",
       "    }\n",
       "\n",
       "    .dataframe thead th {\n",
       "        text-align: right;\n",
       "    }\n",
       "</style>\n",
       "<table border=\"1\" class=\"dataframe\">\n",
       "  <thead>\n",
       "    <tr style=\"text-align: right;\">\n",
       "      <th></th>\n",
       "      <th>opened_by</th>\n",
       "      <th>resolved_by</th>\n",
       "      <th>caller_id</th>\n",
       "      <th>sys_created_by</th>\n",
       "      <th>subcategory</th>\n",
       "      <th>location</th>\n",
       "      <th>sys_updated_by</th>\n",
       "      <th>opened_hour</th>\n",
       "      <th>assigned_to</th>\n",
       "    </tr>\n",
       "  </thead>\n",
       "  <tbody>\n",
       "    <tr>\n",
       "      <th>0</th>\n",
       "      <td>390</td>\n",
       "      <td>206</td>\n",
       "      <td>2648</td>\n",
       "      <td>169</td>\n",
       "      <td>174</td>\n",
       "      <td>204</td>\n",
       "      <td>859</td>\n",
       "      <td>15</td>\n",
       "      <td>227</td>\n",
       "    </tr>\n",
       "    <tr>\n",
       "      <th>1</th>\n",
       "      <td>239</td>\n",
       "      <td>213</td>\n",
       "      <td>771</td>\n",
       "      <td>107</td>\n",
       "      <td>233</td>\n",
       "      <td>93</td>\n",
       "      <td>908</td>\n",
       "      <td>11</td>\n",
       "      <td>234</td>\n",
       "    </tr>\n",
       "    <tr>\n",
       "      <th>2</th>\n",
       "      <td>17</td>\n",
       "      <td>33</td>\n",
       "      <td>5242</td>\n",
       "      <td>10</td>\n",
       "      <td>164</td>\n",
       "      <td>108</td>\n",
       "      <td>137</td>\n",
       "      <td>15</td>\n",
       "      <td>34</td>\n",
       "    </tr>\n",
       "    <tr>\n",
       "      <th>3</th>\n",
       "      <td>397</td>\n",
       "      <td>15</td>\n",
       "      <td>459</td>\n",
       "      <td>171</td>\n",
       "      <td>125</td>\n",
       "      <td>143</td>\n",
       "      <td>908</td>\n",
       "      <td>14</td>\n",
       "      <td>17</td>\n",
       "    </tr>\n",
       "    <tr>\n",
       "      <th>4</th>\n",
       "      <td>131</td>\n",
       "      <td>66</td>\n",
       "      <td>4804</td>\n",
       "      <td>10</td>\n",
       "      <td>223</td>\n",
       "      <td>93</td>\n",
       "      <td>265</td>\n",
       "      <td>8</td>\n",
       "      <td>17</td>\n",
       "    </tr>\n",
       "    <tr>\n",
       "      <th>...</th>\n",
       "      <td>...</td>\n",
       "      <td>...</td>\n",
       "      <td>...</td>\n",
       "      <td>...</td>\n",
       "      <td>...</td>\n",
       "      <td>...</td>\n",
       "      <td>...</td>\n",
       "      <td>...</td>\n",
       "      <td>...</td>\n",
       "    </tr>\n",
       "    <tr>\n",
       "      <th>85</th>\n",
       "      <td>242</td>\n",
       "      <td>32</td>\n",
       "      <td>2781</td>\n",
       "      <td>109</td>\n",
       "      <td>28</td>\n",
       "      <td>204</td>\n",
       "      <td>469</td>\n",
       "      <td>8</td>\n",
       "      <td>33</td>\n",
       "    </tr>\n",
       "    <tr>\n",
       "      <th>86</th>\n",
       "      <td>397</td>\n",
       "      <td>208</td>\n",
       "      <td>796</td>\n",
       "      <td>171</td>\n",
       "      <td>175</td>\n",
       "      <td>93</td>\n",
       "      <td>746</td>\n",
       "      <td>15</td>\n",
       "      <td>229</td>\n",
       "    </tr>\n",
       "    <tr>\n",
       "      <th>87</th>\n",
       "      <td>397</td>\n",
       "      <td>15</td>\n",
       "      <td>1248</td>\n",
       "      <td>171</td>\n",
       "      <td>174</td>\n",
       "      <td>204</td>\n",
       "      <td>746</td>\n",
       "      <td>15</td>\n",
       "      <td>17</td>\n",
       "    </tr>\n",
       "    <tr>\n",
       "      <th>88</th>\n",
       "      <td>17</td>\n",
       "      <td>182</td>\n",
       "      <td>5368</td>\n",
       "      <td>89</td>\n",
       "      <td>174</td>\n",
       "      <td>143</td>\n",
       "      <td>370</td>\n",
       "      <td>10</td>\n",
       "      <td>200</td>\n",
       "    </tr>\n",
       "    <tr>\n",
       "      <th>89</th>\n",
       "      <td>17</td>\n",
       "      <td>133</td>\n",
       "      <td>4304</td>\n",
       "      <td>10</td>\n",
       "      <td>125</td>\n",
       "      <td>93</td>\n",
       "      <td>429</td>\n",
       "      <td>19</td>\n",
       "      <td>17</td>\n",
       "    </tr>\n",
       "  </tbody>\n",
       "</table>\n",
       "<p>90 rows × 9 columns</p>\n",
       "</div>"
      ],
      "text/plain": [
       "    opened_by  resolved_by  caller_id  sys_created_by  subcategory  location  \\\n",
       "0         390          206       2648             169          174       204   \n",
       "1         239          213        771             107          233        93   \n",
       "2          17           33       5242              10          164       108   \n",
       "3         397           15        459             171          125       143   \n",
       "4         131           66       4804              10          223        93   \n",
       "..        ...          ...        ...             ...          ...       ...   \n",
       "85        242           32       2781             109           28       204   \n",
       "86        397          208        796             171          175        93   \n",
       "87        397           15       1248             171          174       204   \n",
       "88         17          182       5368              89          174       143   \n",
       "89         17          133       4304              10          125        93   \n",
       "\n",
       "    sys_updated_by  opened_hour  assigned_to  \n",
       "0              859           15          227  \n",
       "1              908           11          234  \n",
       "2              137           15           34  \n",
       "3              908           14           17  \n",
       "4              265            8           17  \n",
       "..             ...          ...          ...  \n",
       "85             469            8           33  \n",
       "86             746           15          229  \n",
       "87             746           15           17  \n",
       "88             370           10          200  \n",
       "89             429           19           17  \n",
       "\n",
       "[90 rows x 9 columns]"
      ]
     },
     "execution_count": 168,
     "metadata": {},
     "output_type": "execute_result"
    }
   ],
   "source": [
    "x_balanced.head(90)"
   ]
  },
  {
   "cell_type": "code",
   "execution_count": 163,
   "metadata": {},
   "outputs": [],
   "source": [
    "y_p1=pd.Series(y_pred_rf)\n"
   ]
  },
  {
   "cell_type": "code",
   "execution_count": 164,
   "metadata": {},
   "outputs": [],
   "source": [
    "y_p2=pd.DataFrame(y_p1,columns=['p1'])"
   ]
  },
  {
   "cell_type": "code",
   "execution_count": 166,
   "metadata": {},
   "outputs": [
    {
     "data": {
      "text/html": [
       "<div>\n",
       "<style scoped>\n",
       "    .dataframe tbody tr th:only-of-type {\n",
       "        vertical-align: middle;\n",
       "    }\n",
       "\n",
       "    .dataframe tbody tr th {\n",
       "        vertical-align: top;\n",
       "    }\n",
       "\n",
       "    .dataframe thead th {\n",
       "        text-align: right;\n",
       "    }\n",
       "</style>\n",
       "<table border=\"1\" class=\"dataframe\">\n",
       "  <thead>\n",
       "    <tr style=\"text-align: right;\">\n",
       "      <th></th>\n",
       "      <th>p1</th>\n",
       "    </tr>\n",
       "  </thead>\n",
       "  <tbody>\n",
       "    <tr>\n",
       "      <th>0</th>\n",
       "      <td>2</td>\n",
       "    </tr>\n",
       "    <tr>\n",
       "      <th>1</th>\n",
       "      <td>2</td>\n",
       "    </tr>\n",
       "    <tr>\n",
       "      <th>2</th>\n",
       "      <td>1</td>\n",
       "    </tr>\n",
       "    <tr>\n",
       "      <th>3</th>\n",
       "      <td>2</td>\n",
       "    </tr>\n",
       "    <tr>\n",
       "      <th>4</th>\n",
       "      <td>2</td>\n",
       "    </tr>\n",
       "    <tr>\n",
       "      <th>...</th>\n",
       "      <td>...</td>\n",
       "    </tr>\n",
       "    <tr>\n",
       "      <th>24622</th>\n",
       "      <td>2</td>\n",
       "    </tr>\n",
       "    <tr>\n",
       "      <th>24623</th>\n",
       "      <td>2</td>\n",
       "    </tr>\n",
       "    <tr>\n",
       "      <th>24624</th>\n",
       "      <td>2</td>\n",
       "    </tr>\n",
       "    <tr>\n",
       "      <th>24625</th>\n",
       "      <td>2</td>\n",
       "    </tr>\n",
       "    <tr>\n",
       "      <th>24626</th>\n",
       "      <td>2</td>\n",
       "    </tr>\n",
       "  </tbody>\n",
       "</table>\n",
       "<p>24627 rows × 1 columns</p>\n",
       "</div>"
      ],
      "text/plain": [
       "       p1\n",
       "0       2\n",
       "1       2\n",
       "2       1\n",
       "3       2\n",
       "4       2\n",
       "...    ..\n",
       "24622   2\n",
       "24623   2\n",
       "24624   2\n",
       "24625   2\n",
       "24626   2\n",
       "\n",
       "[24627 rows x 1 columns]"
      ]
     },
     "execution_count": 166,
     "metadata": {},
     "output_type": "execute_result"
    }
   ],
   "source": [
    "y_p2"
   ]
  },
  {
   "cell_type": "code",
   "execution_count": 167,
   "metadata": {},
   "outputs": [
    {
     "name": "stdout",
     "output_type": "stream",
     "text": [
      "       p1\n",
      "27      3\n",
      "45      3\n",
      "64      3\n",
      "89      3\n",
      "118     3\n",
      "...    ..\n",
      "24385   3\n",
      "24403   3\n",
      "24551   3\n",
      "24559   3\n",
      "24602   3\n",
      "\n",
      "[733 rows x 1 columns]\n"
     ]
    }
   ],
   "source": [
    "print(y_p2[y_p2['p1'] == 3])"
   ]
  },
  {
   "cell_type": "code",
   "execution_count": 81,
   "metadata": {
    "colab": {
     "base_uri": "https://localhost:8080/"
    },
    "id": "GN-19Dws8Dem",
    "outputId": "c9aaec78-f68f-4754-ac53-07dca980450c"
   },
   "outputs": [
    {
     "name": "stdout",
     "output_type": "stream",
     "text": [
      "0.9986896167435139\n",
      "              precision    recall  f1-score   support\n",
      "\n",
      "           1       1.00      1.00      1.00     54437\n",
      "           2       1.00      1.00      1.00     54437\n",
      "           3       1.00      1.00      1.00     54437\n",
      "\n",
      "    accuracy                           1.00    163311\n",
      "   macro avg       1.00      1.00      1.00    163311\n",
      "weighted avg       1.00      1.00      1.00    163311\n",
      "\n"
     ]
    }
   ],
   "source": [
    "# Finding accuracy, precision, recall and confusion matrix\n",
    "y_pred = model_rf.predict(x_balanced)\n",
    "\n",
    "print(accuracy_score(y_balanced,y_pred))\n",
    "print(classification_report(y_balanced,y_pred))"
   ]
  },
  {
   "cell_type": "code",
   "execution_count": 82,
   "metadata": {
    "colab": {
     "base_uri": "https://localhost:8080/"
    },
    "id": "HGiKY-sL-dgt",
    "outputId": "80485f99-05ad-48ee-ad56-b3dc27aae42d"
   },
   "outputs": [
    {
     "data": {
      "text/plain": [
       "array([[ 179,   48,    2],\n",
       "       [  42, 8561,   37],\n",
       "       [   5,   22,  225]], dtype=int64)"
      ]
     },
     "execution_count": 82,
     "metadata": {},
     "output_type": "execute_result"
    }
   ],
   "source": [
    "confusion_matrix(val_impact,val_pred_rf)"
   ]
  },
  {
   "cell_type": "code",
   "execution_count": 83,
   "metadata": {
    "colab": {
     "base_uri": "https://localhost:8080/"
    },
    "id": "n-BNtcDWYWqb",
    "outputId": "9da076d6-18a1-4166-8265-954a3608e7a9"
   },
   "outputs": [
    {
     "data": {
      "text/plain": [
       "array([[  542,    98,     6],\n",
       "       [  116, 23080,   124],\n",
       "       [    9,    49,   603]], dtype=int64)"
      ]
     },
     "execution_count": 83,
     "metadata": {},
     "output_type": "execute_result"
    }
   ],
   "source": [
    " confusion_matrix(y_test_new,y_pred_rf)"
   ]
  },
  {
   "cell_type": "code",
   "execution_count": 84,
   "metadata": {
    "id": "L0wgVniLDWQ-"
   },
   "outputs": [],
   "source": [
    "from sklearn.metrics import f1_score\n",
    "acc_rf=round(accuracy_score(val_impact,val_pred_rf)*100.0,2)\n",
    "train_accrf=round(accuracy_score(y_balanced,y_pred)*100.0,2)\n",
    "f1_rf=round(f1_score(y_balanced, y_pred, average='macro'),4)"
   ]
  },
  {
   "cell_type": "markdown",
   "metadata": {
    "id": "vP77EtTmSGYM"
   },
   "source": [
    "###2. Decisiontree classifier"
   ]
  },
  {
   "cell_type": "code",
   "execution_count": 85,
   "metadata": {
    "id": "iTCh_RYq_GuL"
   },
   "outputs": [],
   "source": [
    "# Training the model\n",
    "from sklearn.tree import DecisionTreeClassifier\n",
    "dtree_clf=DecisionTreeClassifier()\n",
    "model_dtree=dtree_clf.fit(x_balanced,y_balanced)"
   ]
  },
  {
   "cell_type": "code",
   "execution_count": 86,
   "metadata": {
    "colab": {
     "base_uri": "https://localhost:8080/"
    },
    "id": "ZEdRy0_F_GmS",
    "outputId": "dedbc78b-ee95-48c7-b8c8-a89e01c698ff"
   },
   "outputs": [
    {
     "name": "stdout",
     "output_type": "stream",
     "text": [
      "Test results: \n",
      "0.8929381639383195\n",
      "0.9696268323384902\n",
      "              precision    recall  f1-score   support\n",
      "\n",
      "           1       0.63      0.83      0.72       646\n",
      "           2       0.99      0.98      0.98     23320\n",
      "           3       0.68      0.88      0.77       661\n",
      "\n",
      "    accuracy                           0.97     24627\n",
      "   macro avg       0.77      0.89      0.82     24627\n",
      "weighted avg       0.97      0.97      0.97     24627\n",
      "\n",
      "\n",
      " Validation results\n",
      "0.8844322566484139\n",
      "0.9691919745641925\n",
      "              precision    recall  f1-score   support\n",
      "\n",
      "           1       0.59      0.81      0.68       229\n",
      "           2       0.99      0.98      0.98      8640\n",
      "           3       0.73      0.87      0.79       252\n",
      "\n",
      "    accuracy                           0.97      9121\n",
      "   macro avg       0.77      0.88      0.82      9121\n",
      "weighted avg       0.97      0.97      0.97      9121\n",
      "\n"
     ]
    }
   ],
   "source": [
    "y_pred_dtree = model_dtree.predict(X_test_new)\n",
    "val_pred_dtree = model_dtree.predict(val_features)\n",
    "\n",
    "# Finding accuracy, precision, recall and confusion matrix\n",
    "print('Test results: ')\n",
    "print(recall_score(y_test_new, y_pred_dtree,average='macro'))\n",
    "print(accuracy_score(y_test_new,y_pred_dtree))\n",
    "print(classification_report(y_test_new,y_pred_dtree))\n",
    "\n",
    "print('\\n Validation results')\n",
    "print(recall_score(val_impact, val_pred_dtree,average='macro'))\n",
    "print(accuracy_score(val_impact,val_pred_dtree))\n",
    "print(classification_report(val_impact,val_pred_dtree))"
   ]
  },
  {
   "cell_type": "code",
   "execution_count": 87,
   "metadata": {
    "colab": {
     "base_uri": "https://localhost:8080/"
    },
    "id": "0CvUfsX-_41w",
    "outputId": "6fa66224-a253-407e-cf27-2b8db0161bd4"
   },
   "outputs": [
    {
     "data": {
      "text/plain": [
       "array([[ 185,   41,    3],\n",
       "       [ 124, 8436,   80],\n",
       "       [   3,   30,  219]], dtype=int64)"
      ]
     },
     "execution_count": 87,
     "metadata": {},
     "output_type": "execute_result"
    }
   ],
   "source": [
    "confusion_matrix(val_impact,val_pred_dtree)"
   ]
  },
  {
   "cell_type": "code",
   "execution_count": 88,
   "metadata": {
    "colab": {
     "base_uri": "https://localhost:8080/"
    },
    "id": "vJfsUrg3bjUh",
    "outputId": "c831bbe2-12af-4010-a94b-0795709122ae"
   },
   "outputs": [
    {
     "name": "stdout",
     "output_type": "stream",
     "text": [
      "0.9987079866022497\n",
      "              precision    recall  f1-score   support\n",
      "\n",
      "           1       1.00      1.00      1.00     54437\n",
      "           2       1.00      1.00      1.00     54437\n",
      "           3       1.00      1.00      1.00     54437\n",
      "\n",
      "    accuracy                           1.00    163311\n",
      "   macro avg       1.00      1.00      1.00    163311\n",
      "weighted avg       1.00      1.00      1.00    163311\n",
      "\n"
     ]
    }
   ],
   "source": [
    "y_pred_dt = model_dtree.predict(x_balanced)\n",
    "\n",
    "# Finding accuracy, precision, recall and confusion matrix\n",
    "print(accuracy_score(y_balanced,y_pred_dt))\n",
    "print(classification_report(y_balanced,y_pred_dt))"
   ]
  },
  {
   "cell_type": "code",
   "execution_count": 89,
   "metadata": {
    "id": "WWk8wKQpCyQ9"
   },
   "outputs": [],
   "source": [
    "acc_dt=round(accuracy_score(val_impact,val_pred_dtree)*100.0,2)\n",
    "train_accdt=round(accuracy_score(y_balanced,y_pred_dt)*100.0,2)\n",
    "f1_dt=round(f1_score(y_balanced, y_pred_dt, average='macro'),4)"
   ]
  },
  {
   "cell_type": "markdown",
   "metadata": {
    "id": "Xo9r7jTLSNBn"
   },
   "source": [
    "###3. Logistic regression"
   ]
  },
  {
   "cell_type": "code",
   "execution_count": 90,
   "metadata": {
    "colab": {
     "base_uri": "https://localhost:8080/"
    },
    "id": "HCGFDRLL0pca",
    "outputId": "217695b5-26ce-4e85-a512-97c403af5bf7"
   },
   "outputs": [
    {
     "name": "stderr",
     "output_type": "stream",
     "text": [
      "C:\\Users\\Rohit Chavan\\anaconda3\\lib\\site-packages\\sklearn\\linear_model\\_logistic.py:763: ConvergenceWarning: lbfgs failed to converge (status=1):\n",
      "STOP: TOTAL NO. of ITERATIONS REACHED LIMIT.\n",
      "\n",
      "Increase the number of iterations (max_iter) or scale the data as shown in:\n",
      "    https://scikit-learn.org/stable/modules/preprocessing.html\n",
      "Please also refer to the documentation for alternative solver options:\n",
      "    https://scikit-learn.org/stable/modules/linear_model.html#logistic-regression\n",
      "  n_iter_i = _check_optimize_result(\n"
     ]
    }
   ],
   "source": [
    "# Training the model\n",
    "from sklearn.linear_model import LogisticRegression\n",
    "log_reg=LogisticRegression()\n",
    "model_logreg=log_reg.fit(x_balanced,y_balanced)"
   ]
  },
  {
   "cell_type": "code",
   "execution_count": 91,
   "metadata": {
    "colab": {
     "base_uri": "https://localhost:8080/"
    },
    "id": "TDci_RfVEqP_",
    "outputId": "b910437c-6f3f-4d1a-b2e5-f836b257f0ef"
   },
   "outputs": [
    {
     "name": "stdout",
     "output_type": "stream",
     "text": [
      "Train results: \n",
      "0.4486899229078262\n",
      "0.44868992290782617\n",
      "              precision    recall  f1-score   support\n",
      "\n",
      "           1       0.42      0.42      0.42     54437\n",
      "           2       0.46      0.41      0.43     54437\n",
      "           3       0.46      0.51      0.49     54437\n",
      "\n",
      "    accuracy                           0.45    163311\n",
      "   macro avg       0.45      0.45      0.45    163311\n",
      "weighted avg       0.45      0.45      0.45    163311\n",
      "\n"
     ]
    }
   ],
   "source": [
    "train_pred_logreg = model_logreg.predict(x_balanced)\n",
    "\n",
    "print('Train results: ')\n",
    "print(recall_score(y_balanced, train_pred_logreg,average='macro'))\n",
    "print(accuracy_score(y_balanced,train_pred_logreg))\n",
    "print(classification_report(y_balanced,train_pred_logreg))"
   ]
  },
  {
   "cell_type": "code",
   "execution_count": 92,
   "metadata": {
    "colab": {
     "base_uri": "https://localhost:8080/"
    },
    "id": "4jzw9f532jac",
    "outputId": "bcdbaae4-b089-4eca-b3c6-adf3c2d058d8"
   },
   "outputs": [
    {
     "name": "stdout",
     "output_type": "stream",
     "text": [
      "Test results: \n",
      "0.43725505694847694\n",
      "0.4166159093677671\n",
      "              precision    recall  f1-score   support\n",
      "\n",
      "           1       0.04      0.39      0.07       646\n",
      "           2       0.97      0.41      0.58     23320\n",
      "           3       0.04      0.50      0.08       661\n",
      "\n",
      "    accuracy                           0.42     24627\n",
      "   macro avg       0.35      0.44      0.24     24627\n",
      "weighted avg       0.92      0.42      0.55     24627\n",
      "\n",
      "\n",
      " Validation results\n",
      "0.4186149089669832\n",
      "0.4109198552790264\n",
      "              precision    recall  f1-score   support\n",
      "\n",
      "           1       0.03      0.35      0.06       229\n",
      "           2       0.97      0.41      0.58      8640\n",
      "           3       0.04      0.49      0.08       252\n",
      "\n",
      "    accuracy                           0.41      9121\n",
      "   macro avg       0.35      0.42      0.24      9121\n",
      "weighted avg       0.92      0.41      0.55      9121\n",
      "\n"
     ]
    }
   ],
   "source": [
    "# Finding accuracy, precision, recall and confusion matrix\n",
    "y_pred_logreg = model_logreg.predict(X_test_new)\n",
    "val_pred_logreg = model_logreg.predict(val_features)\n",
    "\n",
    "print('Test results: ')\n",
    "print(recall_score(y_test_new, y_pred_logreg,average='macro'))\n",
    "print(accuracy_score(y_test_new,y_pred_logreg))\n",
    "print(classification_report(y_test_new,y_pred_logreg))\n",
    "\n",
    "print('\\n Validation results')\n",
    "print(recall_score(val_impact, val_pred_logreg,average='macro'))\n",
    "print(accuracy_score(val_impact,val_pred_logreg))\n",
    "print(classification_report(val_impact,val_pred_logreg))"
   ]
  },
  {
   "cell_type": "code",
   "execution_count": 93,
   "metadata": {
    "colab": {
     "base_uri": "https://localhost:8080/"
    },
    "id": "M0Hn9joK8cfE",
    "outputId": "0f8c5db7-2ef2-46a4-ee42-d86332a5e1a9"
   },
   "outputs": [
    {
     "data": {
      "text/plain": [
       "array([[  81,   80,   68],\n",
       "       [2405, 3543, 2692],\n",
       "       [  83,   45,  124]], dtype=int64)"
      ]
     },
     "execution_count": 93,
     "metadata": {},
     "output_type": "execute_result"
    }
   ],
   "source": [
    "confusion_matrix(val_impact,val_pred_logreg)"
   ]
  },
  {
   "cell_type": "code",
   "execution_count": 94,
   "metadata": {
    "id": "hEVzVwnZEbe8"
   },
   "outputs": [],
   "source": [
    "acc_logreg=round(accuracy_score(val_impact,val_pred_logreg)*100.0,2)\n",
    "train_acclogreg=round(accuracy_score(y_balanced,train_pred_logreg)*100.0,2)\n",
    "f1_logreg=round(f1_score(y_balanced, train_pred_logreg, average='macro'),4)"
   ]
  },
  {
   "cell_type": "markdown",
   "metadata": {
    "id": "TTXliklLSiV7"
   },
   "source": [
    "###5. Multinomial Naive Bayes"
   ]
  },
  {
   "cell_type": "code",
   "execution_count": 95,
   "metadata": {
    "id": "KLyeR3R3Agtv"
   },
   "outputs": [],
   "source": [
    "# Training the model\n",
    "from sklearn.naive_bayes import MultinomialNB\n",
    "multi_nb=MultinomialNB()\n",
    "model_mlnb=multi_nb.fit(x_balanced,y_balanced)"
   ]
  },
  {
   "cell_type": "code",
   "execution_count": 96,
   "metadata": {
    "colab": {
     "base_uri": "https://localhost:8080/"
    },
    "id": "fKYabvvd8Nme",
    "outputId": "34d22682-5c4d-4bf2-a867-43733ba4472d"
   },
   "outputs": [
    {
     "name": "stdout",
     "output_type": "stream",
     "text": [
      "0.4109398632057853\n",
      "              precision    recall  f1-score   support\n",
      "\n",
      "           1       0.39      0.39      0.39     54437\n",
      "           2       0.44      0.31      0.36     54437\n",
      "           3       0.41      0.54      0.47     54437\n",
      "\n",
      "    accuracy                           0.41    163311\n",
      "   macro avg       0.41      0.41      0.41    163311\n",
      "weighted avg       0.41      0.41      0.41    163311\n",
      "\n"
     ]
    }
   ],
   "source": [
    "y_predmlnb = model_mlnb.predict(x_balanced)\n",
    "\n",
    "print(accuracy_score(y_balanced,y_predmlnb))\n",
    "print(classification_report(y_balanced,y_predmlnb))"
   ]
  },
  {
   "cell_type": "code",
   "execution_count": 97,
   "metadata": {
    "colab": {
     "base_uri": "https://localhost:8080/"
    },
    "id": "UkdjVsjsAklw",
    "outputId": "a12f38f5-1ac8-40c7-84e9-b78f1e61f475"
   },
   "outputs": [
    {
     "name": "stdout",
     "output_type": "stream",
     "text": [
      "Test results: \n",
      "0.40303583960576894\n",
      "0.3140049539123726\n",
      "              precision    recall  f1-score   support\n",
      "\n",
      "           1       0.03      0.39      0.06       646\n",
      "           2       0.97      0.31      0.46     23320\n",
      "           3       0.04      0.52      0.07       661\n",
      "\n",
      "    accuracy                           0.31     24627\n",
      "   macro avg       0.34      0.40      0.20     24627\n",
      "weighted avg       0.92      0.31      0.44     24627\n",
      "\n",
      "\n",
      " Validation results\n",
      "0.3738769369546298\n",
      "0.3175090450608486\n",
      "              precision    recall  f1-score   support\n",
      "\n",
      "           1       0.02      0.30      0.05       229\n",
      "           2       0.96      0.31      0.47      8640\n",
      "           3       0.04      0.51      0.07       252\n",
      "\n",
      "    accuracy                           0.32      9121\n",
      "   macro avg       0.34      0.37      0.20      9121\n",
      "weighted avg       0.92      0.32      0.45      9121\n",
      "\n"
     ]
    }
   ],
   "source": [
    "y_pred_multi_nb = model_mlnb.predict(X_test_new)\n",
    "val_pred_multi_nb = model_mlnb.predict(val_features)\n",
    "\n",
    "# Finding accuracy, precision, recall and confusion matrix\n",
    "print('Test results: ')\n",
    "print(recall_score(y_test_new, y_pred_multi_nb,average='macro'))\n",
    "print(accuracy_score(y_test_new,y_pred_multi_nb))\n",
    "print(classification_report(y_test_new,y_pred_multi_nb))\n",
    "\n",
    "print('\\n Validation results')\n",
    "print(recall_score(val_impact, val_pred_multi_nb,average='macro'))\n",
    "print(accuracy_score(val_impact,val_pred_multi_nb))\n",
    "print(classification_report(val_impact,val_pred_multi_nb))"
   ]
  },
  {
   "cell_type": "code",
   "execution_count": 98,
   "metadata": {
    "colab": {
     "base_uri": "https://localhost:8080/"
    },
    "id": "RgSjzJZ-Srqm",
    "outputId": "1898e375-b864-46b9-e498-ae742cc82952"
   },
   "outputs": [
    {
     "data": {
      "text/plain": [
       "array([[  69,   63,   97],\n",
       "       [2639, 2699, 3302],\n",
       "       [  88,   36,  128]], dtype=int64)"
      ]
     },
     "execution_count": 98,
     "metadata": {},
     "output_type": "execute_result"
    }
   ],
   "source": [
    "confusion_matrix(val_impact,val_pred_multi_nb)"
   ]
  },
  {
   "cell_type": "code",
   "execution_count": 99,
   "metadata": {
    "id": "F7zyuSmtEtif"
   },
   "outputs": [],
   "source": [
    "acc_multinb=round(accuracy_score(val_impact,val_pred_multi_nb)*100.0,2)\n",
    "train_accmnb=round(accuracy_score(y_balanced,y_predmlnb)*100.0,2)\n",
    "f1_mnb=round(f1_score(y_balanced, y_predmlnb, average='macro'),4)"
   ]
  },
  {
   "cell_type": "markdown",
   "metadata": {
    "id": "RohvCUkNTPIA"
   },
   "source": [
    "###6. Gaussian Naive Bayes"
   ]
  },
  {
   "cell_type": "code",
   "execution_count": 100,
   "metadata": {
    "id": "WE-99k9YAv25"
   },
   "outputs": [],
   "source": [
    "# Training the model\n",
    "from sklearn.naive_bayes import GaussianNB\n",
    "gauss_nb=GaussianNB()\n",
    "model_gsnb=gauss_nb.fit(x_balanced,y_balanced)"
   ]
  },
  {
   "cell_type": "code",
   "execution_count": 101,
   "metadata": {
    "colab": {
     "base_uri": "https://localhost:8080/"
    },
    "id": "WOMo0XI88nLl",
    "outputId": "e9fadef2-e22c-4d4d-c7f4-b6b6db9364e2"
   },
   "outputs": [
    {
     "name": "stdout",
     "output_type": "stream",
     "text": [
      "0.494498227308632\n",
      "              precision    recall  f1-score   support\n",
      "\n",
      "           1       0.53      0.44      0.48     54437\n",
      "           2       0.45      0.61      0.52     54437\n",
      "           3       0.53      0.44      0.48     54437\n",
      "\n",
      "    accuracy                           0.49    163311\n",
      "   macro avg       0.50      0.49      0.49    163311\n",
      "weighted avg       0.50      0.49      0.49    163311\n",
      "\n"
     ]
    }
   ],
   "source": [
    "y_predgsnb = model_gsnb.predict(x_balanced)\n",
    "\n",
    "print(accuracy_score(y_balanced,y_predgsnb))\n",
    "print(classification_report(y_balanced,y_predgsnb))"
   ]
  },
  {
   "cell_type": "code",
   "execution_count": 102,
   "metadata": {
    "colab": {
     "base_uri": "https://localhost:8080/"
    },
    "id": "4jPRwSgaMCRi",
    "outputId": "c0d594a1-eac3-4219-dc0e-368171ee6ed0"
   },
   "outputs": [
    {
     "name": "stdout",
     "output_type": "stream",
     "text": [
      "Test results: \n",
      "0.47204371601201917\n",
      "0.59345433873391\n",
      "              precision    recall  f1-score   support\n",
      "\n",
      "           1       0.06      0.46      0.11       646\n",
      "           2       0.97      0.60      0.74     23320\n",
      "           3       0.04      0.36      0.08       661\n",
      "\n",
      "    accuracy                           0.59     24627\n",
      "   macro avg       0.36      0.47      0.31     24627\n",
      "weighted avg       0.92      0.59      0.71     24627\n",
      "\n",
      "\n",
      " Validation results\n",
      "0.4649468492718129\n",
      "0.5920403464532398\n",
      "              precision    recall  f1-score   support\n",
      "\n",
      "           1       0.05      0.41      0.10       229\n",
      "           2       0.96      0.60      0.74      8640\n",
      "           3       0.05      0.38      0.08       252\n",
      "\n",
      "    accuracy                           0.59      9121\n",
      "   macro avg       0.36      0.46      0.31      9121\n",
      "weighted avg       0.92      0.59      0.71      9121\n",
      "\n"
     ]
    }
   ],
   "source": [
    "y_pred_gauss_nb = model_gsnb.predict(X_test_new)\n",
    "val_pred_gauss_nb = model_gsnb.predict(val_features)\n",
    "\n",
    "# Finding accuracy, precision, recall and confusion matrix\n",
    "print('Test results: ')\n",
    "print(recall_score(y_test_new, y_pred_gauss_nb,average='macro'))\n",
    "print(accuracy_score(y_test_new,y_pred_gauss_nb))\n",
    "print(classification_report(y_test_new,y_pred_gauss_nb))\n",
    "\n",
    "print('\\n Validation results')\n",
    "print(recall_score(val_impact, val_pred_gauss_nb,average='macro'))\n",
    "print(accuracy_score(val_impact,val_pred_gauss_nb))\n",
    "print(classification_report(val_impact,val_pred_gauss_nb))"
   ]
  },
  {
   "cell_type": "code",
   "execution_count": 103,
   "metadata": {
    "colab": {
     "base_uri": "https://localhost:8080/"
    },
    "id": "2xNENqVMTF-h",
    "outputId": "e080fa06-cfe2-4c39-f615-eae34f83f16f"
   },
   "outputs": [
    {
     "data": {
      "text/plain": [
       "array([[  95,   93,   41],\n",
       "       [1582, 5210, 1848],\n",
       "       [  55,  102,   95]], dtype=int64)"
      ]
     },
     "execution_count": 103,
     "metadata": {},
     "output_type": "execute_result"
    }
   ],
   "source": [
    "confusion_matrix(val_impact,val_pred_gauss_nb)"
   ]
  },
  {
   "cell_type": "code",
   "execution_count": 104,
   "metadata": {
    "id": "cfAYwboyFI0n"
   },
   "outputs": [],
   "source": [
    "acc_gaussnb=round(accuracy_score(val_impact,val_pred_gauss_nb)*100.0,2)\n",
    "train_accgnb=round(accuracy_score(y_balanced,y_predgsnb)*100.0,2)\n",
    "f1_gnb=round(f1_score(y_balanced, y_predgsnb, average='macro'),4)"
   ]
  },
  {
   "cell_type": "markdown",
   "metadata": {
    "id": "nHE7K2qQN1ez"
   },
   "source": [
    "### kNeighbors classification"
   ]
  },
  {
   "cell_type": "code",
   "execution_count": 105,
   "metadata": {
    "id": "NdY20V6kNNhY"
   },
   "outputs": [],
   "source": [
    "n_neighbors = np.array(range(1,40))\n",
    "param_grid = dict(n_neighbors=n_neighbors)"
   ]
  },
  {
   "cell_type": "code",
   "execution_count": 106,
   "metadata": {
    "colab": {
     "base_uri": "https://localhost:8080/"
    },
    "id": "9x8WnphjNvbu",
    "outputId": "10606669-95da-4e80-c5f2-332717099935"
   },
   "outputs": [
    {
     "name": "stdout",
     "output_type": "stream",
     "text": [
      "{'n_neighbors': 1}\n"
     ]
    }
   ],
   "source": [
    "from sklearn.model_selection import GridSearchCV\n",
    "from sklearn.neighbors import KNeighborsClassifier\n",
    "model_knn = KNeighborsClassifier()\n",
    "grid = GridSearchCV(estimator=model_knn, param_grid=param_grid,cv=10)\n",
    "grid.fit(x_balanced, y_balanced)\n",
    "print(grid.best_params_)"
   ]
  },
  {
   "cell_type": "code",
   "execution_count": 107,
   "metadata": {
    "colab": {
     "base_uri": "https://localhost:8080/",
     "height": 276
    },
    "id": "ZrWXEaK6Nzm5",
    "outputId": "d7987073-4d82-4a8e-a52a-bfc7ec4b7abc"
   },
   "outputs": [
    {
     "data": {
      "image/png": "[encoded data removed]",
      "text/plain": [
       "<Figure size 432x288 with 1 Axes>"
      ]
     },
     "metadata": {
      "needs_background": "light"
     },
     "output_type": "display_data"
    }
   ],
   "source": [
    "from sklearn.model_selection import cross_val_score\n",
    "# choose k between 1 to 41\n",
    "k_range = range(1, 41)\n",
    "k_scores = []\n",
    "# use iteration to caclulator different k in models, then return the average accuracy based on the cross validation\n",
    "for k in k_range:\n",
    "    knn = KNeighborsClassifier(n_neighbors=k)\n",
    "    scores = cross_val_score(knn, x_balanced, y_balanced, cv=5)\n",
    "    k_scores.append(scores.mean())\n",
    "# plot to see clearly\n",
    "plt.plot(k_range, k_scores)\n",
    "plt.xlabel('Value of K for KNN')\n",
    "plt.ylabel('Cross-Validated Accuracy')\n",
    "plt.show()"
   ]
  },
  {
   "cell_type": "code",
   "execution_count": 108,
   "metadata": {
    "id": "wGzRvg_ERC_3"
   },
   "outputs": [],
   "source": [
    "from sklearn.neighbors import KNeighborsClassifier\n",
    "from sklearn.metrics import confusion_matrix, accuracy_score\n",
    "knn = KNeighborsClassifier(n_neighbors =1)\n",
    "model_knn=knn.fit(x_balanced,y_balanced)"
   ]
  },
  {
   "cell_type": "code",
   "execution_count": 109,
   "metadata": {
    "colab": {
     "base_uri": "https://localhost:8080/"
    },
    "id": "tXUvMIgPJnu2",
    "outputId": "b5ce8e4f-fa8d-47f4-b329-d8de6ae60a51"
   },
   "outputs": [
    {
     "name": "stdout",
     "output_type": "stream",
     "text": [
      "0.998456931866194\n",
      "              precision    recall  f1-score   support\n",
      "\n",
      "           1       1.00      1.00      1.00     54437\n",
      "           2       1.00      1.00      1.00     54437\n",
      "           3       1.00      1.00      1.00     54437\n",
      "\n",
      "    accuracy                           1.00    163311\n",
      "   macro avg       1.00      1.00      1.00    163311\n",
      "weighted avg       1.00      1.00      1.00    163311\n",
      "\n"
     ]
    }
   ],
   "source": [
    "y_predknn = model_knn.predict(x_balanced)\n",
    "\n",
    "print(accuracy_score(y_balanced,y_predknn))\n",
    "print(classification_report(y_balanced,y_predknn))"
   ]
  },
  {
   "cell_type": "code",
   "execution_count": 110,
   "metadata": {
    "colab": {
     "base_uri": "https://localhost:8080/"
    },
    "id": "ZEJh5dDFR8L1",
    "outputId": "ef26dceb-a672-460a-82c1-7384adaebdc2"
   },
   "outputs": [
    {
     "name": "stdout",
     "output_type": "stream",
     "text": [
      "Test results: \n",
      "0.8090523582623358\n",
      "0.9499736062045722\n",
      "              precision    recall  f1-score   support\n",
      "\n",
      "           1       0.48      0.69      0.56       646\n",
      "           2       0.99      0.96      0.97     23320\n",
      "           3       0.55      0.77      0.64       661\n",
      "\n",
      "    accuracy                           0.95     24627\n",
      "   macro avg       0.67      0.81      0.73     24627\n",
      "weighted avg       0.96      0.95      0.95     24627\n",
      "\n",
      "\n",
      " Validation results\n",
      "0.7839496545828424\n",
      "0.9446332638965026\n",
      "              precision    recall  f1-score   support\n",
      "\n",
      "           1       0.42      0.66      0.51       229\n",
      "           2       0.98      0.96      0.97      8640\n",
      "           3       0.53      0.73      0.62       252\n",
      "\n",
      "    accuracy                           0.94      9121\n",
      "   macro avg       0.64      0.78      0.70      9121\n",
      "weighted avg       0.96      0.94      0.95      9121\n",
      "\n"
     ]
    }
   ],
   "source": [
    "y_pred_knn= model_knn.predict(X_test_new)\n",
    "val_pred_knn = model_knn.predict(val_features)\n",
    "\n",
    "# Finding accuracy, precision, recall and confusion matrix\n",
    "print('Test results: ')\n",
    "print(recall_score(y_test_new, y_pred_knn,average='macro'))\n",
    "print(accuracy_score(y_test_new,y_pred_knn))\n",
    "print(classification_report(y_test_new,y_pred_knn))\n",
    "\n",
    "print('\\n Validation results')\n",
    "print(recall_score(val_impact, val_pred_knn,average='macro'))\n",
    "print(accuracy_score(val_impact,val_pred_knn))\n",
    "print(classification_report(val_impact,val_pred_knn))"
   ]
  },
  {
   "cell_type": "code",
   "execution_count": 111,
   "metadata": {
    "colab": {
     "base_uri": "https://localhost:8080/"
    },
    "id": "hPfDxwvoJ3s7",
    "outputId": "c60ab338-2394-4372-d907-cff808959d5c"
   },
   "outputs": [
    {
     "data": {
      "text/plain": [
       "array([[ 151,   70,    8],\n",
       "       [ 204, 8280,  156],\n",
       "       [   4,   63,  185]], dtype=int64)"
      ]
     },
     "execution_count": 111,
     "metadata": {},
     "output_type": "execute_result"
    }
   ],
   "source": [
    "confusion_matrix(val_impact,val_pred_knn)"
   ]
  },
  {
   "cell_type": "code",
   "execution_count": 112,
   "metadata": {
    "id": "2dc2rn0XFdN0"
   },
   "outputs": [],
   "source": [
    "acc_knn=round(accuracy_score(val_impact,val_pred_knn)*100.0,2)\n",
    "train_accknn=round(accuracy_score(y_balanced,y_predknn)*100.0,2)\n",
    "f1_knn=round(f1_score(y_balanced, y_predknn, average='macro'),4)"
   ]
  },
  {
   "cell_type": "markdown",
   "metadata": {
    "id": "e4BA5CF7TYBK"
   },
   "source": [
    "###7. XGBoost classifier"
   ]
  },
  {
   "cell_type": "code",
   "execution_count": 113,
   "metadata": {
    "id": "D9R7_YrjKlt1"
   },
   "outputs": [
    {
     "name": "stderr",
     "output_type": "stream",
     "text": [
      "C:\\Users\\Rohit Chavan\\anaconda3\\lib\\site-packages\\xgboost\\sklearn.py:1146: UserWarning: The use of label encoder in XGBClassifier is deprecated and will be removed in a future release. To remove this warning, do the following: 1) Pass option use_label_encoder=False when constructing XGBClassifier object; and 2) Encode your labels (y) as integers starting with 0, i.e. 0, 1, 2, ..., [num_class - 1].\n",
      "  warnings.warn(label_encoder_deprecation_msg, UserWarning)\n"
     ]
    },
    {
     "name": "stdout",
     "output_type": "stream",
     "text": [
      "[21:34:01] WARNING: C:/Users/Administrator/workspace/xgboost-win64_release_1.4.0/src/learner.cc:1095: Starting in XGBoost 1.3.0, the default evaluation metric used with the objective 'multi:softprob' was changed from 'merror' to 'mlogloss'. Explicitly set eval_metric if you'd like to restore the old behavior.\n"
     ]
    }
   ],
   "source": [
    "from xgboost import XGBClassifier\n",
    "xgb = XGBClassifier()\n",
    "model_xgb=xgb.fit(x_balanced,y_balanced)\n"
   ]
  },
  {
   "cell_type": "code",
   "execution_count": 114,
   "metadata": {
    "colab": {
     "base_uri": "https://localhost:8080/"
    },
    "id": "7vfi1mkGK6QU",
    "outputId": "c2eefdb5-6230-4c97-80ea-a0eda9a98aa9"
   },
   "outputs": [
    {
     "name": "stdout",
     "output_type": "stream",
     "text": [
      "0.9847836336805237\n",
      "              precision    recall  f1-score   support\n",
      "\n",
      "           1       0.98      0.99      0.99     54437\n",
      "           2       0.99      0.97      0.98     54437\n",
      "           3       0.98      0.99      0.99     54437\n",
      "\n",
      "    accuracy                           0.98    163311\n",
      "   macro avg       0.98      0.98      0.98    163311\n",
      "weighted avg       0.98      0.98      0.98    163311\n",
      "\n"
     ]
    }
   ],
   "source": [
    "y_predxgb = model_xgb.predict(x_balanced)\n",
    "\n",
    "print(accuracy_score(y_balanced,y_predxgb))\n",
    "print(classification_report(y_balanced,y_predxgb))"
   ]
  },
  {
   "cell_type": "code",
   "execution_count": 115,
   "metadata": {
    "colab": {
     "base_uri": "https://localhost:8080/"
    },
    "id": "uPWHPatjK6Na",
    "outputId": "8d2764be-1f8a-47bf-9479-0e8eb3b3541d"
   },
   "outputs": [
    {
     "name": "stdout",
     "output_type": "stream",
     "text": [
      "Test results: \n",
      "0.8979402805814706\n",
      "0.956429934624599\n",
      "              precision    recall  f1-score   support\n",
      "\n",
      "           1       0.54      0.81      0.65       646\n",
      "           2       0.99      0.96      0.98     23320\n",
      "           3       0.56      0.93      0.70       661\n",
      "\n",
      "    accuracy                           0.96     24627\n",
      "   macro avg       0.70      0.90      0.77     24627\n",
      "weighted avg       0.97      0.96      0.96     24627\n",
      "\n",
      "\n",
      " Validation results\n",
      "0.8543545137204163\n",
      "0.9540620545992764\n",
      "              precision    recall  f1-score   support\n",
      "\n",
      "           1       0.49      0.71      0.58       229\n",
      "           2       0.99      0.96      0.98      8640\n",
      "           3       0.58      0.89      0.70       252\n",
      "\n",
      "    accuracy                           0.95      9121\n",
      "   macro avg       0.69      0.85      0.75      9121\n",
      "weighted avg       0.97      0.95      0.96      9121\n",
      "\n"
     ]
    }
   ],
   "source": [
    "y_pred_xgb= model_xgb.predict(X_test_new)\n",
    "val_pred_xgb = model_xgb.predict(val_features)\n",
    "\n",
    "# Finding accuracy, precision, recall and confusion matrix\n",
    "print('Test results: ')\n",
    "print(recall_score(y_test_new, y_pred_xgb,average='macro'))\n",
    "print(accuracy_score(y_test_new,y_pred_xgb))\n",
    "print(classification_report(y_test_new,y_pred_xgb))\n",
    "\n",
    "print('\\n Validation results')\n",
    "print(recall_score(val_impact, val_pred_xgb,average='macro'))\n",
    "print(accuracy_score(val_impact,val_pred_xgb))\n",
    "print(classification_report(val_impact,val_pred_xgb))"
   ]
  },
  {
   "cell_type": "code",
   "execution_count": 116,
   "metadata": {
    "colab": {
     "base_uri": "https://localhost:8080/"
    },
    "id": "d5RpVE3fTfrX",
    "outputId": "5fb81d19-8037-4b2f-affe-d5472f116171"
   },
   "outputs": [
    {
     "data": {
      "text/plain": [
       "array([[ 163,   64,    2],\n",
       "       [ 163, 8315,  162],\n",
       "       [   7,   21,  224]], dtype=int64)"
      ]
     },
     "execution_count": 116,
     "metadata": {},
     "output_type": "execute_result"
    }
   ],
   "source": [
    "confusion_matrix(val_impact,val_pred_xgb)"
   ]
  },
  {
   "cell_type": "code",
   "execution_count": 117,
   "metadata": {
    "id": "qeboreDuFvlX"
   },
   "outputs": [],
   "source": [
    "acc_xgb=round(accuracy_score(val_impact,val_pred_xgb)*100.0,2)\n",
    "train_accxgb=round(accuracy_score(y_balanced,y_predxgb)*100.0,2)\n",
    "f1_xgb=round(f1_score(y_balanced, y_predxgb, average='macro'),4)"
   ]
  },
  {
   "cell_type": "markdown",
   "metadata": {
    "id": "4FXajx17ZTCh"
   },
   "source": [
    "###8. Gradient boosting Classifier"
   ]
  },
  {
   "cell_type": "code",
   "execution_count": 118,
   "metadata": {
    "id": "mAdu8kc7Zf-M"
   },
   "outputs": [],
   "source": [
    "from sklearn.ensemble import GradientBoostingClassifier\n",
    "gb=GradientBoostingClassifier()\n",
    "gb_clf=gb.fit(x_balanced,y_balanced)"
   ]
  },
  {
   "cell_type": "code",
   "execution_count": 119,
   "metadata": {
    "colab": {
     "base_uri": "https://localhost:8080/"
    },
    "id": "E2Fx0LwbZf7V",
    "outputId": "c65d7e25-2df6-4227-8b01-75e70e88d1ae"
   },
   "outputs": [
    {
     "name": "stdout",
     "output_type": "stream",
     "text": [
      "0.8367409421288217\n",
      "              precision    recall  f1-score   support\n",
      "\n",
      "           1       0.81      0.83      0.82     54437\n",
      "           2       0.84      0.81      0.82     54437\n",
      "           3       0.87      0.87      0.87     54437\n",
      "\n",
      "    accuracy                           0.84    163311\n",
      "   macro avg       0.84      0.84      0.84    163311\n",
      "weighted avg       0.84      0.84      0.84    163311\n",
      "\n"
     ]
    }
   ],
   "source": [
    "y_predgb = gb_clf.predict(x_balanced)\n",
    "\n",
    "print(accuracy_score(y_balanced,y_predgb))\n",
    "print(classification_report(y_balanced,y_predgb))"
   ]
  },
  {
   "cell_type": "code",
   "execution_count": 120,
   "metadata": {
    "colab": {
     "base_uri": "https://localhost:8080/"
    },
    "id": "e8Cm9-LMaB80",
    "outputId": "4297e041-9d2b-41f4-eb1a-0777c6acffd2"
   },
   "outputs": [
    {
     "name": "stdout",
     "output_type": "stream",
     "text": [
      "Test results: \n",
      "0.7698087500344487\n",
      "0.8045234904779307\n",
      "              precision    recall  f1-score   support\n",
      "\n",
      "           1       0.13      0.65      0.22       646\n",
      "           2       0.99      0.81      0.89     23320\n",
      "           3       0.25      0.85      0.38       661\n",
      "\n",
      "    accuracy                           0.80     24627\n",
      "   macro avg       0.45      0.77      0.50     24627\n",
      "weighted avg       0.94      0.80      0.86     24627\n",
      "\n",
      "\n",
      " Validation results\n",
      "0.7527411710681361\n",
      "0.8064905163907466\n",
      "              precision    recall  f1-score   support\n",
      "\n",
      "           1       0.12      0.60      0.20       229\n",
      "           2       0.99      0.81      0.89      8640\n",
      "           3       0.25      0.85      0.38       252\n",
      "\n",
      "    accuracy                           0.81      9121\n",
      "   macro avg       0.45      0.75      0.49      9121\n",
      "weighted avg       0.94      0.81      0.86      9121\n",
      "\n"
     ]
    }
   ],
   "source": [
    "y_pred_gb= gb_clf.predict(X_test_new.values)\n",
    "val_pred_gb = gb_clf.predict(val_features.values)\n",
    "\n",
    "# Finding accuracy, precision, recall and confusion matrix\n",
    "print('Test results: ')\n",
    "print(recall_score(y_test_new, y_pred_gb,average='macro'))\n",
    "print(accuracy_score(y_test_new,y_pred_gb))\n",
    "print(classification_report(y_test_new,y_pred_gb))\n",
    "\n",
    "print('\\n Validation results')\n",
    "print(recall_score(val_impact, val_pred_gb,average='macro'))\n",
    "print(accuracy_score(val_impact,val_pred_gb))\n",
    "print(classification_report(val_impact,val_pred_gb))"
   ]
  },
  {
   "cell_type": "code",
   "execution_count": 121,
   "metadata": {
    "colab": {
     "base_uri": "https://localhost:8080/"
    },
    "id": "AODSS_QXB0XW",
    "outputId": "7f47a8ae-c62c-42e1-c41e-1bf9bfaf46e1"
   },
   "outputs": [
    {
     "data": {
      "text/plain": [
       "array([[ 137,   74,   18],\n",
       "       [ 999, 7005,  636],\n",
       "       [  20,   18,  214]], dtype=int64)"
      ]
     },
     "execution_count": 121,
     "metadata": {},
     "output_type": "execute_result"
    }
   ],
   "source": [
    "confusion_matrix(val_impact,val_pred_gb)"
   ]
  },
  {
   "cell_type": "code",
   "execution_count": 122,
   "metadata": {
    "id": "7N-eRIFtGCYl"
   },
   "outputs": [],
   "source": [
    "acc_gb=round(accuracy_score(val_impact,val_pred_gb)*100.0,2)\n",
    "train_accgb=round(accuracy_score(y_balanced,y_predgb)*100.0,2)\n",
    "f1_gb=round(f1_score(y_balanced, y_predgb, average='macro'),4)"
   ]
  },
  {
   "cell_type": "code",
   "execution_count": 123,
   "metadata": {
    "colab": {
     "base_uri": "https://localhost:8080/",
     "height": 299
    },
    "id": "qFMMK_ZziyW_",
    "outputId": "d6d992f4-8b41-431d-8bfd-962170bd7055"
   },
   "outputs": [
    {
     "data": {
      "text/html": [
       "<div>\n",
       "<style scoped>\n",
       "    .dataframe tbody tr th:only-of-type {\n",
       "        vertical-align: middle;\n",
       "    }\n",
       "\n",
       "    .dataframe tbody tr th {\n",
       "        vertical-align: top;\n",
       "    }\n",
       "\n",
       "    .dataframe thead th {\n",
       "        text-align: right;\n",
       "    }\n",
       "</style>\n",
       "<table border=\"1\" class=\"dataframe\">\n",
       "  <thead>\n",
       "    <tr style=\"text-align: right;\">\n",
       "      <th></th>\n",
       "      <th>MODEL</th>\n",
       "      <th>Test Accuracy</th>\n",
       "      <th>Train Accuracy</th>\n",
       "      <th>f1 score</th>\n",
       "    </tr>\n",
       "  </thead>\n",
       "  <tbody>\n",
       "    <tr>\n",
       "      <th>0</th>\n",
       "      <td>Random forest</td>\n",
       "      <td>98.29</td>\n",
       "      <td>99.87</td>\n",
       "      <td>0.9987</td>\n",
       "    </tr>\n",
       "    <tr>\n",
       "      <th>1</th>\n",
       "      <td>Decision tree</td>\n",
       "      <td>96.92</td>\n",
       "      <td>99.87</td>\n",
       "      <td>0.9987</td>\n",
       "    </tr>\n",
       "    <tr>\n",
       "      <th>2</th>\n",
       "      <td>Logistic regression</td>\n",
       "      <td>41.09</td>\n",
       "      <td>44.87</td>\n",
       "      <td>0.4478</td>\n",
       "    </tr>\n",
       "    <tr>\n",
       "      <th>3</th>\n",
       "      <td>Multinomial NB</td>\n",
       "      <td>31.75</td>\n",
       "      <td>41.09</td>\n",
       "      <td>0.4058</td>\n",
       "    </tr>\n",
       "    <tr>\n",
       "      <th>4</th>\n",
       "      <td>Gaussian NB</td>\n",
       "      <td>59.20</td>\n",
       "      <td>49.45</td>\n",
       "      <td>0.4924</td>\n",
       "    </tr>\n",
       "    <tr>\n",
       "      <th>5</th>\n",
       "      <td>kNeighbors</td>\n",
       "      <td>94.46</td>\n",
       "      <td>99.85</td>\n",
       "      <td>0.9985</td>\n",
       "    </tr>\n",
       "    <tr>\n",
       "      <th>6</th>\n",
       "      <td>XGBoost</td>\n",
       "      <td>95.41</td>\n",
       "      <td>98.48</td>\n",
       "      <td>0.9848</td>\n",
       "    </tr>\n",
       "    <tr>\n",
       "      <th>7</th>\n",
       "      <td>Gradient boosting</td>\n",
       "      <td>80.65</td>\n",
       "      <td>83.67</td>\n",
       "      <td>0.8367</td>\n",
       "    </tr>\n",
       "  </tbody>\n",
       "</table>\n",
       "</div>"
      ],
      "text/plain": [
       "                 MODEL  Test Accuracy  Train Accuracy  f1 score\n",
       "0        Random forest          98.29           99.87    0.9987\n",
       "1        Decision tree          96.92           99.87    0.9987\n",
       "2  Logistic regression          41.09           44.87    0.4478\n",
       "3       Multinomial NB          31.75           41.09    0.4058\n",
       "4          Gaussian NB          59.20           49.45    0.4924\n",
       "5           kNeighbors          94.46           99.85    0.9985\n",
       "6              XGBoost          95.41           98.48    0.9848\n",
       "7    Gradient boosting          80.65           83.67    0.8367"
      ]
     },
     "execution_count": 123,
     "metadata": {},
     "output_type": "execute_result"
    }
   ],
   "source": [
    "data = {\"MODEL\":pd.Series([\"Random forest\",\"Decision tree\",\"Logistic regression\",'Multinomial NB',\n",
    "        \"Gaussian NB\", \"kNeighbors\",\"XGBoost\",'Gradient boosting']),\n",
    "        \"Test Accuracy\":pd.Series([acc_rf,acc_dt,acc_logreg,acc_multinb,acc_gaussnb,acc_knn,acc_xgb,acc_gb]),\n",
    "        'Train Accuracy': pd.Series([train_accrf,train_accdt,train_acclogreg,train_accmnb,train_accgnb,\n",
    "         train_accknn,train_accxgb,train_accgb]),\n",
    "        'f1 score': pd.Series([f1_rf,f1_dt,f1_logreg,f1_mnb,f1_gnb,f1_knn,f1_xgb,f1_gb])}\n",
    "table=pd.DataFrame(data)\n",
    "table"
   ]
  },
  {
   "cell_type": "markdown",
   "metadata": {
    "id": "rVHET0gCyaQm"
   },
   "source": [
    "Impact prediction using Random forest model showed the highest accuarcy and f1score. Therefore, this model is used for deployment to predict the impact of the incidents. (High,Medium and Low)"
   ]
  },
  {
   "cell_type": "code",
   "execution_count": 169,
   "metadata": {
    "id": "70dh-i1tyu-J"
   },
   "outputs": [],
   "source": [
    "import pickle as p\n",
    "p_out  = open(\"model_xgb.pkl\", \"wb\")\n",
    "p.dump(model_xgb, p_out)\n",
    "p_out.close()"
   ]
  }
 ],
 "metadata": {
  "colab": {
   "collapsed_sections": [],
   "name": "Model_building.ipynb",
   "provenance": []
  },
  "kernelspec": {
   "display_name": "Python 3",
   "language": "python",
   "name": "python3"
  },
  "language_info": {
   "codemirror_mode": {
    "name": "ipython",
    "version": 3
   },
   "file_extension": ".py",
   "mimetype": "text/x-python",
   "name": "python",
   "nbconvert_exporter": "python",
   "pygments_lexer": "ipython3",
   "version": "3.8.5"
  }
 },
 "nbformat": 4,
 "nbformat_minor": 1
}
